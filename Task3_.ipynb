{
  "nbformat": 4,
  "nbformat_minor": 0,
  "metadata": {
    "kernelspec": {
      "display_name": "Python 3",
      "language": "python",
      "name": "python3"
    },
    "language_info": {
      "codemirror_mode": {
        "name": "ipython",
        "version": 3
      },
      "file_extension": ".py",
      "mimetype": "text/x-python",
      "name": "python",
      "nbconvert_exporter": "python",
      "pygments_lexer": "ipython3",
      "version": "3.8.5"
    },
    "colab": {
      "name": "Task3_Overfit-checkpoint(solved).ipynb",
      "provenance": [],
      "include_colab_link": true
    }
  },
  "cells": [
    {
      "cell_type": "markdown",
      "metadata": {
        "id": "view-in-github",
        "colab_type": "text"
      },
      "source": [
        "<a href=\"https://colab.research.google.com/github/yaroslav711/ml_spring2021/blob/main/Task3_.ipynb\" target=\"_parent\"><img src=\"https://colab.research.google.com/assets/colab-badge.svg\" alt=\"Open In Colab\"/></a>"
      ]
    },
    {
      "cell_type": "markdown",
      "metadata": {
        "id": "UfgKbYKRv-J0"
      },
      "source": [
        "# ML T-Generation Занятие 3: Линейная регрессия.\n",
        "# Проблема переобучения. Кросс-валидация и регуляризация.\n",
        "\n",
        "Авторы: Гаркавый Андрей (andrewgarkavyy@gmail.com), Кирилл Васильев (kirivasile@yandex.ru)\n",
        "\n",
        "\n",
        "## 0. План\n",
        "\n",
        "1. Приближение одномерной функции многочленом\n",
        "\n",
        "2. Переобучение\n",
        "\n",
        "3. Выводы\n",
        "\n",
        "4. Разделение на тренировочную и тестовую части\n",
        "\n",
        "5. Кросс-валидация\n",
        "\n",
        "6. Линейная регрессия\n",
        "\n",
        "7. Как подбираются коэффициенты\n",
        "\n",
        "8. Регуляризация\n",
        "\n",
        "## 1. Приближение одномерной функции многочленом\n",
        "\n",
        "Начнем с простой задачи.\n",
        "\n",
        "\n",
        "1) Есть функция $f(x)$, но мы ее не знаем.\n",
        "\n",
        "2) Зато мы знаем ее значения в $m$ точках (они называются тренировочным множеством):\n",
        "$$f(x_1) = y_1$$\n",
        "$$\\cdots$$\n",
        "$$f(x_m) = y_m$$\n",
        "3) Нужно научиться приблизительно восстанавливать эту функцию."
      ]
    },
    {
      "cell_type": "markdown",
      "metadata": {
        "id": "uSdDlvfSv-J4"
      },
      "source": [
        "Самый простой способ - научиться приближать её многочленом, а именно давайте подберем такие коэффициенты $a_0, a_1, \\ldots, a_n$, чтобы многочлен $P(x) = a_0 + a_1x + a_2x^2 + \\ldots + a_nx^n$ был как можно ближе к $f(x)$."
      ]
    },
    {
      "cell_type": "markdown",
      "metadata": {
        "id": "1GtCe71Uv-J5"
      },
      "source": [
        "Но что такое \"приблизить\"? Мы знаем лишь значения в $m$ точках, так что в лучшем случае она должна проходить через все эти точки (хотя скоро мы увидим, что это не так)."
      ]
    },
    {
      "cell_type": "markdown",
      "metadata": {
        "id": "YRHm_I6Uv-J5"
      },
      "source": [
        "В этом случае обычно пытаются минимизировать сумму квадратов ошибок во всех точках, то есть **функцию потерь** $$L(P) = \\sum_i (P(x_i) - f(x_i))^2 $$\n",
        "\n",
        "Эту величину называют **MSE** - Mean Squared Error (средняя квадратичная ошибка)."
      ]
    },
    {
      "cell_type": "markdown",
      "metadata": {
        "id": "_xaX0brkv-J6"
      },
      "source": [
        "Тут может возникнуть вопрос, почему мы берем именно сумму квадратов, а не, например, сумму модулей. Однозначного ответа на этот вопрос нет, наиболее удачный ответ, пожалуй такой: у суммы квадратов есть много удобных свойств, например это выпуклая, дифференцируемая функция. Тем не менее иногда другой выбор может быть оправданным. Если вам интересно чуть больше понять про смысл этих условий, можете решить такие задачи:\n",
        "\n",
        "**(0.5 балла) Доп. Задача 1.** Найдите число m такое, что для заданных $x_i$ сумма $\\sum|m - x_i|$ минимальна\n",
        "\n",
        "<Место для решения>\n",
        "\n",
        "**(0.5 балла) Доп. Задача 2.** Найдите число m такое, что для заданных $x_i$ сумма $\\sum(m - x_i)^2$ минимальна\n",
        "\n",
        "\n",
        "<место для решения>\n",
        "\n",
        "Сейчас можно их и пропустить.\n"
      ]
    },
    {
      "cell_type": "markdown",
      "metadata": {
        "id": "9jAwrKDKv-J6"
      },
      "source": [
        "В питоне есть пакет scipy, в котором как раз есть решение этой задаче - подбор такого многочлена для заданных точек, что среднеквадратичная ошибка минимальна.\n",
        "\n",
        "Чтобы им пользоваться, вам нужно ввести в консоли Анаконды `conda install scipy`. Или, если вы настроили pip `pip install scipy`"
      ]
    },
    {
      "cell_type": "code",
      "metadata": {
        "id": "K1s-UmJKv-J7"
      },
      "source": [
        "import numpy as np\n",
        "import pandas as pd\n",
        "%matplotlib inline\n",
        "from matplotlib import pyplot as plt"
      ],
      "execution_count": null,
      "outputs": []
    },
    {
      "cell_type": "markdown",
      "metadata": {
        "id": "6XudrCwfv-J8"
      },
      "source": [
        "Сначала просто нарисуем какой-нибудь многочлен, например $f(x) = 3x^3 - 2x^2 + x$ на отрезке $[-1, 1]$:"
      ]
    },
    {
      "cell_type": "code",
      "metadata": {
        "id": "BD_jxSWHv-J8"
      },
      "source": [
        "def f(x):\n",
        "    return 3 * x ** 3 - 2 * x**2 + x"
      ],
      "execution_count": null,
      "outputs": []
    },
    {
      "cell_type": "code",
      "metadata": {
        "id": "oDv6HtMmv-J9",
        "outputId": "f66d3fb4-466b-4a29-975c-78d0c161b4fa"
      },
      "source": [
        "x100 = np.linspace(-1, 1, 100)\n",
        "plt.plot(x100, f(x100))"
      ],
      "execution_count": null,
      "outputs": [
        {
          "output_type": "execute_result",
          "data": {
            "text/plain": [
              "[<matplotlib.lines.Line2D at 0x1bbf30e4f40>]"
            ]
          },
          "metadata": {
            "tags": []
          },
          "execution_count": 3
        },
        {
          "output_type": "display_data",
          "data": {
            "image/png": "[encoded data removed]",
            "text/plain": [
              "<Figure size 432x288 with 1 Axes>"
            ]
          },
          "metadata": {
            "tags": [],
            "needs_background": "light"
          }
        }
      ]
    },
    {
      "cell_type": "markdown",
      "metadata": {
        "id": "NRWx4wUPv-J-"
      },
      "source": [
        "Теперь зададим набор точек (10 штук) и посмотрим что будет, если подобрать по ним коэффициенты нашего многочлена:"
      ]
    },
    {
      "cell_type": "code",
      "metadata": {
        "id": "5beascgnv-J_",
        "outputId": "ccd986c5-3473-4ca6-f739-72567065df37"
      },
      "source": [
        "x = np.linspace(-1, 1, 10)  # 10 точек на отрезке [-1, 1]\n",
        "y = f(x)\n",
        "coefs = np.polyfit(x, y, deg = 2)\n",
        "coefs"
      ],
      "execution_count": null,
      "outputs": [
        {
          "output_type": "execute_result",
          "data": {
            "text/plain": [
              "array([-2.00000000e+00,  3.17037037e+00, -5.61733355e-16])"
            ]
          },
          "metadata": {
            "tags": []
          },
          "execution_count": 4
        }
      ]
    },
    {
      "cell_type": "markdown",
      "metadata": {
        "id": "-wlhCyQTv-J_"
      },
      "source": [
        "(это означает многочлен $-2x^2 + 3.17037 x$)"
      ]
    },
    {
      "cell_type": "markdown",
      "metadata": {
        "id": "7d7YRy_8v-KA"
      },
      "source": [
        "scipy позволяет легко работать с многочленами, заданными их коэффициентами. Мы можем создать из них объект poly1d, который можно будет просто вызывать для получения нужных значений:"
      ]
    },
    {
      "cell_type": "code",
      "metadata": {
        "id": "qE6sAX5bv-KA",
        "outputId": "0fcaff4a-dbdb-4156-8753-1d6609d05b77"
      },
      "source": [
        "poly = np.poly1d(coefs)\n",
        "poly(0), poly(1), poly(2)"
      ],
      "execution_count": null,
      "outputs": [
        {
          "output_type": "execute_result",
          "data": {
            "text/plain": [
              "(-5.617333549722722e-16, 1.1703703703703718, -1.6592592592592543)"
            ]
          },
          "metadata": {
            "tags": []
          },
          "execution_count": 5
        }
      ]
    },
    {
      "cell_type": "code",
      "metadata": {
        "id": "--g7ttSev-KA",
        "outputId": "c18ffced-532f-4e32-fbdd-a5710462402e"
      },
      "source": [
        "plt.scatter(x, y)\n",
        "plt.plot(x100, f(x100))\n",
        "plt.plot(x100, poly(x100))"
      ],
      "execution_count": null,
      "outputs": [
        {
          "output_type": "execute_result",
          "data": {
            "text/plain": [
              "[<matplotlib.lines.Line2D at 0x1bbf344c1f0>]"
            ]
          },
          "metadata": {
            "tags": []
          },
          "execution_count": 6
        },
        {
          "output_type": "display_data",
          "data": {
            "image/png": "[encoded data removed]",
            "text/plain": [
              "<Figure size 432x288 with 1 Axes>"
            ]
          },
          "metadata": {
            "tags": [],
            "needs_background": "light"
          }
        }
      ]
    },
    {
      "cell_type": "markdown",
      "metadata": {
        "id": "1AVc5pY0v-KB"
      },
      "source": [
        "Довольно ожидаемо, наша функция (оранжевая) не очень похожа на то, что мы искали (синяя). Наверное зря мы пытаемся приблизить кубическую функцию многочленом второй степени. Давайте попробуем 3-ю степень."
      ]
    },
    {
      "cell_type": "code",
      "metadata": {
        "id": "zFtJKt7_v-KB",
        "outputId": "d9934a53-3b88-4cff-ec54-2210889fdffe"
      },
      "source": [
        "coefs = np.polyfit(x, y, deg = 3)\n",
        "poly = np.poly1d(coefs)\n",
        "plt.scatter(x, y)\n",
        "plt.plot(x100, f(x100))\n",
        "plt.plot(x100, poly(x100))"
      ],
      "execution_count": null,
      "outputs": [
        {
          "output_type": "execute_result",
          "data": {
            "text/plain": [
              "[<matplotlib.lines.Line2D at 0x1bbf34bc910>]"
            ]
          },
          "metadata": {
            "tags": []
          },
          "execution_count": 7
        },
        {
          "output_type": "display_data",
          "data": {
            "image/png": "[encoded data removed]",
            "text/plain": [
              "<Figure size 432x288 with 1 Axes>"
            ]
          },
          "metadata": {
            "tags": [],
            "needs_background": "light"
          }
        }
      ]
    },
    {
      "cell_type": "markdown",
      "metadata": {
        "id": "y3b8ikzAv-KC"
      },
      "source": [
        "На этот раз мы в точности угадали функцию. Можете проверить, что если увеличивать степень многочлена, результат не меняется: более высокие степени тут просто не нужны.\n",
        "\n",
        "Но мы сейчас жили в идеальном мире. На практике чаще всего известные нам значения не совсем точны. Давайте добавим к значениям нашей функции немного шума:"
      ]
    },
    {
      "cell_type": "code",
      "metadata": {
        "id": "ShpOxFYPv-KC"
      },
      "source": [
        "np.random.seed(42)\n",
        "x = np.linspace(-1, 1, 10)\n",
        "y = f(x) + np.random.normal(0, 0.5, 10)  # случайный шум"
      ],
      "execution_count": null,
      "outputs": []
    },
    {
      "cell_type": "code",
      "metadata": {
        "id": "LalsdkyEv-KC",
        "outputId": "3330b502-087a-4b8d-eb4d-96b0903c3a06"
      },
      "source": [
        "coefs = np.polyfit(x, y, deg = 3)\n",
        "poly = np.poly1d(coefs)\n",
        "plt.scatter(x, y)\n",
        "plt.plot(x100, f(x100))\n",
        "plt.plot(x100, poly(x100))"
      ],
      "execution_count": null,
      "outputs": [
        {
          "output_type": "execute_result",
          "data": {
            "text/plain": [
              "[<matplotlib.lines.Line2D at 0x1bbf3529910>]"
            ]
          },
          "metadata": {
            "tags": []
          },
          "execution_count": 9
        },
        {
          "output_type": "display_data",
          "data": {
            "image/png": "[encoded data removed]",
            "text/plain": [
              "<Figure size 432x288 with 1 Axes>"
            ]
          },
          "metadata": {
            "tags": [],
            "needs_background": "light"
          }
        }
      ]
    },
    {
      "cell_type": "markdown",
      "metadata": {
        "id": "zHLqBSpwv-KD"
      },
      "source": [
        "Теперь мы почти попали. Перед тем как читать дальше, подумайте над заданием.\n",
        "\n",
        "**(1 балл) Обязательное задание 1:** попробуйте увеличить степень полинома. Что произойдет с графиком нашего приближения? Посмотрите  как обе функции себя ведут вне интервала x. Попробуйте сформулировать проблему, с которой мы столкнулись."
      ]
    },
    {
      "cell_type": "code",
      "metadata": {
        "id": "aLnKUMOXv-KD",
        "outputId": "f44b5635-3baa-44cc-b1dc-1e1c35f04341"
      },
      "source": [
        "# Место для решения\n",
        "coefs = np.polyfit(x, y, deg = 6)\n",
        "poly = np.poly1d(coefs)\n",
        "plt.scatter(x, y)\n",
        "plt.plot(x100, f(x100))\n",
        "plt.plot(x100, poly(x100))"
      ],
      "execution_count": null,
      "outputs": [
        {
          "output_type": "execute_result",
          "data": {
            "text/plain": [
              "[<matplotlib.lines.Line2D at 0x1bbf358b2b0>]"
            ]
          },
          "metadata": {
            "tags": []
          },
          "execution_count": 10
        },
        {
          "output_type": "display_data",
          "data": {
            "image/png": "[encoded data removed]",
            "text/plain": [
              "<Figure size 432x288 with 1 Axes>"
            ]
          },
          "metadata": {
            "tags": [],
            "needs_background": "light"
          }
        }
      ]
    },
    {
      "cell_type": "markdown",
      "metadata": {
        "id": "ZElp5NMbv-KE"
      },
      "source": [
        "    Полученная функция проходит через заданные точки с меньшей среднеквадратичной ошибкой, но все меньше совпадает с искомой функцией 3 степени"
      ]
    },
    {
      "cell_type": "code",
      "metadata": {
        "id": "hPQ8-R-Rv-KE",
        "outputId": "d5cf3e38-e6d7-4d97-e5ec-d100f15011da"
      },
      "source": [
        "plt.plot(x100, f(np.linspace(-2, 2, 100)))\n",
        "plt.plot(x100, poly(np.linspace(-2, 2, 100)))"
      ],
      "execution_count": null,
      "outputs": [
        {
          "output_type": "execute_result",
          "data": {
            "text/plain": [
              "[<matplotlib.lines.Line2D at 0x1bbf353ebb0>]"
            ]
          },
          "metadata": {
            "tags": []
          },
          "execution_count": 11
        },
        {
          "output_type": "display_data",
          "data": {
            "image/png": "[encoded data removed]",
            "text/plain": [
              "<Figure size 432x288 with 1 Axes>"
            ]
          },
          "metadata": {
            "tags": [],
            "needs_background": "light"
          }
        }
      ]
    },
    {
      "cell_type": "markdown",
      "metadata": {
        "id": "eZndc7kjv-KE"
      },
      "source": [
        "Найденная функция хорошо проходит через заданные точки обучающей выборки, но имеет мало общего с реальной заданной функцией, которую мы стремимся получить"
      ]
    },
    {
      "cell_type": "markdown",
      "metadata": {
        "id": "SXwGbduFv-KE"
      },
      "source": [
        "То, что вы увидели при решении этого задания называется в машинном обучении **переобучением** (overfittig).\n",
        "\n",
        "Если мы используем достаточно сложную модель (то есть модель, у которой много параметров, в нашем случае -- многочлен достаточно высокой степени), то у модели появляется возможность \"выучить\" все точки, которые она видела. Например, если задано $m$ точек, всегда можно подобрать многочлен степени $m-1$, который через них проходит (если вы не знакомы с этим фактом, можете подумать, как его доказать).\n"
      ]
    },
    {
      "cell_type": "markdown",
      "metadata": {
        "id": "i2iSjOYtv-KF"
      },
      "source": [
        "## 2. Переобучение"
      ]
    },
    {
      "cell_type": "code",
      "metadata": {
        "id": "su8VzYTyv-KF"
      },
      "source": [
        ""
      ],
      "execution_count": null,
      "outputs": []
    },
    {
      "cell_type": "markdown",
      "metadata": {
        "id": "64-fjfbZv-KF"
      },
      "source": [
        "\"Честный\" способ проверять качество нашей апроксимации -- **смотреть точность в точках, которые мы не использовали при подборе многочлена**. Это множество часто называют тестовым множеством. Давайте зададим его так:"
      ]
    },
    {
      "cell_type": "code",
      "metadata": {
        "id": "6tS8y-ybv-KF",
        "outputId": "a5cdc169-4648-4f78-dcdb-3ad66f623292"
      },
      "source": [
        "np.random.seed(42)\n",
        "# возьмем 10 случайных точек от 0 до 1\n",
        "x_test = np.random.random(10) \n",
        "\n",
        "# превратим их в 10 случайных точек от -1 до 1\n",
        "x_test = 2 * x_test - 1\n",
        "x_test"
      ],
      "execution_count": null,
      "outputs": [
        {
          "output_type": "execute_result",
          "data": {
            "text/plain": [
              "array([-0.25091976,  0.90142861,  0.46398788,  0.19731697, -0.68796272,\n",
              "       -0.68801096, -0.88383278,  0.73235229,  0.20223002,  0.41614516])"
            ]
          },
          "metadata": {
            "tags": []
          },
          "execution_count": 19
        }
      ]
    },
    {
      "cell_type": "markdown",
      "metadata": {
        "id": "GA6zWC3rv-KG"
      },
      "source": [
        "**(1 балл)  Обязательное задание 2:** напишите функцию, которая для данного многочлена считает его качество на тестовом множестве (то есть среднеквадратичное отклонение между значениями функции $f$ и многочлена $P$ на тестовой выборке).\n",
        "\n",
        "Вы все прошлое занятие изучали разные функции, попробуйте сделать MSE как можно более компактной функцией (желательно в одну строчку)."
      ]
    },
    {
      "cell_type": "code",
      "metadata": {
        "id": "kYO_XuSmv-KG"
      },
      "source": [
        "# y_real - это np.array c реальными значениями в точках\n",
        "# y_pred - это np.array c предсказанными нами значениями в точках\n",
        "# они одной длины\n",
        "def MSE(y_real, y_pred):\n",
        "    return (((y_real - y_pred)**2).sum())/(len(y_pred))\n",
        " "
      ],
      "execution_count": null,
      "outputs": []
    },
    {
      "cell_type": "markdown",
      "metadata": {
        "id": "GQaYjP4Rv-KH"
      },
      "source": [
        "**(1 балл) Обязательное задание 3:** нарисуйте график зависимости ошибки на тестовом множестве от степени многочлена. При какой степени ошибка минимальна?\n"
      ]
    },
    {
      "cell_type": "code",
      "metadata": {
        "id": "-fHWVj4ev-KH",
        "outputId": "84d5d18f-0650-4ebc-acc9-b18a5d084ac8"
      },
      "source": [
        "mse = []\n",
        "for i in range(10):\n",
        "    coefs = np.polyfit(x, y, deg = i)\n",
        "    poly = np.poly1d(coefs)\n",
        "    mse.append(MSE(f(x_test), poly(x_test)))\n",
        "\n",
        "#result\n",
        "print(f'лучший результат при deg = {np.array(mse).argmin()}')\n",
        "\n",
        "#plot diagram\n",
        "plt.figure(figsize=(10, 6))\n",
        "plt.plot(np.linspace(0, 9, 10), mse)\n",
        "plt.title('MSE при разных степенях полинома')\n",
        "plt.ylabel('MSE')\n",
        "plt.xlabel('deg')\n",
        "plt.show()"
      ],
      "execution_count": null,
      "outputs": [
        {
          "output_type": "stream",
          "text": [
            "лучший результат при deg = 4\n"
          ],
          "name": "stdout"
        },
        {
          "output_type": "display_data",
          "data": {
            "image/png": "[encoded data removed]",
            "text/plain": [
              "<Figure size 720x432 with 1 Axes>"
            ]
          },
          "metadata": {
            "tags": [],
            "needs_background": "light"
          }
        }
      ]
    },
    {
      "cell_type": "markdown",
      "metadata": {
        "id": "TKhi_f0wv-KH"
      },
      "source": [
        "**(1 балл) Доп. задача 5:** как меняется график, если увеличивать количество точек в множестве, на котором мы подбираем многочлен?"
      ]
    },
    {
      "cell_type": "code",
      "metadata": {
        "id": "A3mcg-fSv-KI",
        "outputId": "19ad2d75-5c53-45a6-dd67-ce6e3e285eba"
      },
      "source": [
        "# место для решения\n",
        "x_new = np.linspace(-1, 1, 20)\n",
        "y_new = f(x_new) + np.random.normal(0, 0.5, 20)\n",
        "mse = []\n",
        "for i in range(10):\n",
        "    coefs = np.polyfit(x_new, y_new, deg = i)\n",
        "    poly = np.poly1d(coefs)\n",
        "    mse.append(MSE(f(x_test), poly(x_test)))\n",
        "\n",
        "#result\n",
        "print(f'лучший результат при deg = {np.array(mse).argmin()}')\n",
        "\n",
        "#plot diagram\n",
        "plt.figure(figsize=(10, 6))\n",
        "plt.plot(np.linspace(0, 9, 10), mse)\n",
        "plt.title('MSE при разных степенях полинома')\n",
        "plt.ylabel('MSE')\n",
        "plt.xlabel('deg')\n",
        "plt.show()"
      ],
      "execution_count": null,
      "outputs": [
        {
          "output_type": "stream",
          "text": [
            "лучший результат при deg = 3\n"
          ],
          "name": "stdout"
        },
        {
          "output_type": "display_data",
          "data": {
            "image/png": "[encoded data removed]",
            "text/plain": [
              "<Figure size 720x432 with 1 Axes>"
            ]
          },
          "metadata": {
            "tags": [],
            "needs_background": "light"
          }
        }
      ]
    },
    {
      "cell_type": "markdown",
      "metadata": {
        "id": "miZtKrwwv-KI"
      },
      "source": [
        "При увеличении объема обучающей выборки мы видим, что эффект переобучения менее выражен."
      ]
    },
    {
      "cell_type": "markdown",
      "metadata": {
        "id": "ujB1x33Tv-KI"
      },
      "source": [
        "## 3. Выводы\n",
        "\n",
        "1) Цель машинного обучения с учителем - приблизить **целевую функцию** (target) по её значениям (возможно приблзительным) в некоторых точках.\n",
        "\n",
        "В нашем случае - это $f(x) = 3x^3 - 2x^2 + x$. Обычно она, конечно, никому неизвестна.\n",
        "\n",
        "2) Множество точек с известным значением функции называется **тренировочным множеством** (train).\n",
        "\n",
        "В нашем случае - это 10 точек, выбранных равномерно на отрезке $[-1, 1]$.\n",
        "\n",
        "3) Чтобы приблизить функцию, нужно использовать какую-то **модель** (model), приближающую функцию.\n",
        "\n",
        "В данном случае - это многочлен $P(x) = a_0 + a_1x + a_2x^2 + \\ldots + a_nx^n$.\n",
        "\n",
        "4) Мы выбираем **функцию потерь** (loss function) для сравнения результатов модели и реальных значения на тренировочном множестве. Чем она меньше, тем лучше наша модель.\n",
        "\n",
        "В данном случае - это $MSE = \\sum_i (P(x_i) - f(x_i))^2$.\n",
        "\n",
        "5) У модели есть **параметры**, которые мы выбираем так, чтобы функция потерь на тренировочном множестве была минимальна.\n",
        "\n",
        "В данном случае - это коэффициенты многочлена ($a_0, a_1, \\ldots, a_n$). Выбираются они с помощью пока магической для нас функции polyfit.\n",
        "\n",
        "6) У модели есть **гиперпараметры**, которые мы выбираем сами.\n",
        "\n",
        "В данном случае - это степень многочлена (число $n$).\n",
        "\n",
        "7) Однако такой подход с минимизацией функции потерь может привести к тому, что мы идеально приблизим функцию на тренировочном множестве, но она будет абсолютно отличаться во всех остальных точках. Это явление называется **переобучением**.\n",
        "\n",
        "В данном случае - мы видели, что если степень многочлена большая (больше трех), то мы попадаем во все точки, но при этом сам многочлен сильно отличается от $f(x)$.\n",
        "\n",
        "8) Чтобы бороться с переобучением, полезно выделить **тестовое множество** точек, в которых мы тоже знаем результаты функции. Оно никак не используется при обучении модели, и нужно только для валидации результата.\n",
        "\n",
        "В данном случае - мы взяли рандомные 10 точек на отрезке $[-1, 1]$.\n",
        "\n",
        "9) В идеальном случае функция потерь на тренировочном и тестовом множестве не отличается. А вот если на тренировочном функция потерь получается гораздо меньше, чем на тестовом, то это говорит о том, что происходит переобучение.\n",
        "\n",
        "Действительно, при большой степени MSE близка к или равна нулю на тренировочном множестве, а на тестовом множестве нет.\n",
        "\n",
        "10) Единственный пока способ, который мы знаем, чтобы влиять на переобучение - это перебирать **гиперпараметры** модели так, чтобы **минимизировать функцию потерь на тестовом множестве**.\n",
        "\n",
        "Действительно, если выбрать степень 3, то функция потерь окажется минимальной на тестовом множестве, как мы видели в задании 3."
      ]
    },
    {
      "cell_type": "markdown",
      "metadata": {
        "id": "__LfwMGIv-KI"
      },
      "source": [
        "## 4. Разделение на тренировочную и тестовую части"
      ]
    },
    {
      "cell_type": "markdown",
      "metadata": {
        "id": "JLHBwKtdv-KJ"
      },
      "source": [
        "Если вы решите поучаствовать в каком-нибудь соревновании по машинному обучению, вы увидите, что тестовое множество вам недоступно (иначе было бы неинтересно: очень легко обучиться предсказывать то, что ты уже видел).\n",
        "\n",
        "В реальной жизни обычно тоже считают, что на тестовом множестве можно провериться один раз -- в самом конце. Иначе вы начнете подкручивать гиперпараметры глядя на результат на тестовой выборке и, сами того не замечая, переобучитесь.\n",
        "\n",
        "Как поступать в такой ситуации? Придется пожертвовать частью точек, которые даны нам для обучения и использовать их для подбора гиперпараметров в нашем алгоритме (в нашем случае это степень многочлена).\n",
        "\n",
        "То есть придется из точек, у которых мы знаем результаты, убрать, например, 10% в тестовое множество.\n",
        "\n",
        "Функция для этого есть, например, в пакете sklearn, который можно скачать так: `pip install scikit-learn` (`conda install scikit-learn`)"
      ]
    },
    {
      "cell_type": "code",
      "metadata": {
        "id": "pwksI_zcv-KJ"
      },
      "source": [
        "X = np.linspace(-1, 1, 50)\n",
        "y = f(X)"
      ],
      "execution_count": null,
      "outputs": []
    },
    {
      "cell_type": "code",
      "metadata": {
        "id": "lRGvNjGlv-KJ"
      },
      "source": [
        "from sklearn.model_selection import train_test_split\n",
        "X_train, X_test, y_train, y_test = train_test_split(X, y, test_size=0.1)"
      ],
      "execution_count": null,
      "outputs": []
    },
    {
      "cell_type": "code",
      "metadata": {
        "id": "w0whGePyv-KK",
        "outputId": "9e6dd5de-3281-4d31-e3d9-ed797b3595db"
      },
      "source": [
        "X_train, y_train"
      ],
      "execution_count": null,
      "outputs": [
        {
          "output_type": "execute_result",
          "data": {
            "text/plain": [
              "(array([ 0.06122449,  0.59183673,  0.67346939, -0.59183673,  0.79591837,\n",
              "        -0.06122449,  0.42857143, -0.18367347,  0.87755102, -0.51020408,\n",
              "        -0.83673469, -0.26530612,  0.14285714,  1.        , -0.42857143,\n",
              "        -0.3877551 ,  0.46938776,  0.18367347,  0.2244898 ,  0.34693878,\n",
              "        -0.55102041,  0.75510204,  0.95918367,  0.26530612,  0.51020408,\n",
              "        -0.63265306, -0.14285714, -0.79591837,  0.71428571,  0.91836735,\n",
              "        -0.34693878,  0.83673469,  0.3877551 , -0.71428571, -0.75510204,\n",
              "         0.10204082, -0.2244898 , -0.95918367,  0.02040816, -0.67346939,\n",
              "        -0.46938776, -0.02040816, -0.87755102, -0.30612245,  0.55102041]),\n",
              " array([ 0.0544161 ,  0.51320453,  0.68272574, -1.91428741,  1.04155581,\n",
              "        -0.06940985,  0.29737609, -0.26973455,  1.36475448, -1.42925142,\n",
              "        -3.99444109, -0.46210338,  0.11078717,  2.        , -1.03206997,\n",
              "        -0.86336475,  0.33899141,  0.13479078,  0.1576384 ,  0.23148518,\n",
              "        -1.66017561,  0.90637404,  1.76655985,  0.18055402,  0.3880186 ,\n",
              "        -2.19281082, -0.19241983, -3.5755    ,  0.78717201,  1.55521934,\n",
              "        -0.71295124,  1.1939413 ,  0.26194868, -2.82798834, -3.18709041,\n",
              "         0.08440361, -0.35922107, -5.44669313,  0.01960068, -2.4969698 ,\n",
              "        -1.22029087, -0.02126665, -4.44513766, -0.57960544,  0.44568165]))"
            ]
          },
          "metadata": {
            "tags": []
          },
          "execution_count": 29
        }
      ]
    },
    {
      "cell_type": "code",
      "metadata": {
        "id": "aegAFTI-v-KK",
        "outputId": "cefeaa6e-7258-41c1-88c7-14907e0b531a"
      },
      "source": [
        "X_test, y_test"
      ],
      "execution_count": null,
      "outputs": [
        {
          "output_type": "execute_result",
          "data": {
            "text/plain": [
              "(array([ 0.63265306, -0.10204082, -0.91836735,  0.30612245, -1.        ]),\n",
              " array([ 0.59181124, -0.12605292, -4.92881367,  0.20476162, -6.        ]))"
            ]
          },
          "metadata": {
            "tags": []
          },
          "execution_count": 30
        }
      ]
    },
    {
      "cell_type": "markdown",
      "metadata": {
        "id": "MIwzFBQDv-KK"
      },
      "source": [
        "## 5. Кросс-валидация\n",
        "\n",
        "Также есть более точный способ проводить валидацию результата. Если разделить множество один раз на тестовое и тренировочное, то это может значительно влиять на результат. Вдруг в тестовое множество случайно попали такие точки, в которых предсказать значение тяжелее или легче, чем обычно?\n",
        "\n",
        "Тогда можно применить **кросс-валидацию** - давайте разделим множество на 10 примерно равных частей, тогда у нас есть 10 разделений на тренировочное и тестовое множество - как тестовое множество выберем по очереди каждую из этих частей, а как тренировочное выберем все остальные части. В итоге, все элементы множества побывают и в тренировочной, и в тестовой чати.\n",
        "\n",
        "Можно посчитать результат на каждом из 10 разбиений и просто усреднить результат.\n"
      ]
    },
    {
      "cell_type": "code",
      "metadata": {
        "id": "r74TMpUDv-KK",
        "outputId": "c543b614-896b-4893-efdd-59e081594661"
      },
      "source": [
        "# Есть вот такая удобная штука\n",
        "from sklearn.model_selection import KFold\n",
        "kf = KFold(n_splits=10)\n",
        "kf.get_n_splits(X)\n",
        "for train_index, test_index in kf.split(X):\n",
        "    print(test_index, train_index)"
      ],
      "execution_count": null,
      "outputs": [
        {
          "output_type": "stream",
          "text": [
            "[0 1 2 3 4] [ 5  6  7  8  9 10 11 12 13 14 15 16 17 18 19 20 21 22 23 24 25 26 27 28\n",
            " 29 30 31 32 33 34 35 36 37 38 39 40 41 42 43 44 45 46 47 48 49]\n",
            "[5 6 7 8 9] [ 0  1  2  3  4 10 11 12 13 14 15 16 17 18 19 20 21 22 23 24 25 26 27 28\n",
            " 29 30 31 32 33 34 35 36 37 38 39 40 41 42 43 44 45 46 47 48 49]\n",
            "[10 11 12 13 14] [ 0  1  2  3  4  5  6  7  8  9 15 16 17 18 19 20 21 22 23 24 25 26 27 28\n",
            " 29 30 31 32 33 34 35 36 37 38 39 40 41 42 43 44 45 46 47 48 49]\n",
            "[15 16 17 18 19] [ 0  1  2  3  4  5  6  7  8  9 10 11 12 13 14 20 21 22 23 24 25 26 27 28\n",
            " 29 30 31 32 33 34 35 36 37 38 39 40 41 42 43 44 45 46 47 48 49]\n",
            "[20 21 22 23 24] [ 0  1  2  3  4  5  6  7  8  9 10 11 12 13 14 15 16 17 18 19 25 26 27 28\n",
            " 29 30 31 32 33 34 35 36 37 38 39 40 41 42 43 44 45 46 47 48 49]\n",
            "[25 26 27 28 29] [ 0  1  2  3  4  5  6  7  8  9 10 11 12 13 14 15 16 17 18 19 20 21 22 23\n",
            " 24 30 31 32 33 34 35 36 37 38 39 40 41 42 43 44 45 46 47 48 49]\n",
            "[30 31 32 33 34] [ 0  1  2  3  4  5  6  7  8  9 10 11 12 13 14 15 16 17 18 19 20 21 22 23\n",
            " 24 25 26 27 28 29 35 36 37 38 39 40 41 42 43 44 45 46 47 48 49]\n",
            "[35 36 37 38 39] [ 0  1  2  3  4  5  6  7  8  9 10 11 12 13 14 15 16 17 18 19 20 21 22 23\n",
            " 24 25 26 27 28 29 30 31 32 33 34 40 41 42 43 44 45 46 47 48 49]\n",
            "[40 41 42 43 44] [ 0  1  2  3  4  5  6  7  8  9 10 11 12 13 14 15 16 17 18 19 20 21 22 23\n",
            " 24 25 26 27 28 29 30 31 32 33 34 35 36 37 38 39 45 46 47 48 49]\n",
            "[45 46 47 48 49] [ 0  1  2  3  4  5  6  7  8  9 10 11 12 13 14 15 16 17 18 19 20 21 22 23\n",
            " 24 25 26 27 28 29 30 31 32 33 34 35 36 37 38 39 40 41 42 43 44]\n"
          ],
          "name": "stdout"
        }
      ]
    },
    {
      "cell_type": "markdown",
      "metadata": {
        "id": "VlUwkDS6v-KL"
      },
      "source": [
        "**(1 балл) Доп. задача 6:** проделайте все вышеописанное с функцией $f(x) = \\frac{1}{1 + e^{-x}}$ на отрезке $[-3, 3]$. Как оптимальная степень зависит от количества точек, по которым вы подбираете многочлен?"
      ]
    },
    {
      "cell_type": "code",
      "metadata": {
        "id": "hg1L62zBv-KL",
        "outputId": "a2cb51bf-3913-4eb0-cb74-a4c7a6c844f8"
      },
      "source": [
        "np.random.seed(42)\n",
        "def f(x):\n",
        "    return 1/(1+np.exp(-x))\n",
        "x = np.linspace(-3, 3, 20)\n",
        "y = f(x) + np.random.normal(0, 0.02, 20)\n",
        "plt.plot(x, y)"
      ],
      "execution_count": null,
      "outputs": [
        {
          "output_type": "execute_result",
          "data": {
            "text/plain": [
              "[<matplotlib.lines.Line2D at 0x1bbf705eb80>]"
            ]
          },
          "metadata": {
            "tags": []
          },
          "execution_count": 63
        },
        {
          "output_type": "display_data",
          "data": {
            "image/png": "[encoded data removed]",
            "text/plain": [
              "<Figure size 432x288 with 1 Axes>"
            ]
          },
          "metadata": {
            "tags": [],
            "needs_background": "light"
          }
        }
      ]
    },
    {
      "cell_type": "code",
      "metadata": {
        "id": "H7h6OHl8v-KL",
        "outputId": "9c8d5cc6-d15e-4f40-a982-164754e329b8"
      },
      "source": [
        "np.random.seed(42)\n",
        "x_test = np.random.random(10) \n",
        "\n",
        "# превратим их в 10 случайных точек от -3 до 3\n",
        "x_test = 6 * x_test - 3\n",
        "\n",
        "\n",
        "# место для решения\n",
        "\n",
        "degrees = []\n",
        "for j in range(10, 51, 10):\n",
        "    x = np.linspace(-3, 3, j)\n",
        "    y = f(x) + np.random.normal(0, 0.02, j)\n",
        "    mse = []\n",
        "    for i in range(10):\n",
        "        coefs = np.polyfit(x, y, deg = i)\n",
        "        poly = np.poly1d(coefs)\n",
        "        mse.append(MSE(f(x_test), poly(x_test)))\n",
        "    degrees.append(np.array(mse).argmin())\n",
        "\n",
        "\n",
        "#plot diagram\n",
        "plt.figure(figsize=(10, 6))\n",
        "plt.plot(np.linspace(10, 50, 5), degrees)\n",
        "plt.title('best degree')\n",
        "plt.ylabel('degree')\n",
        "plt.xlabel('size of train_ds')\n",
        "plt.show()"
      ],
      "execution_count": null,
      "outputs": [
        {
          "output_type": "display_data",
          "data": {
            "image/png": "[encoded data removed]",
            "text/plain": [
              "<Figure size 720x432 with 1 Axes>"
            ]
          },
          "metadata": {
            "tags": [],
            "needs_background": "light"
          }
        }
      ]
    },
    {
      "cell_type": "markdown",
      "metadata": {
        "id": "NrhIhBGMv-KL"
      },
      "source": [
        "## 6. Линейная регрессия\n",
        "\n",
        "**Регрессией** называется задача машинного обучения с учителем, в которой у нас есть много объектов с признаками, у которых надо научиться приближенно предсказывать значение целевой функции, которая равна какому-то **действительному числу**. \n",
        "\n",
        "В этом будет отличие задачи регрессии от задачи классификации - регрессия предсказывает число, а классификация - один из нескольких классов.\n",
        "\n",
        "До этого мы учились приближать одномерную функцию многочленом. Каждая точка имела ровно один признак - коодинату $x$.\n",
        "\n",
        "Тем не менее, чаще всего в машинном обучении признаков гораздо больше. Возьмем какой-нибудь реальный датасет."
      ]
    },
    {
      "cell_type": "code",
      "metadata": {
        "scrolled": true,
        "id": "HuU2zeuBv-KM",
        "outputId": "db3e274f-eda9-4544-d9fd-3b49949b7bed"
      },
      "source": [
        "import numpy as np\n",
        "import pandas as pd\n",
        "import matplotlib.pyplot as plt\n",
        "\n",
        "%matplotlib inline\n",
        "\n",
        "data = pd.read_csv('Advertising.csv', index_col=0)\n",
        "data.head()"
      ],
      "execution_count": null,
      "outputs": [
        {
          "output_type": "execute_result",
          "data": {
            "text/html": [
              "<div>\n",
              "<style scoped>\n",
              "    .dataframe tbody tr th:only-of-type {\n",
              "        vertical-align: middle;\n",
              "    }\n",
              "\n",
              "    .dataframe tbody tr th {\n",
              "        vertical-align: top;\n",
              "    }\n",
              "\n",
              "    .dataframe thead th {\n",
              "        text-align: right;\n",
              "    }\n",
              "</style>\n",
              "<table border=\"1\" class=\"dataframe\">\n",
              "  <thead>\n",
              "    <tr style=\"text-align: right;\">\n",
              "      <th></th>\n",
              "      <th>TV</th>\n",
              "      <th>Radio</th>\n",
              "      <th>Newspaper</th>\n",
              "      <th>Sales</th>\n",
              "    </tr>\n",
              "  </thead>\n",
              "  <tbody>\n",
              "    <tr>\n",
              "      <th>1</th>\n",
              "      <td>230.1</td>\n",
              "      <td>37.8</td>\n",
              "      <td>69.2</td>\n",
              "      <td>22.1</td>\n",
              "    </tr>\n",
              "    <tr>\n",
              "      <th>2</th>\n",
              "      <td>44.5</td>\n",
              "      <td>39.3</td>\n",
              "      <td>45.1</td>\n",
              "      <td>10.4</td>\n",
              "    </tr>\n",
              "    <tr>\n",
              "      <th>3</th>\n",
              "      <td>17.2</td>\n",
              "      <td>45.9</td>\n",
              "      <td>69.3</td>\n",
              "      <td>9.3</td>\n",
              "    </tr>\n",
              "    <tr>\n",
              "      <th>4</th>\n",
              "      <td>151.5</td>\n",
              "      <td>41.3</td>\n",
              "      <td>58.5</td>\n",
              "      <td>18.5</td>\n",
              "    </tr>\n",
              "    <tr>\n",
              "      <th>5</th>\n",
              "      <td>180.8</td>\n",
              "      <td>10.8</td>\n",
              "      <td>58.4</td>\n",
              "      <td>12.9</td>\n",
              "    </tr>\n",
              "  </tbody>\n",
              "</table>\n",
              "</div>"
            ],
            "text/plain": [
              "      TV  Radio  Newspaper  Sales\n",
              "1  230.1   37.8       69.2   22.1\n",
              "2   44.5   39.3       45.1   10.4\n",
              "3   17.2   45.9       69.3    9.3\n",
              "4  151.5   41.3       58.5   18.5\n",
              "5  180.8   10.8       58.4   12.9"
            ]
          },
          "metadata": {
            "tags": []
          },
          "execution_count": 67
        }
      ]
    },
    {
      "cell_type": "markdown",
      "metadata": {
        "id": "g_XwZB5Yv-KM"
      },
      "source": [
        "В датасете показаны результаты продаж разных товаров в зависимости от ресурсов (тысяч долларов), которые вложили в различные средства распространения информации:\n",
        "* TV - реклама по телевизору\n",
        "* radio - на радио\n",
        "* newspapers - в газетах"
      ]
    },
    {
      "cell_type": "markdown",
      "metadata": {
        "id": "U4Fi5t2gv-KM"
      },
      "source": [
        "Целевая переменная:\n",
        "\n",
        "sales - продажи такого-то товара (тысячи штук)"
      ]
    },
    {
      "cell_type": "code",
      "metadata": {
        "id": "_k8dcZBGv-KM",
        "outputId": "bba4b243-1c17-4968-d97d-3add4f4f0e45"
      },
      "source": [
        "# Размеры датасета\n",
        "data.shape"
      ],
      "execution_count": null,
      "outputs": [
        {
          "output_type": "execute_result",
          "data": {
            "text/plain": [
              "(200, 4)"
            ]
          },
          "metadata": {
            "tags": []
          },
          "execution_count": 68
        }
      ]
    },
    {
      "cell_type": "markdown",
      "metadata": {
        "id": "2ahJWpvfv-KM"
      },
      "source": [
        "Признаков немного, поэтому давайте попробуем визуализиовать зависимость целевой переменной от каждого из признаков."
      ]
    },
    {
      "cell_type": "code",
      "metadata": {
        "id": "keihy3sNv-KN",
        "outputId": "971077fa-1911-46a5-83f3-73145fc1a7b2"
      },
      "source": [
        "fig, axs = plt.subplots(1, 3, sharey=True)\n",
        "data.plot(kind='scatter', x='TV', y='Sales', ax=axs[0], figsize=(16, 8))\n",
        "data.plot(kind='scatter', x='Radio', y='Sales', ax=axs[1])\n",
        "data.plot(kind='scatter', x='Newspaper', y='Sales', ax=axs[2])"
      ],
      "execution_count": null,
      "outputs": [
        {
          "output_type": "execute_result",
          "data": {
            "text/plain": [
              "<AxesSubplot:xlabel='Newspaper', ylabel='Sales'>"
            ]
          },
          "metadata": {
            "tags": []
          },
          "execution_count": 69
        },
        {
          "output_type": "display_data",
          "data": {
            "image/png": "[encoded data removed]",
            "text/plain": [
              "<Figure size 1152x576 with 3 Axes>"
            ]
          },
          "metadata": {
            "tags": [],
            "needs_background": "light"
          }
        }
      ]
    },
    {
      "cell_type": "markdown",
      "metadata": {
        "id": "vBeiBu8Uv-KN"
      },
      "source": [
        "### Простая линейная регрессия\n",
        "\n",
        "Из графиков выше предположим, что только размер рекламы на телевизоре влияет на продажи больше всего. Формула для такого случая выглядит следующим образом:\n",
        "$$y=\\beta_0+\\beta_1x$$\n",
        "Здесь:\n",
        "* $y$ - наше предсказание продаж\n",
        "* $x$ - сколько денег вложили в рекламу по телевидению\n",
        "* $\\beta_0$ - сдвиг\n",
        "* $\\beta_1$ - параметр, отвечающий за важность признака x\n",
        "\n",
        "$\\beta_0$ и $\\beta_1$ - это параметры нашей модели. Чтобы создать хорошую модель, надо \"обучить\" эти значения. Т.е. изменить их так, чтобы они хорошо работали для нашей задачи."
      ]
    },
    {
      "cell_type": "markdown",
      "metadata": {
        "id": "AHpE3YEfv-KN"
      },
      "source": [
        "### Обучение коэффициентов модели\n",
        "\n",
        "Параметры $\\beta_0$ и $\\beta_1$ подбираются таким образом, чтобы минимизировать **сумму наименьших квадратов ошибок**:\n",
        "\n",
        "$$L(MSE)=\\sum_{i=1}^{N}(y^{true}_i-y^{pred}_i)^2$$\n",
        "\n",
        "<img src=\"mse_plot.png\">\n",
        "\n",
        "* Чёрные точки на даграмме $y^{true}$ - это полученные истинные значения x и y .\n",
        "* Синяя линия $y^{pred}$ - это наша модель: линия, которой мы стараемся приблизить данные .\n",
        "* Красные отрезки - это ошибки нашей модели.\n"
      ]
    },
    {
      "cell_type": "markdown",
      "metadata": {
        "id": "AHzm6kT_v-KN"
      },
      "source": [
        "Как коэффициенты $\\beta_0$ и $\\beta_1$ соотносятся с синей линией:\n",
        "* $\\beta_0$ - это сдвиг нашей прямой, т.е. значение y при x = 0.\n",
        "* $\\beta_1$ - это тангенс угла наклона прямой."
      ]
    },
    {
      "cell_type": "markdown",
      "metadata": {
        "id": "vbUqNTrfv-KN"
      },
      "source": [
        "Как искать данные коэффициенты? Есть много техник: аналитическое решение, методы основанные на градиентном спуске. Пока же достаточно знать, что многие библиотеки (в том числе и sklearn) умеют это делать. Зачем кожаному мешку напрягаться :)"
      ]
    },
    {
      "cell_type": "code",
      "metadata": {
        "id": "svbyi8yRv-KO",
        "outputId": "11d417ee-e19c-485e-bc18-3d0ae85cf592"
      },
      "source": [
        "from sklearn.linear_model import LinearRegression\n",
        "\n",
        "# Наша модель\n",
        "reg = LinearRegression()\n",
        "\n",
        "# Подготовим данные для неё\n",
        "# На вход требуется 2D матрица, а у нас только один признак,\n",
        "# и надо превратить его из 1D вектора (n,) в 2D матрицу (n, 1).\n",
        "# Это можно сделать с помощью метода reshape\n",
        "x = data[\"TV\"].values.reshape(-1, 1) \n",
        "y = data[\"Sales\"].values\n",
        "\n",
        "# Обучаем нашу модель\n",
        "reg.fit(x, y)\n",
        "\n",
        "# Коэффициенты\n",
        "print(\"Сдвиг={}\".format(reg.intercept_))\n",
        "print(\"Массив коэффициентов={}\".format(reg.coef_))"
      ],
      "execution_count": null,
      "outputs": [
        {
          "output_type": "stream",
          "text": [
            "Сдвиг=7.032593549127693\n",
            "Массив коэффициентов=[0.04753664]\n"
          ],
          "name": "stdout"
        }
      ]
    },
    {
      "cell_type": "markdown",
      "metadata": {
        "id": "sPrnIENhv-KO"
      },
      "source": [
        "### Интерпретируем коэффициенты\n",
        "Что означает коэффициент, связанный с телевидением ($\\beta_1$)?\n",
        "* Дополнительные 1000$, вложенные на в рекламу на телевидении, позволят продажам товара вырасти где-то на 0.047 * 1000 = 47 тысяч единиц."
      ]
    },
    {
      "cell_type": "code",
      "metadata": {
        "id": "-HkuGJB1v-KO",
        "outputId": "037a098a-190b-4efb-8350-2c4c0e6f4c75"
      },
      "source": [
        "# Посчитаем ручками\n",
        "7.032594 + 0.047537*50"
      ],
      "execution_count": null,
      "outputs": [
        {
          "output_type": "execute_result",
          "data": {
            "text/plain": [
              "9.409444"
            ]
          },
          "metadata": {
            "tags": []
          },
          "execution_count": 75
        }
      ]
    },
    {
      "cell_type": "code",
      "metadata": {
        "id": "sOD_r7Onv-KO",
        "outputId": "a28581b7-34b6-4175-d5a5-a9dac530516e"
      },
      "source": [
        "X_new = pd.DataFrame({'TV': [50]})\n",
        "X_new.head()"
      ],
      "execution_count": null,
      "outputs": [
        {
          "output_type": "execute_result",
          "data": {
            "text/html": [
              "<div>\n",
              "<style scoped>\n",
              "    .dataframe tbody tr th:only-of-type {\n",
              "        vertical-align: middle;\n",
              "    }\n",
              "\n",
              "    .dataframe tbody tr th {\n",
              "        vertical-align: top;\n",
              "    }\n",
              "\n",
              "    .dataframe thead th {\n",
              "        text-align: right;\n",
              "    }\n",
              "</style>\n",
              "<table border=\"1\" class=\"dataframe\">\n",
              "  <thead>\n",
              "    <tr style=\"text-align: right;\">\n",
              "      <th></th>\n",
              "      <th>TV</th>\n",
              "    </tr>\n",
              "  </thead>\n",
              "  <tbody>\n",
              "    <tr>\n",
              "      <th>0</th>\n",
              "      <td>50</td>\n",
              "    </tr>\n",
              "  </tbody>\n",
              "</table>\n",
              "</div>"
            ],
            "text/plain": [
              "   TV\n",
              "0  50"
            ]
          },
          "metadata": {
            "tags": []
          },
          "execution_count": 76
        }
      ]
    },
    {
      "cell_type": "code",
      "metadata": {
        "id": "0YVN8qSPv-KP",
        "outputId": "73248040-c562-4cd6-8069-35dc16fe8077"
      },
      "source": [
        "reg.predict(X_new)"
      ],
      "execution_count": null,
      "outputs": [
        {
          "output_type": "execute_result",
          "data": {
            "text/plain": [
              "array([9.40942557])"
            ]
          },
          "metadata": {
            "tags": []
          },
          "execution_count": 77
        }
      ]
    },
    {
      "cell_type": "markdown",
      "metadata": {
        "id": "63ElgpNWv-KP"
      },
      "source": [
        "### Нарисуем нашу прямую"
      ]
    },
    {
      "cell_type": "code",
      "metadata": {
        "id": "HuIM_uLkv-KP",
        "outputId": "a91c8957-49c3-4f7a-b06b-db0493fde62f"
      },
      "source": [
        "# Возьмём предсказания для данных, на которых обучались\n",
        "y_pred = reg.predict(x)\n",
        "y_pred.shape"
      ],
      "execution_count": null,
      "outputs": [
        {
          "output_type": "execute_result",
          "data": {
            "text/plain": [
              "(200,)"
            ]
          },
          "metadata": {
            "tags": []
          },
          "execution_count": 78
        }
      ]
    },
    {
      "cell_type": "code",
      "metadata": {
        "id": "uEm0KCQuv-KP",
        "outputId": "90c6cc06-6b63-4065-ab86-3dfadc77a981"
      },
      "source": [
        "# Сначала выведем истинные данные\n",
        "data.plot(kind='scatter', x='TV', y='Sales')\n",
        "\n",
        "# Теперь рисуем нашу линию\n",
        "plt.plot(x, y_pred, c='red', linewidth=2)"
      ],
      "execution_count": null,
      "outputs": [
        {
          "output_type": "execute_result",
          "data": {
            "text/plain": [
              "[<matplotlib.lines.Line2D at 0x1bbf75ba0a0>]"
            ]
          },
          "metadata": {
            "tags": []
          },
          "execution_count": 79
        },
        {
          "output_type": "display_data",
          "data": {
            "image/png": "[encoded data removed]",
            "text/plain": [
              "<Figure size 432x288 with 1 Axes>"
            ]
          },
          "metadata": {
            "tags": [],
            "needs_background": "light"
          }
        }
      ]
    },
    {
      "cell_type": "markdown",
      "metadata": {
        "id": "wcvRifGhv-KQ"
      },
      "source": [
        "Посчитаем ошибку MSE на обучающей выборке:\n"
      ]
    },
    {
      "cell_type": "code",
      "metadata": {
        "id": "D-MiqiwLv-KQ",
        "outputId": "061e0352-11e6-4a0d-e5df-f14cd2b9a843"
      },
      "source": [
        "from sklearn.metrics import mean_squared_error\n",
        "\n",
        "print(mean_squared_error(y_pred, y))"
      ],
      "execution_count": null,
      "outputs": [
        {
          "output_type": "stream",
          "text": [
            "10.512652915656757\n"
          ],
          "name": "stdout"
        }
      ]
    },
    {
      "cell_type": "markdown",
      "metadata": {
        "id": "8HDNBX9Pv-KQ"
      },
      "source": [
        "### Используем все признаки\n",
        "\n",
        "Простую линейную регрессию с одним признаком можно легко расширить на случай нескольких признаков:\n",
        "$$y=\\beta_0+\\beta_1x_1+...+\\beta_nx_n$$"
      ]
    },
    {
      "cell_type": "markdown",
      "metadata": {
        "id": "xBCrY7tqv-KQ"
      },
      "source": [
        "А для нашего датасета это будет выглядеть так:\n",
        "$$Sales=\\beta_0+\\beta_1*TV+\\beta_2*radio+\\beta_3*newspaper$$"
      ]
    },
    {
      "cell_type": "markdown",
      "metadata": {
        "id": "W-Bwk-WUv-KQ"
      },
      "source": [
        "Давайте опять воспользуемся sklearn, чтобы их оценить:"
      ]
    },
    {
      "cell_type": "code",
      "metadata": {
        "id": "E6ETX6pQv-KR",
        "outputId": "cc1f1511-21f4-4a53-eff8-1d2f37d60d9e"
      },
      "source": [
        "reg = LinearRegression()\n",
        "\n",
        "X = data.drop(\"Sales\", axis=1)\n",
        "y = data[\"Sales\"]\n",
        "\n",
        "# Обучаем нашу модель\n",
        "reg.fit(X, y)\n",
        "\n",
        "# Коэффициенты\n",
        "print(\"Сдвиг={}\".format(reg.intercept_))\n",
        "for column, coef in zip(X.columns, reg.coef_):\n",
        "    print(\"Коэффициент для {}={}\".format(column, coef))"
      ],
      "execution_count": null,
      "outputs": [
        {
          "output_type": "stream",
          "text": [
            "Сдвиг=2.9388893694594085\n",
            "Коэффициент для TV=0.045764645455397615\n",
            "Коэффициент для Radio=0.18853001691820448\n",
            "Коэффициент для Newspaper=-0.0010374930424763007\n"
          ],
          "name": "stdout"
        }
      ]
    },
    {
      "cell_type": "markdown",
      "metadata": {
        "id": "Ieg_R82gv-KR"
      },
      "source": [
        "Вес признака отвечает также, как и в предыдущем случае за значимость этого признака. Для газет он вообще отрицательный. Вычислим ошибку на обучающей выборке."
      ]
    },
    {
      "cell_type": "code",
      "metadata": {
        "id": "qq5T3Z6Ev-KR",
        "outputId": "f4d0d3e6-d331-4261-e4ef-311f4fd1a9a3"
      },
      "source": [
        "y_pred = reg.predict(X)\n",
        "\n",
        "# Ошибка теперь равна:\n",
        "print(mean_squared_error(y_pred, y))"
      ],
      "execution_count": null,
      "outputs": [
        {
          "output_type": "stream",
          "text": [
            "2.784126314510936\n"
          ],
          "name": "stdout"
        }
      ]
    },
    {
      "cell_type": "markdown",
      "metadata": {
        "id": "DEmF4AzYv-KR"
      },
      "source": [
        "Ошибка уже меньше, чем при одном признаке, однако измерять ошибку на обучающей выборке неправильно. Помимо истинной зависимости между признаками и целевой переменной, туда могут затесаться случайности, лишние данные и прочие факторы. Если не ограничивать каким-то образом модель (об этом мы узнаем позднее), то модель легко подстраивается под эти шумы. Она начинает показывать очень хорошее качество на обучающей выборке, но когда мы попробуем посмотреть качество на других выборках, то там модель будет показывать себя плохо. Это и есть переобучение."
      ]
    },
    {
      "cell_type": "markdown",
      "metadata": {
        "id": "18j3aDrFv-KR"
      },
      "source": [
        "<img src=\"overfit.png\">"
      ]
    },
    {
      "cell_type": "markdown",
      "metadata": {
        "id": "iR811QSFv-KS"
      },
      "source": [
        "Поэтому применим кросс-валидацию:"
      ]
    },
    {
      "cell_type": "code",
      "metadata": {
        "id": "Yzl2ygdzv-KS",
        "outputId": "a21f2a17-0b99-4d04-8a67-5b10cc271367"
      },
      "source": [
        "# Многие выбирают k=5 для начала\n",
        "k = 5\n",
        "errors = []\n",
        "\n",
        "X = data.drop(\"Sales\", axis=1)\n",
        "y = data[\"Sales\"]\n",
        "\n",
        "# Размер одной части\n",
        "fold_size = len(X) // k\n",
        "\n",
        "# Мб этот код на семинаре написать?\n",
        "for i in range(k):\n",
        "    # Берём все значения, кроме выбранной части\n",
        "    X_train = X[:i * fold_size].append(X[(i + 1) * fold_size:])\n",
        "    y_train = y[:i * fold_size].append(y[(i + 1) * fold_size:])\n",
        "    \n",
        "    # Берём выбранную часть\n",
        "    X_test = X[i * fold_size:(i + 1) * fold_size]\n",
        "    y_test = y[i * fold_size:(i + 1) * fold_size]\n",
        "    \n",
        "    # На каждой итерации обучаемся отдельно и сохраняем ошибку\n",
        "    reg = LinearRegression()\n",
        "    reg.fit(X_train, y_train)\n",
        "    y_pred = reg.predict(X_test)\n",
        "    errors.append(mean_squared_error(y_pred, y_test))\n",
        "    \n",
        "# Выводим ошибку на кросс-валидации\n",
        "print(np.average(errors))"
      ],
      "execution_count": null,
      "outputs": [
        {
          "output_type": "stream",
          "text": [
            "3.0729465971002083\n"
          ],
          "name": "stdout"
        }
      ]
    },
    {
      "cell_type": "code",
      "metadata": {
        "id": "6JmDmkyDv-KS",
        "outputId": "67e93eca-5a3a-4e8d-86b4-cd709afe2dc5"
      },
      "source": [
        "# А можно не париться и попросить sklearn всё сделать за нас\n",
        "from sklearn.model_selection import cross_val_score\n",
        "\n",
        "# Берём с отрицательным знаком, т.к. обычно туда передаётся не функция потерь, которую надо минимизировать\n",
        "# А что-то вроде \"функции успеха\", которую надо максимизировать\n",
        "errors = -cross_val_score(LinearRegression(), X, y, cv=5, scoring='neg_mean_squared_error')\n",
        "print(np.average(errors))"
      ],
      "execution_count": null,
      "outputs": [
        {
          "output_type": "stream",
          "text": [
            "3.0729465971002083\n"
          ],
          "name": "stdout"
        }
      ]
    },
    {
      "cell_type": "markdown",
      "metadata": {
        "id": "okNZZIp8v-KS"
      },
      "source": [
        "Видно, что ошибка больше, чем тогда на обучающей выборке, поэтому есть показания думать, что это переобучение. Отчего оно обычно происходит? Мы берём слишком много лишних признаков или делаем модель слишком сложной для данной задачи. Для решения этой задачи существует регуляризация."
      ]
    },
    {
      "cell_type": "markdown",
      "metadata": {
        "id": "fn9J4wjev-KT"
      },
      "source": [
        "### Регуляризация\n",
        "\n",
        "Регуляризация - это искусстенное занижение всех параметров моделей ($\\beta_0,\\beta_1,...$). Это помогает упростить модель, т.к. низкие значения $\\beta_i$ означают, что модель будет выдавать результаты близкие к прямой (или гиперплоскости, если параметров много). А также зануление некоторых коэффициентов может убрать ненужные признаки из обучения. Однако как всё это сделать так, чтобы не убрать нужные признаки?"
      ]
    },
    {
      "cell_type": "markdown",
      "metadata": {
        "id": "4amyUGUuv-KT"
      },
      "source": [
        "Посмотрим на функцию потерь, которую мы минимизируем:\n",
        "$$L(\\beta)=\\sum_{i=1}^{N}(y^{true}_i-y^{pred}_i)^2$$\n",
        "\n",
        "Добавим туда слагаемое, которое поможет нам понизить значения наших $\\beta_i$:\n",
        "$$L(\\beta)=\\sum_{i=1}^{N}(y^{true}_i-y^{pred}_i)^2 + \\lambda \\sum_{i=1}^m\\beta_i^2$$"
      ]
    },
    {
      "cell_type": "markdown",
      "metadata": {
        "id": "pNmmq9Npv-KT"
      },
      "source": [
        "Действительно, если мы будем понижать нашу функцию потерь $L(\\beta)$, то мы будем минимизировать и второе слагаемое, которое и отвечает за абсолютные величины $\\beta_i$. Осталось указать, что $\\lambda$ это некоторый числовой коэффициент, который позволяет играться между очень сильной и очень слабой регуляризацией. Если он большой, то регуляризация сильная и модель будет более простой, меньше переобучаться, больше недообучаться, и наоброт. "
      ]
    },
    {
      "cell_type": "markdown",
      "metadata": {
        "id": "E2TXqG35v-KU"
      },
      "source": [
        "Забыл добавить, что это была L2-регуляризация.\n",
        "L1-регуляризация выглядит так:\n",
        "$$L(\\beta)=\\sum_{i=1}^{N}(y^{true}_i-y^{pred}_i)^2 + \\lambda \\sum_{i=1}^m|\\beta_i|$$\n",
        "Она отличается от L2 тем, что она обнуляет некоторые коэффициенты, а L2 пытается всё уменьшать равномерно."
      ]
    },
    {
      "cell_type": "markdown",
      "metadata": {
        "id": "Yt3mFIeNv-KU"
      },
      "source": [
        "В sklearn L1-регуляризация - это Lasso, а L2-регуляризация - это Ridge. Давайте посмотрим, какое качество они нам дадут на кросс-валидации."
      ]
    },
    {
      "cell_type": "code",
      "metadata": {
        "id": "qPyJ75-Vv-KU"
      },
      "source": [
        ""
      ],
      "execution_count": null,
      "outputs": []
    },
    {
      "cell_type": "code",
      "metadata": {
        "id": "TRi_o3uiv-KU",
        "outputId": "82e5aa04-cd25-4f70-ffbe-e777dcc4652e"
      },
      "source": [
        "# L1\n",
        "from sklearn.linear_model import Lasso\n",
        "\n",
        "reg = Lasso().fit(X, y)\n",
        "\n",
        "# Посмотрим на коэффициенты модели\n",
        "# Коэффициенты\n",
        "print(\"Сдвиг={}\".format(reg.intercept_))\n",
        "for column, coef in zip(X.columns, reg.coef_):\n",
        "    print(\"Коэффициент для {}={}\".format(column, coef))\n",
        "print()\n",
        "\n",
        "errors = -cross_val_score(Lasso(), X, y, cv=5, scoring='neg_mean_squared_error')\n",
        "print(\"Результат={}\".format(np.average(errors)))"
      ],
      "execution_count": null,
      "outputs": [
        {
          "output_type": "stream",
          "text": [
            "Сдвиг=3.0402155834803786\n",
            "Коэффициент для TV=0.045661415380019464\n",
            "Коэффициент для Radio=0.18346439758868255\n",
            "Коэффициент для Newspaper=0.0\n",
            "\n",
            "Результат=3.0414058967513684\n"
          ],
          "name": "stdout"
        }
      ]
    },
    {
      "cell_type": "markdown",
      "metadata": {
        "id": "gT4E6DF3v-KU"
      },
      "source": [
        "Видно, что признак с рекламой в газетах модель захотела полностью убрать из выборки."
      ]
    },
    {
      "cell_type": "code",
      "metadata": {
        "id": "EJsJuBauv-KV",
        "outputId": "d55b285a-2f21-46fd-b675-5a1502f73161"
      },
      "source": [
        "# L2\n",
        "from sklearn.linear_model import Ridge\n",
        "\n",
        "reg = Ridge().fit(X, y)\n",
        "\n",
        "# Посмотрим на коэффициенты модели\n",
        "# Коэффициенты\n",
        "print(\"Сдвиг={}\".format(reg.intercept_))\n",
        "for column, coef in zip(X.columns, reg.coef_):\n",
        "    print(\"Коэффициент для {}={}\".format(column, coef))\n",
        "print()\n",
        "\n",
        "errors = -cross_val_score(Ridge(), X, y, cv=5, scoring='neg_mean_squared_error')\n",
        "print(\"Результат={}\".format(np.average(errors)))"
      ],
      "execution_count": null,
      "outputs": [
        {
          "output_type": "stream",
          "text": [
            "Сдвиг=2.938967458330149\n",
            "Коэффициент для TV=0.0457646436580185\n",
            "Коэффициент для Radio=0.1885250968107853\n",
            "Коэффициент для Newspaper=-0.0010362939589069569\n",
            "\n",
            "Результат=3.072932673298498\n"
          ],
          "name": "stdout"
        }
      ]
    },
    {
      "cell_type": "markdown",
      "metadata": {
        "id": "ss7F1giSv-KV"
      },
      "source": [
        "reg.coef_\n"
      ]
    },
    {
      "cell_type": "markdown",
      "metadata": {
        "id": "18BAp5YUv-KV"
      },
      "source": [
        "Тут модель полностью не зануляла все признаки, а уменьшила их веса некоторых из них, а некоторых увеличила. Но изменения были столь незначительные, что качество не изменилось."
      ]
    },
    {
      "cell_type": "markdown",
      "metadata": {
        "id": "7CTfyTryv-KV"
      },
      "source": [
        "Как видно, качество не сильно улучшилось. Это всё потому что, мы не подбирали параметр параметр lambda (в моделях он называется alpha), а оставили его равным 1.0. Вот тут нам и приходит на помощь кросс-валидация."
      ]
    },
    {
      "cell_type": "markdown",
      "metadata": {
        "id": "aROOiMqJv-KW"
      },
      "source": [
        "Попробуем сначала Lasso. Давайте сначала поступим по тупому, и будем выбирать параметр lambda на обучающей выборке."
      ]
    },
    {
      "cell_type": "code",
      "metadata": {
        "id": "HhL68CIav-KW",
        "outputId": "ac3440fa-055a-4c95-c026-281c88110e2c"
      },
      "source": [
        "lambdas = np.arange(0.1, 3.0, 0.2)\n",
        "# Выведем доступные lambda\n",
        "print(\"Все лямбды:\")\n",
        "print(lambdas)\n",
        "\n",
        "# Лямбды и их ошибки на обучающей выборке\n",
        "lambda_errors = []\n",
        "\n",
        "# Проходим по всем лямбдам и записываем ошибки на обучающей выборке\n",
        "for val in lambdas:\n",
        "    reg = Lasso(alpha=val).fit(X, y)\n",
        "    y_pred = reg.predict(X)\n",
        "    # Сохраняем ошибку на обучающей выборке\n",
        "    lambda_errors.append((val, mean_squared_error(y_pred, y)))\n",
        "    print(((val, mean_squared_error(y_pred, y))))\n",
        "    \n",
        "\n",
        "min_val, min_train_error = min(lambda_errors, key=lambda x: x[1])\n",
        "\n",
        "# Вычислим ошибку на кросс-валидации\n",
        "# Лучшая модель\n",
        "best_reg = Lasso(alpha=min_val)\n",
        "cv_error = -np.average(cross_val_score(best_reg, X, y, cv=5, scoring='neg_mean_squared_error'))\n",
        "\n",
        "print(\"\\nОптимальная lambda:\")\n",
        "print(\"Lambda={:.2f}, результат={:.2f}\".format(min_val, cv_error))"
      ],
      "execution_count": null,
      "outputs": [
        {
          "output_type": "stream",
          "text": [
            "Все лямбды:\n",
            "[0.1 0.3 0.5 0.7 0.9 1.1 1.3 1.5 1.7 1.9 2.1 2.3 2.5 2.7 2.9]\n",
            "(0.1, 2.7842286851696874)\n",
            "(0.30000000000000004, 2.7849859930464516)\n",
            "(0.5000000000000001, 2.7857256993570263)\n",
            "(0.7000000000000001, 2.786835272563889)\n",
            "(0.9000000000000001, 2.7883147049707757)\n",
            "(1.1000000000000003, 2.790163996577688)\n",
            "(1.3000000000000003, 2.7923831473846246)\n",
            "(1.5000000000000004, 2.7949721573915873)\n",
            "(1.7000000000000004, 2.7979310265985737)\n",
            "(1.9000000000000004, 2.8012597550055864)\n",
            "(2.1000000000000005, 2.8049583426126237)\n",
            "(2.3000000000000007, 2.8090267894196854)\n",
            "(2.5000000000000004, 2.813465095426774)\n",
            "(2.7000000000000006, 2.8182732606338856)\n",
            "(2.900000000000001, 2.8234512850410236)\n",
            "\n",
            "Оптимальная lambda:\n",
            "Lambda=0.10, результат=3.07\n"
          ],
          "name": "stdout"
        }
      ]
    },
    {
      "cell_type": "markdown",
      "metadata": {
        "id": "wHBRgRxav-KW"
      },
      "source": [
        "А теперь сделайте так, чтобы сохранялась ошибка не на обучающей выборке, а на кросс-валдиации (cross_val_score) и минимум выбирался из неё. "
      ]
    },
    {
      "cell_type": "markdown",
      "metadata": {
        "id": "ECFyxVKSv-KW"
      },
      "source": [
        "**(0.5 балла) Обязательное задание 4:** нарисуйте график зависимости ошибки на тестовом множестве от степени многочлена. При какой степени ошибка минимальна?"
      ]
    },
    {
      "cell_type": "code",
      "metadata": {
        "id": "DXmnXcjWv-KX",
        "outputId": "79bb3912-6352-40f4-b266-6e8182bb17d0"
      },
      "source": [
        "X = data.drop(\"Sales\", axis=1)\n",
        "y = data[\"Sales\"]\n",
        "lambdas = np.arange(0.1, 3.0, 0.2)\n",
        "\n",
        "lambda_errors = []\n",
        "\n",
        "# Проходим по всем лямбдам и записываем ошибки на обучающей выборке\n",
        "for val in lambdas:\n",
        "    model = Lasso(alpha=val)\n",
        "    # Сохраняем ошибку на обучающей выборке\n",
        "    lambda_errors.append(-np.average(cross_val_score(model, X, y, cv=5, scoring='neg_mean_squared_error')))\n",
        "\n",
        "\n",
        "    \n",
        "#plot diagram\n",
        "plt.figure(figsize=(10, 6))\n",
        "plt.plot(lambdas, lambda_errors)\n",
        "plt.title('Task 4')\n",
        "plt.ylabel('MSE')\n",
        "plt.xlabel('lambda')\n",
        "plt.show()"
      ],
      "execution_count": null,
      "outputs": [
        {
          "output_type": "display_data",
          "data": {
            "image/png": "[encoded data removed]",
            "text/plain": [
              "<Figure size 720x432 with 1 Axes>"
            ]
          },
          "metadata": {
            "tags": [],
            "needs_background": "light"
          }
        }
      ]
    },
    {
      "cell_type": "code",
      "metadata": {
        "id": "3rgRNYn9v-KX",
        "outputId": "4d85230d-0ab9-43b7-9f5e-9917745196fc"
      },
      "source": [
        "y.shape"
      ],
      "execution_count": null,
      "outputs": [
        {
          "output_type": "execute_result",
          "data": {
            "text/plain": [
              "(200,)"
            ]
          },
          "metadata": {
            "tags": []
          },
          "execution_count": 90
        }
      ]
    },
    {
      "cell_type": "markdown",
      "metadata": {
        "id": "wJ-GlfN0v-KY"
      },
      "source": [
        "**(0.5 балла) Обязательное задание 5:** Сделайте то же самое для L2-регуляризации:"
      ]
    },
    {
      "cell_type": "code",
      "metadata": {
        "id": "90xK9qnav-KY",
        "outputId": "bac77328-e674-4f04-d6c8-0363503a177f"
      },
      "source": [
        "X = data.drop(\"Sales\", axis=1)\n",
        "y = data[\"Sales\"]\n",
        "lambdas = np.arange(0.1, 3.0, 0.2)\n",
        "\n",
        "# Лямбды и их ошибки на обучающей выборке\n",
        "lambda_errors = []\n",
        "\n",
        "# Проходим по всем лямбдам и записываем ошибки на обучающей выборке\n",
        "for val in lambdas:\n",
        "    model = Ridge(alpha=val)\n",
        "    # Сохраняем ошибку на обучающей выборке\n",
        "    lambda_errors.append(-np.average(cross_val_score(model, X, y, cv=5, scoring='neg_mean_squared_error')))\n",
        "\n",
        "\n",
        "    \n",
        "#plot diagram\n",
        "plt.figure(figsize=(10, 6))\n",
        "plt.plot(lambdas, lambda_errors)\n",
        "plt.title('Task 5')\n",
        "plt.ylabel('MSE')\n",
        "plt.xlabel('lambda')\n",
        "plt.show()"
      ],
      "execution_count": null,
      "outputs": [
        {
          "output_type": "display_data",
          "data": {
            "image/png": "[encoded data removed]",
            "text/plain": [
              "<Figure size 720x432 with 1 Axes>"
            ]
          },
          "metadata": {
            "tags": [],
            "needs_background": "light"
          }
        }
      ]
    },
    {
      "cell_type": "markdown",
      "metadata": {
        "id": "qIYMw6Q5v-KY"
      },
      "source": [
        "Если всё было правильно, то данные манипуляции помогут немного улучшить качество вашей модели. Это поднимет вас на несколько мест в соревнованиях, или вашему работодателю даст побольше прибыли."
      ]
    },
    {
      "cell_type": "markdown",
      "metadata": {
        "id": "0vvZ9yvTv-KY"
      },
      "source": [
        "### Основное домашнее задание (6 баллов + гешефт за улучшения)"
      ]
    },
    {
      "cell_type": "code",
      "metadata": {
        "id": "ML13fvYfv-KZ"
      },
      "source": [
        "import numpy as np\n",
        "import pandas as pd\n",
        "import matplotlib.pyplot as plt\n",
        "\n",
        "%matplotlib inline"
      ],
      "execution_count": null,
      "outputs": []
    },
    {
      "cell_type": "markdown",
      "metadata": {
        "id": "wpKhtas8v-KZ"
      },
      "source": [
        "Для домашнего задания вы используете другой датасет."
      ]
    },
    {
      "cell_type": "code",
      "metadata": {
        "id": "nMHaHBe6v-KZ",
        "outputId": "91238dda-6422-47d8-f907-fbf433fe2978"
      },
      "source": [
        "data = pd.read_csv('diabetes.data.csv', sep='\\t')\n",
        "data.head()"
      ],
      "execution_count": null,
      "outputs": [
        {
          "output_type": "execute_result",
          "data": {
            "text/html": [
              "<div>\n",
              "<style scoped>\n",
              "    .dataframe tbody tr th:only-of-type {\n",
              "        vertical-align: middle;\n",
              "    }\n",
              "\n",
              "    .dataframe tbody tr th {\n",
              "        vertical-align: top;\n",
              "    }\n",
              "\n",
              "    .dataframe thead th {\n",
              "        text-align: right;\n",
              "    }\n",
              "</style>\n",
              "<table border=\"1\" class=\"dataframe\">\n",
              "  <thead>\n",
              "    <tr style=\"text-align: right;\">\n",
              "      <th></th>\n",
              "      <th>AGE</th>\n",
              "      <th>SEX</th>\n",
              "      <th>BMI</th>\n",
              "      <th>BP</th>\n",
              "      <th>S1</th>\n",
              "      <th>S2</th>\n",
              "      <th>S3</th>\n",
              "      <th>S4</th>\n",
              "      <th>S5</th>\n",
              "      <th>S6</th>\n",
              "      <th>Y</th>\n",
              "    </tr>\n",
              "  </thead>\n",
              "  <tbody>\n",
              "    <tr>\n",
              "      <th>0</th>\n",
              "      <td>59</td>\n",
              "      <td>2</td>\n",
              "      <td>32.1</td>\n",
              "      <td>101.0</td>\n",
              "      <td>157</td>\n",
              "      <td>93.2</td>\n",
              "      <td>38.0</td>\n",
              "      <td>4.0</td>\n",
              "      <td>4.8598</td>\n",
              "      <td>87</td>\n",
              "      <td>151</td>\n",
              "    </tr>\n",
              "    <tr>\n",
              "      <th>1</th>\n",
              "      <td>48</td>\n",
              "      <td>1</td>\n",
              "      <td>21.6</td>\n",
              "      <td>87.0</td>\n",
              "      <td>183</td>\n",
              "      <td>103.2</td>\n",
              "      <td>70.0</td>\n",
              "      <td>3.0</td>\n",
              "      <td>3.8918</td>\n",
              "      <td>69</td>\n",
              "      <td>75</td>\n",
              "    </tr>\n",
              "    <tr>\n",
              "      <th>2</th>\n",
              "      <td>72</td>\n",
              "      <td>2</td>\n",
              "      <td>30.5</td>\n",
              "      <td>93.0</td>\n",
              "      <td>156</td>\n",
              "      <td>93.6</td>\n",
              "      <td>41.0</td>\n",
              "      <td>4.0</td>\n",
              "      <td>4.6728</td>\n",
              "      <td>85</td>\n",
              "      <td>141</td>\n",
              "    </tr>\n",
              "    <tr>\n",
              "      <th>3</th>\n",
              "      <td>24</td>\n",
              "      <td>1</td>\n",
              "      <td>25.3</td>\n",
              "      <td>84.0</td>\n",
              "      <td>198</td>\n",
              "      <td>131.4</td>\n",
              "      <td>40.0</td>\n",
              "      <td>5.0</td>\n",
              "      <td>4.8903</td>\n",
              "      <td>89</td>\n",
              "      <td>206</td>\n",
              "    </tr>\n",
              "    <tr>\n",
              "      <th>4</th>\n",
              "      <td>50</td>\n",
              "      <td>1</td>\n",
              "      <td>23.0</td>\n",
              "      <td>101.0</td>\n",
              "      <td>192</td>\n",
              "      <td>125.4</td>\n",
              "      <td>52.0</td>\n",
              "      <td>4.0</td>\n",
              "      <td>4.2905</td>\n",
              "      <td>80</td>\n",
              "      <td>135</td>\n",
              "    </tr>\n",
              "  </tbody>\n",
              "</table>\n",
              "</div>"
            ],
            "text/plain": [
              "   AGE  SEX   BMI     BP   S1     S2    S3   S4      S5  S6    Y\n",
              "0   59    2  32.1  101.0  157   93.2  38.0  4.0  4.8598  87  151\n",
              "1   48    1  21.6   87.0  183  103.2  70.0  3.0  3.8918  69   75\n",
              "2   72    2  30.5   93.0  156   93.6  41.0  4.0  4.6728  85  141\n",
              "3   24    1  25.3   84.0  198  131.4  40.0  5.0  4.8903  89  206\n",
              "4   50    1  23.0  101.0  192  125.4  52.0  4.0  4.2905  80  135"
            ]
          },
          "metadata": {
            "tags": []
          },
          "execution_count": 93
        }
      ]
    },
    {
      "cell_type": "markdown",
      "metadata": {
        "id": "0Q6_s7Y8v-KZ"
      },
      "source": [
        "В датасете приводится информация о пациентах и их состоянии при заболевании диабетом. Описание признаков можно прочитать [здесь](https://www4.stat.ncsu.edu/~boos/var.select/diabetes.html). Колонка Y - целевая переменная:"
      ]
    },
    {
      "cell_type": "code",
      "metadata": {
        "id": "Z_azxq9uv-KZ",
        "outputId": "019e92f3-3278-46c0-ca73-dd54f2e02dd4"
      },
      "source": [
        "target = 'Y'\n",
        "X = data.drop([target], axis=1)\n",
        "y = data[target]\n",
        "\n",
        "X.shape, y.shape"
      ],
      "execution_count": null,
      "outputs": [
        {
          "output_type": "execute_result",
          "data": {
            "text/plain": [
              "((442, 10), (442,))"
            ]
          },
          "metadata": {
            "tags": []
          },
          "execution_count": 94
        }
      ]
    },
    {
      "cell_type": "markdown",
      "metadata": {
        "id": "ysNnUWHlv-Ka"
      },
      "source": [
        "Ваша задача - провести то же исследование, что и в датасете в самом начале (Sales ~ TV, Radio, Newspaper). В итоге, нужно получить модель линейной регрессии, качество которой надо вывести с помощью cross_val_score с метрикой MSE (тоже самое в общем)."
      ]
    },
    {
      "cell_type": "markdown",
      "metadata": {
        "id": "hmKSzGLJv-Ka"
      },
      "source": [
        "За каждое достойное улучшение качества на cross_val_score будут доп. баллы. Не забудьте описать, что использовали, что получилось и нет, а также попробуйте понять почему. Побольше гуглите. "
      ]
    },
    {
      "cell_type": "markdown",
      "metadata": {
        "id": "Xnhevkr3v-Ka"
      },
      "source": [
        "Возможные улучшения:\n",
        "* Нормализация данных: вычитаем из каждой колонки её среднее и делим на её дисперсию.\n",
        "* Пробуйте убрать ненужные признаки.\n",
        "* Можно перемножать некоторые признаки.\n",
        "* Погуглите что-то вроде \"improve linear regression\"."
      ]
    },
    {
      "cell_type": "markdown",
      "metadata": {
        "id": "T0wK_7b-v-Ka"
      },
      "source": [
        "## Дефолтное решение"
      ]
    },
    {
      "cell_type": "code",
      "metadata": {
        "id": "MRn0JLx6v-Ka",
        "outputId": "9fdf0dcf-8820-45b1-93b6-2b50fa3f8a19"
      },
      "source": [
        "model = LinearRegression()\n",
        "\n",
        "print('result: ', -np.average(cross_val_score(model, X, y, cv=5, scoring='neg_mean_squared_error')))"
      ],
      "execution_count": null,
      "outputs": [
        {
          "output_type": "stream",
          "text": [
            "result:  2993.081310469331\n"
          ],
          "name": "stdout"
        }
      ]
    },
    {
      "cell_type": "markdown",
      "metadata": {
        "id": "_HkQJtvuv-Kb"
      },
      "source": [
        "Получилось что-то такое, идем дальше\n"
      ]
    },
    {
      "cell_type": "markdown",
      "metadata": {
        "id": "mfg3ovJBv-Kb"
      },
      "source": [
        "## Применим регуляризацию"
      ]
    },
    {
      "cell_type": "code",
      "metadata": {
        "id": "GL3dQ5g8v-Kb",
        "outputId": "cd60f33f-0390-4e1e-c1d3-d679ec6b9706"
      },
      "source": [
        "model = Lasso()\n",
        "\n",
        "print('result for defolt Lasso: ', -np.average(cross_val_score(model, X, y, cv=5, scoring='neg_mean_squared_error')))\n",
        "\n",
        "model = Ridge()\n",
        "\n",
        "print('result for defolt Ridge: ', -np.average(cross_val_score(model, X, y, cv=5, scoring='neg_mean_squared_error')))"
      ],
      "execution_count": null,
      "outputs": [
        {
          "output_type": "stream",
          "text": [
            "result for defolt Lasso:  3036.7597623128067\n",
            "result for defolt Ridge:  2994.0434160839286\n"
          ],
          "name": "stdout"
        }
      ]
    },
    {
      "cell_type": "markdown",
      "metadata": {
        "id": "DbxjQFSiv-Kb"
      },
      "source": [
        "Еще хуже( Поиграемся с alpha"
      ]
    },
    {
      "cell_type": "code",
      "metadata": {
        "id": "Sum2Sb67v-Kc",
        "outputId": "b234a8d0-f6dd-4d0a-8dcb-5a2f99b36f72"
      },
      "source": [
        "lambdas = np.arange(0.1, 3.0, 0.2)\n",
        "# Выведем доступные lambda\n",
        "print(\"Все лямбды:\")\n",
        "print(lambdas)\n",
        "\n",
        "# Лямбды и их ошибки на обучающей выборке\n",
        "lambda_errors = []\n",
        "\n",
        "# Проходим по всем лямбдам и записываем ошибки на обучающей выборке\n",
        "for val in lambdas:\n",
        "    model = Lasso(alpha=val).fit(X, y)\n",
        "    y_pred = model.predict(X)\n",
        "    # Сохраняем ошибку на обучающей выборке\n",
        "    lambda_errors.append((val, -np.average(cross_val_score(model, X, y, cv=5, scoring='neg_mean_squared_error'))))\n",
        "    print(((val, -np.average(cross_val_score(model, X, y, cv=5, scoring='neg_mean_squared_error')))))\n",
        "\n",
        "min_val, min_train_error = min(lambda_errors, key=lambda x: x[1])\n",
        "\n",
        "print(f'best alpha: {min_val} ,best MSE: {min_train_error}')"
      ],
      "execution_count": null,
      "outputs": [
        {
          "output_type": "stream",
          "text": [
            "Все лямбды:\n",
            "[0.1 0.3 0.5 0.7 0.9 1.1 1.3 1.5 1.7 1.9 2.1 2.3 2.5 2.7 2.9]\n",
            "(0.1, 2993.8025348658416)\n",
            "(0.30000000000000004, 2998.5942880689877)\n",
            "(0.5000000000000001, 3007.925585445332)\n",
            "(0.7000000000000001, 3017.3764479543192)\n",
            "(0.9000000000000001, 3028.640275362544)\n",
            "(1.1000000000000003, 3045.2052254212276)\n",
            "(1.3000000000000003, 3063.2837925666513)\n",
            "(1.5000000000000004, 3084.7454106334053)\n",
            "(1.7000000000000004, 3109.2086674839607)\n",
            "(1.9000000000000004, 3130.599744572518)\n",
            "(2.1000000000000005, 3143.358933610379)\n",
            "(2.3000000000000007, 3149.526568843901)\n",
            "(2.5000000000000004, 3155.2742555119526)\n",
            "(2.7000000000000006, 3160.719780913993)\n",
            "(2.900000000000001, 3166.5451999548764)\n",
            "best alpha: 0.1 ,best MSE: 2993.8025348658416\n"
          ],
          "name": "stdout"
        }
      ]
    },
    {
      "cell_type": "code",
      "metadata": {
        "id": "jl4NBfkhv-Kc",
        "outputId": "294a68e0-fc4d-455d-d7a8-21301f7c4d4f"
      },
      "source": [
        "lambdas = np.arange(0.1, 3.0, 0.2)\n",
        "# Выведем доступные lambda\n",
        "print(\"Все лямбды:\")\n",
        "print(lambdas)\n",
        "\n",
        "# Лямбды и их ошибки на обучающей выборке\n",
        "lambda_errors = []\n",
        "\n",
        "# Проходим по всем лямбдам и записываем ошибки на обучающей выборке\n",
        "for val in lambdas:\n",
        "    model = Ridge(alpha=val).fit(X, y)\n",
        "    y_pred = model.predict(X)\n",
        "    # Сохраняем ошибку на обучающей выборке\n",
        "    lambda_errors.append((val, -np.average(cross_val_score(model, X, y, cv=5, scoring='neg_mean_squared_error'))))\n",
        "    print(((val, -np.average(cross_val_score(model, X, y, cv=5, scoring='neg_mean_squared_error')))))\n",
        "\n",
        "min_val, min_train_error = min(lambda_errors, key=lambda x: x[1])\n",
        "\n",
        "print(f'best alpha: {min_val} ,best MSE: {min_train_error}')"
      ],
      "execution_count": null,
      "outputs": [
        {
          "output_type": "stream",
          "text": [
            "Все лямбды:\n",
            "[0.1 0.3 0.5 0.7 0.9 1.1 1.3 1.5 1.7 1.9 2.1 2.3 2.5 2.7 2.9]\n",
            "(0.1, 2993.067553298013)\n",
            "(0.30000000000000004, 2993.124197690104)\n",
            "(0.5000000000000001, 2993.2819334738742)\n",
            "(0.7000000000000001, 2993.5287960932656)\n",
            "(0.9000000000000001, 2993.8542146791165)\n",
            "(1.1000000000000003, 2994.2488351288307)\n",
            "(1.3000000000000003, 2994.704367979155)\n",
            "(1.5000000000000004, 2995.21345725094)\n",
            "(1.7000000000000004, 2995.769567087601)\n",
            "(1.9000000000000004, 2996.3668835347526)\n",
            "(2.1000000000000005, 2997.0002292400145)\n",
            "(2.3000000000000007, 2997.6649892074747)\n",
            "(2.5000000000000004, 2998.357046035138)\n",
            "(2.7000000000000006, 2999.0727233074467)\n",
            "(2.900000000000001, 2999.8087360176805)\n",
            "best alpha: 0.1 ,best MSE: 2993.067553298013\n"
          ],
          "name": "stdout"
        }
      ]
    },
    {
      "cell_type": "markdown",
      "metadata": {
        "id": "raXo9Zvcv-Kc"
      },
      "source": [
        "Все еще грустно. Теперь пробуем нормализовать данные"
      ]
    },
    {
      "cell_type": "code",
      "metadata": {
        "id": "ShIyLOgFv-Kc",
        "outputId": "7b26fe59-fb33-4bfc-ba94-054215985552"
      },
      "source": [
        "from sklearn import preprocessing\n",
        "\n",
        "data = pd.read_csv('diabetes.data.csv', sep='\\t')\n",
        "\n",
        "data = pd.DataFrame(data, columns = data.columns)\n",
        "data.head()\n",
        "\n"
      ],
      "execution_count": null,
      "outputs": [
        {
          "output_type": "execute_result",
          "data": {
            "text/html": [
              "<div>\n",
              "<style scoped>\n",
              "    .dataframe tbody tr th:only-of-type {\n",
              "        vertical-align: middle;\n",
              "    }\n",
              "\n",
              "    .dataframe tbody tr th {\n",
              "        vertical-align: top;\n",
              "    }\n",
              "\n",
              "    .dataframe thead th {\n",
              "        text-align: right;\n",
              "    }\n",
              "</style>\n",
              "<table border=\"1\" class=\"dataframe\">\n",
              "  <thead>\n",
              "    <tr style=\"text-align: right;\">\n",
              "      <th></th>\n",
              "      <th>AGE</th>\n",
              "      <th>SEX</th>\n",
              "      <th>BMI</th>\n",
              "      <th>BP</th>\n",
              "      <th>S1</th>\n",
              "      <th>S2</th>\n",
              "      <th>S3</th>\n",
              "      <th>S4</th>\n",
              "      <th>S5</th>\n",
              "      <th>S6</th>\n",
              "      <th>Y</th>\n",
              "    </tr>\n",
              "  </thead>\n",
              "  <tbody>\n",
              "    <tr>\n",
              "      <th>0</th>\n",
              "      <td>59</td>\n",
              "      <td>2</td>\n",
              "      <td>32.1</td>\n",
              "      <td>101.0</td>\n",
              "      <td>157</td>\n",
              "      <td>93.2</td>\n",
              "      <td>38.0</td>\n",
              "      <td>4.0</td>\n",
              "      <td>4.8598</td>\n",
              "      <td>87</td>\n",
              "      <td>151</td>\n",
              "    </tr>\n",
              "    <tr>\n",
              "      <th>1</th>\n",
              "      <td>48</td>\n",
              "      <td>1</td>\n",
              "      <td>21.6</td>\n",
              "      <td>87.0</td>\n",
              "      <td>183</td>\n",
              "      <td>103.2</td>\n",
              "      <td>70.0</td>\n",
              "      <td>3.0</td>\n",
              "      <td>3.8918</td>\n",
              "      <td>69</td>\n",
              "      <td>75</td>\n",
              "    </tr>\n",
              "    <tr>\n",
              "      <th>2</th>\n",
              "      <td>72</td>\n",
              "      <td>2</td>\n",
              "      <td>30.5</td>\n",
              "      <td>93.0</td>\n",
              "      <td>156</td>\n",
              "      <td>93.6</td>\n",
              "      <td>41.0</td>\n",
              "      <td>4.0</td>\n",
              "      <td>4.6728</td>\n",
              "      <td>85</td>\n",
              "      <td>141</td>\n",
              "    </tr>\n",
              "    <tr>\n",
              "      <th>3</th>\n",
              "      <td>24</td>\n",
              "      <td>1</td>\n",
              "      <td>25.3</td>\n",
              "      <td>84.0</td>\n",
              "      <td>198</td>\n",
              "      <td>131.4</td>\n",
              "      <td>40.0</td>\n",
              "      <td>5.0</td>\n",
              "      <td>4.8903</td>\n",
              "      <td>89</td>\n",
              "      <td>206</td>\n",
              "    </tr>\n",
              "    <tr>\n",
              "      <th>4</th>\n",
              "      <td>50</td>\n",
              "      <td>1</td>\n",
              "      <td>23.0</td>\n",
              "      <td>101.0</td>\n",
              "      <td>192</td>\n",
              "      <td>125.4</td>\n",
              "      <td>52.0</td>\n",
              "      <td>4.0</td>\n",
              "      <td>4.2905</td>\n",
              "      <td>80</td>\n",
              "      <td>135</td>\n",
              "    </tr>\n",
              "  </tbody>\n",
              "</table>\n",
              "</div>"
            ],
            "text/plain": [
              "   AGE  SEX   BMI     BP   S1     S2    S3   S4      S5  S6    Y\n",
              "0   59    2  32.1  101.0  157   93.2  38.0  4.0  4.8598  87  151\n",
              "1   48    1  21.6   87.0  183  103.2  70.0  3.0  3.8918  69   75\n",
              "2   72    2  30.5   93.0  156   93.6  41.0  4.0  4.6728  85  141\n",
              "3   24    1  25.3   84.0  198  131.4  40.0  5.0  4.8903  89  206\n",
              "4   50    1  23.0  101.0  192  125.4  52.0  4.0  4.2905  80  135"
            ]
          },
          "metadata": {
            "tags": []
          },
          "execution_count": 100
        }
      ]
    },
    {
      "cell_type": "code",
      "metadata": {
        "id": "CNlUxCHZv-Kd"
      },
      "source": [
        "target = 'Y'\n",
        "X = preprocessing.scale(data.drop([target], axis=1), axis=0)\n",
        "y = data[target]\n"
      ],
      "execution_count": null,
      "outputs": []
    },
    {
      "cell_type": "code",
      "metadata": {
        "id": "lPu3xJjyv-Kd",
        "outputId": "b0f463b9-fcf4-4a51-f719-9fbe91114b71"
      },
      "source": [
        "model = Lasso(alpha=0.1)\n",
        "\n",
        "print('MSE: {}'.format(-np.average(cross_val_score(model, X, y, cv=5, scoring='neg_mean_squared_error'))))"
      ],
      "execution_count": null,
      "outputs": [
        {
          "output_type": "stream",
          "text": [
            "MSE: 2992.1728906721464\n"
          ],
          "name": "stdout"
        }
      ]
    },
    {
      "cell_type": "code",
      "metadata": {
        "id": "Zl0ZWrvmv-Kd",
        "outputId": "04891397-2509-4254-8f40-8ba9ed7aee9e"
      },
      "source": [
        "corr = data.corr()\n",
        "corr.style.background_gradient(cmap='coolwarm')"
      ],
      "execution_count": null,
      "outputs": [
        {
          "output_type": "execute_result",
          "data": {
            "text/html": [
              "<style  type=\"text/css\" >\n",
              "#T_24853382_832b_11eb_9f79_28cdc483a2b4row0_col0,#T_24853382_832b_11eb_9f79_28cdc483a2b4row1_col1,#T_24853382_832b_11eb_9f79_28cdc483a2b4row2_col2,#T_24853382_832b_11eb_9f79_28cdc483a2b4row3_col3,#T_24853382_832b_11eb_9f79_28cdc483a2b4row4_col4,#T_24853382_832b_11eb_9f79_28cdc483a2b4row5_col5,#T_24853382_832b_11eb_9f79_28cdc483a2b4row6_col6,#T_24853382_832b_11eb_9f79_28cdc483a2b4row7_col7,#T_24853382_832b_11eb_9f79_28cdc483a2b4row8_col8,#T_24853382_832b_11eb_9f79_28cdc483a2b4row9_col9,#T_24853382_832b_11eb_9f79_28cdc483a2b4row10_col10{\n",
              "            background-color:  #b40426;\n",
              "            color:  #f1f1f1;\n",
              "        }#T_24853382_832b_11eb_9f79_28cdc483a2b4row0_col1{\n",
              "            background-color:  #c0d4f5;\n",
              "            color:  #000000;\n",
              "        }#T_24853382_832b_11eb_9f79_28cdc483a2b4row0_col2{\n",
              "            background-color:  #c1d4f4;\n",
              "            color:  #000000;\n",
              "        }#T_24853382_832b_11eb_9f79_28cdc483a2b4row0_col3,#T_24853382_832b_11eb_9f79_28cdc483a2b4row4_col10{\n",
              "            background-color:  #cbd8ee;\n",
              "            color:  #000000;\n",
              "        }#T_24853382_832b_11eb_9f79_28cdc483a2b4row0_col4,#T_24853382_832b_11eb_9f79_28cdc483a2b4row1_col0{\n",
              "            background-color:  #86a9fc;\n",
              "            color:  #000000;\n",
              "        }#T_24853382_832b_11eb_9f79_28cdc483a2b4row0_col5{\n",
              "            background-color:  #aec9fc;\n",
              "            color:  #000000;\n",
              "        }#T_24853382_832b_11eb_9f79_28cdc483a2b4row0_col6,#T_24853382_832b_11eb_9f79_28cdc483a2b4row2_col5,#T_24853382_832b_11eb_9f79_28cdc483a2b4row3_col0{\n",
              "            background-color:  #bad0f8;\n",
              "            color:  #000000;\n",
              "        }#T_24853382_832b_11eb_9f79_28cdc483a2b4row0_col7,#T_24853382_832b_11eb_9f79_28cdc483a2b4row7_col9{\n",
              "            background-color:  #e7d7ce;\n",
              "            color:  #000000;\n",
              "        }#T_24853382_832b_11eb_9f79_28cdc483a2b4row0_col8{\n",
              "            background-color:  #d7dce3;\n",
              "            color:  #000000;\n",
              "        }#T_24853382_832b_11eb_9f79_28cdc483a2b4row0_col9,#T_24853382_832b_11eb_9f79_28cdc483a2b4row3_col1,#T_24853382_832b_11eb_9f79_28cdc483a2b4row4_col2{\n",
              "            background-color:  #cfdaea;\n",
              "            color:  #000000;\n",
              "        }#T_24853382_832b_11eb_9f79_28cdc483a2b4row0_col10{\n",
              "            background-color:  #c5d6f2;\n",
              "            color:  #000000;\n",
              "        }#T_24853382_832b_11eb_9f79_28cdc483a2b4row1_col2{\n",
              "            background-color:  #aac7fd;\n",
              "            color:  #000000;\n",
              "        }#T_24853382_832b_11eb_9f79_28cdc483a2b4row1_col3,#T_24853382_832b_11eb_9f79_28cdc483a2b4row4_col3{\n",
              "            background-color:  #b2ccfb;\n",
              "            color:  #000000;\n",
              "        }#T_24853382_832b_11eb_9f79_28cdc483a2b4row1_col4,#T_24853382_832b_11eb_9f79_28cdc483a2b4row6_col0,#T_24853382_832b_11eb_9f79_28cdc483a2b4row6_col1,#T_24853382_832b_11eb_9f79_28cdc483a2b4row6_col2,#T_24853382_832b_11eb_9f79_28cdc483a2b4row6_col3,#T_24853382_832b_11eb_9f79_28cdc483a2b4row6_col5,#T_24853382_832b_11eb_9f79_28cdc483a2b4row6_col7,#T_24853382_832b_11eb_9f79_28cdc483a2b4row6_col8,#T_24853382_832b_11eb_9f79_28cdc483a2b4row6_col9,#T_24853382_832b_11eb_9f79_28cdc483a2b4row6_col10,#T_24853382_832b_11eb_9f79_28cdc483a2b4row7_col6{\n",
              "            background-color:  #3b4cc0;\n",
              "            color:  #f1f1f1;\n",
              "        }#T_24853382_832b_11eb_9f79_28cdc483a2b4row1_col5{\n",
              "            background-color:  #98b9ff;\n",
              "            color:  #000000;\n",
              "        }#T_24853382_832b_11eb_9f79_28cdc483a2b4row1_col6{\n",
              "            background-color:  #7da0f9;\n",
              "            color:  #000000;\n",
              "        }#T_24853382_832b_11eb_9f79_28cdc483a2b4row1_col7{\n",
              "            background-color:  #f3c7b1;\n",
              "            color:  #000000;\n",
              "        }#T_24853382_832b_11eb_9f79_28cdc483a2b4row1_col8{\n",
              "            background-color:  #bed2f6;\n",
              "            color:  #000000;\n",
              "        }#T_24853382_832b_11eb_9f79_28cdc483a2b4row1_col9,#T_24853382_832b_11eb_9f79_28cdc483a2b4row5_col1{\n",
              "            background-color:  #b9d0f9;\n",
              "            color:  #000000;\n",
              "        }#T_24853382_832b_11eb_9f79_28cdc483a2b4row1_col10{\n",
              "            background-color:  #a3c2fe;\n",
              "            color:  #000000;\n",
              "        }#T_24853382_832b_11eb_9f79_28cdc483a2b4row2_col0{\n",
              "            background-color:  #89acfd;\n",
              "            color:  #000000;\n",
              "        }#T_24853382_832b_11eb_9f79_28cdc483a2b4row2_col1{\n",
              "            background-color:  #abc8fd;\n",
              "            color:  #000000;\n",
              "        }#T_24853382_832b_11eb_9f79_28cdc483a2b4row2_col3,#T_24853382_832b_11eb_9f79_28cdc483a2b4row8_col3{\n",
              "            background-color:  #d9dce1;\n",
              "            color:  #000000;\n",
              "        }#T_24853382_832b_11eb_9f79_28cdc483a2b4row2_col4{\n",
              "            background-color:  #82a6fb;\n",
              "            color:  #000000;\n",
              "        }#T_24853382_832b_11eb_9f79_28cdc483a2b4row2_col6,#T_24853382_832b_11eb_9f79_28cdc483a2b4row3_col4{\n",
              "            background-color:  #80a3fa;\n",
              "            color:  #000000;\n",
              "        }#T_24853382_832b_11eb_9f79_28cdc483a2b4row2_col7{\n",
              "            background-color:  #f7b99e;\n",
              "            color:  #000000;\n",
              "        }#T_24853382_832b_11eb_9f79_28cdc483a2b4row2_col8{\n",
              "            background-color:  #f2cab5;\n",
              "            color:  #000000;\n",
              "        }#T_24853382_832b_11eb_9f79_28cdc483a2b4row2_col9,#T_24853382_832b_11eb_9f79_28cdc483a2b4row3_col9{\n",
              "            background-color:  #e2dad5;\n",
              "            color:  #000000;\n",
              "        }#T_24853382_832b_11eb_9f79_28cdc483a2b4row2_col10{\n",
              "            background-color:  #f7aa8c;\n",
              "            color:  #000000;\n",
              "        }#T_24853382_832b_11eb_9f79_28cdc483a2b4row3_col2,#T_24853382_832b_11eb_9f79_28cdc483a2b4row9_col10{\n",
              "            background-color:  #ead4c8;\n",
              "            color:  #000000;\n",
              "        }#T_24853382_832b_11eb_9f79_28cdc483a2b4row3_col5{\n",
              "            background-color:  #a5c3fe;\n",
              "            color:  #000000;\n",
              "        }#T_24853382_832b_11eb_9f79_28cdc483a2b4row3_col6,#T_24853382_832b_11eb_9f79_28cdc483a2b4row8_col0{\n",
              "            background-color:  #a6c4fe;\n",
              "            color:  #000000;\n",
              "        }#T_24853382_832b_11eb_9f79_28cdc483a2b4row3_col7,#T_24853382_832b_11eb_9f79_28cdc483a2b4row7_col2{\n",
              "            background-color:  #edd1c2;\n",
              "            color:  #000000;\n",
              "        }#T_24853382_832b_11eb_9f79_28cdc483a2b4row3_col8{\n",
              "            background-color:  #ecd3c5;\n",
              "            color:  #000000;\n",
              "        }#T_24853382_832b_11eb_9f79_28cdc483a2b4row3_col10{\n",
              "            background-color:  #f2cbb7;\n",
              "            color:  #000000;\n",
              "        }#T_24853382_832b_11eb_9f79_28cdc483a2b4row4_col0,#T_24853382_832b_11eb_9f79_28cdc483a2b4row5_col3,#T_24853382_832b_11eb_9f79_28cdc483a2b4row5_col6,#T_24853382_832b_11eb_9f79_28cdc483a2b4row10_col5{\n",
              "            background-color:  #a2c1ff;\n",
              "            color:  #000000;\n",
              "        }#T_24853382_832b_11eb_9f79_28cdc483a2b4row4_col1{\n",
              "            background-color:  #9ebeff;\n",
              "            color:  #000000;\n",
              "        }#T_24853382_832b_11eb_9f79_28cdc483a2b4row4_col5{\n",
              "            background-color:  #d24b40;\n",
              "            color:  #f1f1f1;\n",
              "        }#T_24853382_832b_11eb_9f79_28cdc483a2b4row4_col6{\n",
              "            background-color:  #d1dae9;\n",
              "            color:  #000000;\n",
              "        }#T_24853382_832b_11eb_9f79_28cdc483a2b4row4_col7{\n",
              "            background-color:  #f59f80;\n",
              "            color:  #000000;\n",
              "        }#T_24853382_832b_11eb_9f79_28cdc483a2b4row4_col8{\n",
              "            background-color:  #f7bca1;\n",
              "            color:  #000000;\n",
              "        }#T_24853382_832b_11eb_9f79_28cdc483a2b4row4_col9{\n",
              "            background-color:  #d5dbe5;\n",
              "            color:  #000000;\n",
              "        }#T_24853382_832b_11eb_9f79_28cdc483a2b4row5_col0{\n",
              "            background-color:  #96b7ff;\n",
              "            color:  #000000;\n",
              "        }#T_24853382_832b_11eb_9f79_28cdc483a2b4row5_col2{\n",
              "            background-color:  #d2dbe8;\n",
              "            color:  #000000;\n",
              "        }#T_24853382_832b_11eb_9f79_28cdc483a2b4row5_col4{\n",
              "            background-color:  #d85646;\n",
              "            color:  #000000;\n",
              "        }#T_24853382_832b_11eb_9f79_28cdc483a2b4row5_col7{\n",
              "            background-color:  #ed8366;\n",
              "            color:  #000000;\n",
              "        }#T_24853382_832b_11eb_9f79_28cdc483a2b4row5_col8,#T_24853382_832b_11eb_9f79_28cdc483a2b4row10_col9{\n",
              "            background-color:  #e0dbd8;\n",
              "            color:  #000000;\n",
              "        }#T_24853382_832b_11eb_9f79_28cdc483a2b4row5_col9{\n",
              "            background-color:  #cdd9ec;\n",
              "            color:  #000000;\n",
              "        }#T_24853382_832b_11eb_9f79_28cdc483a2b4row5_col10,#T_24853382_832b_11eb_9f79_28cdc483a2b4row9_col5{\n",
              "            background-color:  #c3d5f4;\n",
              "            color:  #000000;\n",
              "        }#T_24853382_832b_11eb_9f79_28cdc483a2b4row6_col4{\n",
              "            background-color:  #3f53c6;\n",
              "            color:  #f1f1f1;\n",
              "        }#T_24853382_832b_11eb_9f79_28cdc483a2b4row7_col0{\n",
              "            background-color:  #90b2fe;\n",
              "            color:  #000000;\n",
              "        }#T_24853382_832b_11eb_9f79_28cdc483a2b4row7_col1{\n",
              "            background-color:  #e1dad6;\n",
              "            color:  #000000;\n",
              "        }#T_24853382_832b_11eb_9f79_28cdc483a2b4row7_col3{\n",
              "            background-color:  #b6cefa;\n",
              "            color:  #000000;\n",
              "        }#T_24853382_832b_11eb_9f79_28cdc483a2b4row7_col4,#T_24853382_832b_11eb_9f79_28cdc483a2b4row10_col3{\n",
              "            background-color:  #e3d9d3;\n",
              "            color:  #000000;\n",
              "        }#T_24853382_832b_11eb_9f79_28cdc483a2b4row7_col5{\n",
              "            background-color:  #f7a688;\n",
              "            color:  #000000;\n",
              "        }#T_24853382_832b_11eb_9f79_28cdc483a2b4row7_col8{\n",
              "            background-color:  #f6a283;\n",
              "            color:  #000000;\n",
              "        }#T_24853382_832b_11eb_9f79_28cdc483a2b4row7_col10{\n",
              "            background-color:  #f1cdba;\n",
              "            color:  #000000;\n",
              "        }#T_24853382_832b_11eb_9f79_28cdc483a2b4row8_col1{\n",
              "            background-color:  #bbd1f8;\n",
              "            color:  #000000;\n",
              "        }#T_24853382_832b_11eb_9f79_28cdc483a2b4row8_col2{\n",
              "            background-color:  #f1ccb8;\n",
              "            color:  #000000;\n",
              "        }#T_24853382_832b_11eb_9f79_28cdc483a2b4row8_col4{\n",
              "            background-color:  #dcdddd;\n",
              "            color:  #000000;\n",
              "        }#T_24853382_832b_11eb_9f79_28cdc483a2b4row8_col5{\n",
              "            background-color:  #cad8ef;\n",
              "            color:  #000000;\n",
              "        }#T_24853382_832b_11eb_9f79_28cdc483a2b4row8_col6,#T_24853382_832b_11eb_9f79_28cdc483a2b4row10_col6{\n",
              "            background-color:  #7a9df8;\n",
              "            color:  #000000;\n",
              "        }#T_24853382_832b_11eb_9f79_28cdc483a2b4row8_col7{\n",
              "            background-color:  #f18d6f;\n",
              "            color:  #000000;\n",
              "        }#T_24853382_832b_11eb_9f79_28cdc483a2b4row8_col9{\n",
              "            background-color:  #efcfbf;\n",
              "            color:  #000000;\n",
              "        }#T_24853382_832b_11eb_9f79_28cdc483a2b4row8_col10,#T_24853382_832b_11eb_9f79_28cdc483a2b4row10_col8{\n",
              "            background-color:  #f7b093;\n",
              "            color:  #000000;\n",
              "        }#T_24853382_832b_11eb_9f79_28cdc483a2b4row9_col0{\n",
              "            background-color:  #afcafc;\n",
              "            color:  #000000;\n",
              "        }#T_24853382_832b_11eb_9f79_28cdc483a2b4row9_col1{\n",
              "            background-color:  #c9d7f0;\n",
              "            color:  #000000;\n",
              "        }#T_24853382_832b_11eb_9f79_28cdc483a2b4row9_col2{\n",
              "            background-color:  #ead5c9;\n",
              "            color:  #000000;\n",
              "        }#T_24853382_832b_11eb_9f79_28cdc483a2b4row9_col3{\n",
              "            background-color:  #d8dce2;\n",
              "            color:  #000000;\n",
              "        }#T_24853382_832b_11eb_9f79_28cdc483a2b4row9_col4{\n",
              "            background-color:  #9fbfff;\n",
              "            color:  #000000;\n",
              "        }#T_24853382_832b_11eb_9f79_28cdc483a2b4row9_col6{\n",
              "            background-color:  #93b5fe;\n",
              "            color:  #000000;\n",
              "        }#T_24853382_832b_11eb_9f79_28cdc483a2b4row9_col7{\n",
              "            background-color:  #f7b89c;\n",
              "            color:  #000000;\n",
              "        }#T_24853382_832b_11eb_9f79_28cdc483a2b4row9_col8{\n",
              "            background-color:  #f4c6af;\n",
              "            color:  #000000;\n",
              "        }#T_24853382_832b_11eb_9f79_28cdc483a2b4row10_col0{\n",
              "            background-color:  #8badfd;\n",
              "            color:  #000000;\n",
              "        }#T_24853382_832b_11eb_9f79_28cdc483a2b4row10_col1{\n",
              "            background-color:  #a1c0ff;\n",
              "            color:  #000000;\n",
              "        }#T_24853382_832b_11eb_9f79_28cdc483a2b4row10_col2{\n",
              "            background-color:  #f7ad90;\n",
              "            color:  #000000;\n",
              "        }#T_24853382_832b_11eb_9f79_28cdc483a2b4row10_col4{\n",
              "            background-color:  #7597f6;\n",
              "            color:  #000000;\n",
              "        }#T_24853382_832b_11eb_9f79_28cdc483a2b4row10_col7{\n",
              "            background-color:  #f7b599;\n",
              "            color:  #000000;\n",
              "        }</style><table id=\"T_24853382_832b_11eb_9f79_28cdc483a2b4\" ><thead>    <tr>        <th class=\"blank level0\" ></th>        <th class=\"col_heading level0 col0\" >AGE</th>        <th class=\"col_heading level0 col1\" >SEX</th>        <th class=\"col_heading level0 col2\" >BMI</th>        <th class=\"col_heading level0 col3\" >BP</th>        <th class=\"col_heading level0 col4\" >S1</th>        <th class=\"col_heading level0 col5\" >S2</th>        <th class=\"col_heading level0 col6\" >S3</th>        <th class=\"col_heading level0 col7\" >S4</th>        <th class=\"col_heading level0 col8\" >S5</th>        <th class=\"col_heading level0 col9\" >S6</th>        <th class=\"col_heading level0 col10\" >Y</th>    </tr></thead><tbody>\n",
              "                <tr>\n",
              "                        <th id=\"T_24853382_832b_11eb_9f79_28cdc483a2b4level0_row0\" class=\"row_heading level0 row0\" >AGE</th>\n",
              "                        <td id=\"T_24853382_832b_11eb_9f79_28cdc483a2b4row0_col0\" class=\"data row0 col0\" >1.000000</td>\n",
              "                        <td id=\"T_24853382_832b_11eb_9f79_28cdc483a2b4row0_col1\" class=\"data row0 col1\" >0.173737</td>\n",
              "                        <td id=\"T_24853382_832b_11eb_9f79_28cdc483a2b4row0_col2\" class=\"data row0 col2\" >0.185085</td>\n",
              "                        <td id=\"T_24853382_832b_11eb_9f79_28cdc483a2b4row0_col3\" class=\"data row0 col3\" >0.335428</td>\n",
              "                        <td id=\"T_24853382_832b_11eb_9f79_28cdc483a2b4row0_col4\" class=\"data row0 col4\" >0.260061</td>\n",
              "                        <td id=\"T_24853382_832b_11eb_9f79_28cdc483a2b4row0_col5\" class=\"data row0 col5\" >0.219243</td>\n",
              "                        <td id=\"T_24853382_832b_11eb_9f79_28cdc483a2b4row0_col6\" class=\"data row0 col6\" >-0.075181</td>\n",
              "                        <td id=\"T_24853382_832b_11eb_9f79_28cdc483a2b4row0_col7\" class=\"data row0 col7\" >0.203841</td>\n",
              "                        <td id=\"T_24853382_832b_11eb_9f79_28cdc483a2b4row0_col8\" class=\"data row0 col8\" >0.270774</td>\n",
              "                        <td id=\"T_24853382_832b_11eb_9f79_28cdc483a2b4row0_col9\" class=\"data row0 col9\" >0.301731</td>\n",
              "                        <td id=\"T_24853382_832b_11eb_9f79_28cdc483a2b4row0_col10\" class=\"data row0 col10\" >0.187889</td>\n",
              "            </tr>\n",
              "            <tr>\n",
              "                        <th id=\"T_24853382_832b_11eb_9f79_28cdc483a2b4level0_row1\" class=\"row_heading level0 row1\" >SEX</th>\n",
              "                        <td id=\"T_24853382_832b_11eb_9f79_28cdc483a2b4row1_col0\" class=\"data row1 col0\" >0.173737</td>\n",
              "                        <td id=\"T_24853382_832b_11eb_9f79_28cdc483a2b4row1_col1\" class=\"data row1 col1\" >1.000000</td>\n",
              "                        <td id=\"T_24853382_832b_11eb_9f79_28cdc483a2b4row1_col2\" class=\"data row1 col2\" >0.088161</td>\n",
              "                        <td id=\"T_24853382_832b_11eb_9f79_28cdc483a2b4row1_col3\" class=\"data row1 col3\" >0.241010</td>\n",
              "                        <td id=\"T_24853382_832b_11eb_9f79_28cdc483a2b4row1_col4\" class=\"data row1 col4\" >0.035277</td>\n",
              "                        <td id=\"T_24853382_832b_11eb_9f79_28cdc483a2b4row1_col5\" class=\"data row1 col5\" >0.142637</td>\n",
              "                        <td id=\"T_24853382_832b_11eb_9f79_28cdc483a2b4row1_col6\" class=\"data row1 col6\" >-0.379090</td>\n",
              "                        <td id=\"T_24853382_832b_11eb_9f79_28cdc483a2b4row1_col7\" class=\"data row1 col7\" >0.332115</td>\n",
              "                        <td id=\"T_24853382_832b_11eb_9f79_28cdc483a2b4row1_col8\" class=\"data row1 col8\" >0.149916</td>\n",
              "                        <td id=\"T_24853382_832b_11eb_9f79_28cdc483a2b4row1_col9\" class=\"data row1 col9\" >0.208133</td>\n",
              "                        <td id=\"T_24853382_832b_11eb_9f79_28cdc483a2b4row1_col10\" class=\"data row1 col10\" >0.043062</td>\n",
              "            </tr>\n",
              "            <tr>\n",
              "                        <th id=\"T_24853382_832b_11eb_9f79_28cdc483a2b4level0_row2\" class=\"row_heading level0 row2\" >BMI</th>\n",
              "                        <td id=\"T_24853382_832b_11eb_9f79_28cdc483a2b4row2_col0\" class=\"data row2 col0\" >0.185085</td>\n",
              "                        <td id=\"T_24853382_832b_11eb_9f79_28cdc483a2b4row2_col1\" class=\"data row2 col1\" >0.088161</td>\n",
              "                        <td id=\"T_24853382_832b_11eb_9f79_28cdc483a2b4row2_col2\" class=\"data row2 col2\" >1.000000</td>\n",
              "                        <td id=\"T_24853382_832b_11eb_9f79_28cdc483a2b4row2_col3\" class=\"data row2 col3\" >0.395411</td>\n",
              "                        <td id=\"T_24853382_832b_11eb_9f79_28cdc483a2b4row2_col4\" class=\"data row2 col4\" >0.249777</td>\n",
              "                        <td id=\"T_24853382_832b_11eb_9f79_28cdc483a2b4row2_col5\" class=\"data row2 col5\" >0.261170</td>\n",
              "                        <td id=\"T_24853382_832b_11eb_9f79_28cdc483a2b4row2_col6\" class=\"data row2 col6\" >-0.366811</td>\n",
              "                        <td id=\"T_24853382_832b_11eb_9f79_28cdc483a2b4row2_col7\" class=\"data row2 col7\" >0.413807</td>\n",
              "                        <td id=\"T_24853382_832b_11eb_9f79_28cdc483a2b4row2_col8\" class=\"data row2 col8\" >0.446157</td>\n",
              "                        <td id=\"T_24853382_832b_11eb_9f79_28cdc483a2b4row2_col9\" class=\"data row2 col9\" >0.388680</td>\n",
              "                        <td id=\"T_24853382_832b_11eb_9f79_28cdc483a2b4row2_col10\" class=\"data row2 col10\" >0.586450</td>\n",
              "            </tr>\n",
              "            <tr>\n",
              "                        <th id=\"T_24853382_832b_11eb_9f79_28cdc483a2b4level0_row3\" class=\"row_heading level0 row3\" >BP</th>\n",
              "                        <td id=\"T_24853382_832b_11eb_9f79_28cdc483a2b4row3_col0\" class=\"data row3 col0\" >0.335428</td>\n",
              "                        <td id=\"T_24853382_832b_11eb_9f79_28cdc483a2b4row3_col1\" class=\"data row3 col1\" >0.241010</td>\n",
              "                        <td id=\"T_24853382_832b_11eb_9f79_28cdc483a2b4row3_col2\" class=\"data row3 col2\" >0.395411</td>\n",
              "                        <td id=\"T_24853382_832b_11eb_9f79_28cdc483a2b4row3_col3\" class=\"data row3 col3\" >1.000000</td>\n",
              "                        <td id=\"T_24853382_832b_11eb_9f79_28cdc483a2b4row3_col4\" class=\"data row3 col4\" >0.242464</td>\n",
              "                        <td id=\"T_24853382_832b_11eb_9f79_28cdc483a2b4row3_col5\" class=\"data row3 col5\" >0.185548</td>\n",
              "                        <td id=\"T_24853382_832b_11eb_9f79_28cdc483a2b4row3_col6\" class=\"data row3 col6\" >-0.178762</td>\n",
              "                        <td id=\"T_24853382_832b_11eb_9f79_28cdc483a2b4row3_col7\" class=\"data row3 col7\" >0.257650</td>\n",
              "                        <td id=\"T_24853382_832b_11eb_9f79_28cdc483a2b4row3_col8\" class=\"data row3 col8\" >0.393480</td>\n",
              "                        <td id=\"T_24853382_832b_11eb_9f79_28cdc483a2b4row3_col9\" class=\"data row3 col9\" >0.390430</td>\n",
              "                        <td id=\"T_24853382_832b_11eb_9f79_28cdc483a2b4row3_col10\" class=\"data row3 col10\" >0.441482</td>\n",
              "            </tr>\n",
              "            <tr>\n",
              "                        <th id=\"T_24853382_832b_11eb_9f79_28cdc483a2b4level0_row4\" class=\"row_heading level0 row4\" >S1</th>\n",
              "                        <td id=\"T_24853382_832b_11eb_9f79_28cdc483a2b4row4_col0\" class=\"data row4 col0\" >0.260061</td>\n",
              "                        <td id=\"T_24853382_832b_11eb_9f79_28cdc483a2b4row4_col1\" class=\"data row4 col1\" >0.035277</td>\n",
              "                        <td id=\"T_24853382_832b_11eb_9f79_28cdc483a2b4row4_col2\" class=\"data row4 col2\" >0.249777</td>\n",
              "                        <td id=\"T_24853382_832b_11eb_9f79_28cdc483a2b4row4_col3\" class=\"data row4 col3\" >0.242464</td>\n",
              "                        <td id=\"T_24853382_832b_11eb_9f79_28cdc483a2b4row4_col4\" class=\"data row4 col4\" >1.000000</td>\n",
              "                        <td id=\"T_24853382_832b_11eb_9f79_28cdc483a2b4row4_col5\" class=\"data row4 col5\" >0.896663</td>\n",
              "                        <td id=\"T_24853382_832b_11eb_9f79_28cdc483a2b4row4_col6\" class=\"data row4 col6\" >0.051519</td>\n",
              "                        <td id=\"T_24853382_832b_11eb_9f79_28cdc483a2b4row4_col7\" class=\"data row4 col7\" >0.542207</td>\n",
              "                        <td id=\"T_24853382_832b_11eb_9f79_28cdc483a2b4row4_col8\" class=\"data row4 col8\" >0.515503</td>\n",
              "                        <td id=\"T_24853382_832b_11eb_9f79_28cdc483a2b4row4_col9\" class=\"data row4 col9\" >0.325717</td>\n",
              "                        <td id=\"T_24853382_832b_11eb_9f79_28cdc483a2b4row4_col10\" class=\"data row4 col10\" >0.212022</td>\n",
              "            </tr>\n",
              "            <tr>\n",
              "                        <th id=\"T_24853382_832b_11eb_9f79_28cdc483a2b4level0_row5\" class=\"row_heading level0 row5\" >S2</th>\n",
              "                        <td id=\"T_24853382_832b_11eb_9f79_28cdc483a2b4row5_col0\" class=\"data row5 col0\" >0.219243</td>\n",
              "                        <td id=\"T_24853382_832b_11eb_9f79_28cdc483a2b4row5_col1\" class=\"data row5 col1\" >0.142637</td>\n",
              "                        <td id=\"T_24853382_832b_11eb_9f79_28cdc483a2b4row5_col2\" class=\"data row5 col2\" >0.261170</td>\n",
              "                        <td id=\"T_24853382_832b_11eb_9f79_28cdc483a2b4row5_col3\" class=\"data row5 col3\" >0.185548</td>\n",
              "                        <td id=\"T_24853382_832b_11eb_9f79_28cdc483a2b4row5_col4\" class=\"data row5 col4\" >0.896663</td>\n",
              "                        <td id=\"T_24853382_832b_11eb_9f79_28cdc483a2b4row5_col5\" class=\"data row5 col5\" >1.000000</td>\n",
              "                        <td id=\"T_24853382_832b_11eb_9f79_28cdc483a2b4row5_col6\" class=\"data row5 col6\" >-0.196455</td>\n",
              "                        <td id=\"T_24853382_832b_11eb_9f79_28cdc483a2b4row5_col7\" class=\"data row5 col7\" >0.659817</td>\n",
              "                        <td id=\"T_24853382_832b_11eb_9f79_28cdc483a2b4row5_col8\" class=\"data row5 col8\" >0.318357</td>\n",
              "                        <td id=\"T_24853382_832b_11eb_9f79_28cdc483a2b4row5_col9\" class=\"data row5 col9\" >0.290600</td>\n",
              "                        <td id=\"T_24853382_832b_11eb_9f79_28cdc483a2b4row5_col10\" class=\"data row5 col10\" >0.174054</td>\n",
              "            </tr>\n",
              "            <tr>\n",
              "                        <th id=\"T_24853382_832b_11eb_9f79_28cdc483a2b4level0_row6\" class=\"row_heading level0 row6\" >S3</th>\n",
              "                        <td id=\"T_24853382_832b_11eb_9f79_28cdc483a2b4row6_col0\" class=\"data row6 col0\" >-0.075181</td>\n",
              "                        <td id=\"T_24853382_832b_11eb_9f79_28cdc483a2b4row6_col1\" class=\"data row6 col1\" >-0.379090</td>\n",
              "                        <td id=\"T_24853382_832b_11eb_9f79_28cdc483a2b4row6_col2\" class=\"data row6 col2\" >-0.366811</td>\n",
              "                        <td id=\"T_24853382_832b_11eb_9f79_28cdc483a2b4row6_col3\" class=\"data row6 col3\" >-0.178762</td>\n",
              "                        <td id=\"T_24853382_832b_11eb_9f79_28cdc483a2b4row6_col4\" class=\"data row6 col4\" >0.051519</td>\n",
              "                        <td id=\"T_24853382_832b_11eb_9f79_28cdc483a2b4row6_col5\" class=\"data row6 col5\" >-0.196455</td>\n",
              "                        <td id=\"T_24853382_832b_11eb_9f79_28cdc483a2b4row6_col6\" class=\"data row6 col6\" >1.000000</td>\n",
              "                        <td id=\"T_24853382_832b_11eb_9f79_28cdc483a2b4row6_col7\" class=\"data row6 col7\" >-0.738493</td>\n",
              "                        <td id=\"T_24853382_832b_11eb_9f79_28cdc483a2b4row6_col8\" class=\"data row6 col8\" >-0.398577</td>\n",
              "                        <td id=\"T_24853382_832b_11eb_9f79_28cdc483a2b4row6_col9\" class=\"data row6 col9\" >-0.273697</td>\n",
              "                        <td id=\"T_24853382_832b_11eb_9f79_28cdc483a2b4row6_col10\" class=\"data row6 col10\" >-0.394789</td>\n",
              "            </tr>\n",
              "            <tr>\n",
              "                        <th id=\"T_24853382_832b_11eb_9f79_28cdc483a2b4level0_row7\" class=\"row_heading level0 row7\" >S4</th>\n",
              "                        <td id=\"T_24853382_832b_11eb_9f79_28cdc483a2b4row7_col0\" class=\"data row7 col0\" >0.203841</td>\n",
              "                        <td id=\"T_24853382_832b_11eb_9f79_28cdc483a2b4row7_col1\" class=\"data row7 col1\" >0.332115</td>\n",
              "                        <td id=\"T_24853382_832b_11eb_9f79_28cdc483a2b4row7_col2\" class=\"data row7 col2\" >0.413807</td>\n",
              "                        <td id=\"T_24853382_832b_11eb_9f79_28cdc483a2b4row7_col3\" class=\"data row7 col3\" >0.257650</td>\n",
              "                        <td id=\"T_24853382_832b_11eb_9f79_28cdc483a2b4row7_col4\" class=\"data row7 col4\" >0.542207</td>\n",
              "                        <td id=\"T_24853382_832b_11eb_9f79_28cdc483a2b4row7_col5\" class=\"data row7 col5\" >0.659817</td>\n",
              "                        <td id=\"T_24853382_832b_11eb_9f79_28cdc483a2b4row7_col6\" class=\"data row7 col6\" >-0.738493</td>\n",
              "                        <td id=\"T_24853382_832b_11eb_9f79_28cdc483a2b4row7_col7\" class=\"data row7 col7\" >1.000000</td>\n",
              "                        <td id=\"T_24853382_832b_11eb_9f79_28cdc483a2b4row7_col8\" class=\"data row7 col8\" >0.617859</td>\n",
              "                        <td id=\"T_24853382_832b_11eb_9f79_28cdc483a2b4row7_col9\" class=\"data row7 col9\" >0.417212</td>\n",
              "                        <td id=\"T_24853382_832b_11eb_9f79_28cdc483a2b4row7_col10\" class=\"data row7 col10\" >0.430453</td>\n",
              "            </tr>\n",
              "            <tr>\n",
              "                        <th id=\"T_24853382_832b_11eb_9f79_28cdc483a2b4level0_row8\" class=\"row_heading level0 row8\" >S5</th>\n",
              "                        <td id=\"T_24853382_832b_11eb_9f79_28cdc483a2b4row8_col0\" class=\"data row8 col0\" >0.270774</td>\n",
              "                        <td id=\"T_24853382_832b_11eb_9f79_28cdc483a2b4row8_col1\" class=\"data row8 col1\" >0.149916</td>\n",
              "                        <td id=\"T_24853382_832b_11eb_9f79_28cdc483a2b4row8_col2\" class=\"data row8 col2\" >0.446157</td>\n",
              "                        <td id=\"T_24853382_832b_11eb_9f79_28cdc483a2b4row8_col3\" class=\"data row8 col3\" >0.393480</td>\n",
              "                        <td id=\"T_24853382_832b_11eb_9f79_28cdc483a2b4row8_col4\" class=\"data row8 col4\" >0.515503</td>\n",
              "                        <td id=\"T_24853382_832b_11eb_9f79_28cdc483a2b4row8_col5\" class=\"data row8 col5\" >0.318357</td>\n",
              "                        <td id=\"T_24853382_832b_11eb_9f79_28cdc483a2b4row8_col6\" class=\"data row8 col6\" >-0.398577</td>\n",
              "                        <td id=\"T_24853382_832b_11eb_9f79_28cdc483a2b4row8_col7\" class=\"data row8 col7\" >0.617859</td>\n",
              "                        <td id=\"T_24853382_832b_11eb_9f79_28cdc483a2b4row8_col8\" class=\"data row8 col8\" >1.000000</td>\n",
              "                        <td id=\"T_24853382_832b_11eb_9f79_28cdc483a2b4row8_col9\" class=\"data row8 col9\" >0.464669</td>\n",
              "                        <td id=\"T_24853382_832b_11eb_9f79_28cdc483a2b4row8_col10\" class=\"data row8 col10\" >0.565883</td>\n",
              "            </tr>\n",
              "            <tr>\n",
              "                        <th id=\"T_24853382_832b_11eb_9f79_28cdc483a2b4level0_row9\" class=\"row_heading level0 row9\" >S6</th>\n",
              "                        <td id=\"T_24853382_832b_11eb_9f79_28cdc483a2b4row9_col0\" class=\"data row9 col0\" >0.301731</td>\n",
              "                        <td id=\"T_24853382_832b_11eb_9f79_28cdc483a2b4row9_col1\" class=\"data row9 col1\" >0.208133</td>\n",
              "                        <td id=\"T_24853382_832b_11eb_9f79_28cdc483a2b4row9_col2\" class=\"data row9 col2\" >0.388680</td>\n",
              "                        <td id=\"T_24853382_832b_11eb_9f79_28cdc483a2b4row9_col3\" class=\"data row9 col3\" >0.390430</td>\n",
              "                        <td id=\"T_24853382_832b_11eb_9f79_28cdc483a2b4row9_col4\" class=\"data row9 col4\" >0.325717</td>\n",
              "                        <td id=\"T_24853382_832b_11eb_9f79_28cdc483a2b4row9_col5\" class=\"data row9 col5\" >0.290600</td>\n",
              "                        <td id=\"T_24853382_832b_11eb_9f79_28cdc483a2b4row9_col6\" class=\"data row9 col6\" >-0.273697</td>\n",
              "                        <td id=\"T_24853382_832b_11eb_9f79_28cdc483a2b4row9_col7\" class=\"data row9 col7\" >0.417212</td>\n",
              "                        <td id=\"T_24853382_832b_11eb_9f79_28cdc483a2b4row9_col8\" class=\"data row9 col8\" >0.464669</td>\n",
              "                        <td id=\"T_24853382_832b_11eb_9f79_28cdc483a2b4row9_col9\" class=\"data row9 col9\" >1.000000</td>\n",
              "                        <td id=\"T_24853382_832b_11eb_9f79_28cdc483a2b4row9_col10\" class=\"data row9 col10\" >0.382483</td>\n",
              "            </tr>\n",
              "            <tr>\n",
              "                        <th id=\"T_24853382_832b_11eb_9f79_28cdc483a2b4level0_row10\" class=\"row_heading level0 row10\" >Y</th>\n",
              "                        <td id=\"T_24853382_832b_11eb_9f79_28cdc483a2b4row10_col0\" class=\"data row10 col0\" >0.187889</td>\n",
              "                        <td id=\"T_24853382_832b_11eb_9f79_28cdc483a2b4row10_col1\" class=\"data row10 col1\" >0.043062</td>\n",
              "                        <td id=\"T_24853382_832b_11eb_9f79_28cdc483a2b4row10_col2\" class=\"data row10 col2\" >0.586450</td>\n",
              "                        <td id=\"T_24853382_832b_11eb_9f79_28cdc483a2b4row10_col3\" class=\"data row10 col3\" >0.441482</td>\n",
              "                        <td id=\"T_24853382_832b_11eb_9f79_28cdc483a2b4row10_col4\" class=\"data row10 col4\" >0.212022</td>\n",
              "                        <td id=\"T_24853382_832b_11eb_9f79_28cdc483a2b4row10_col5\" class=\"data row10 col5\" >0.174054</td>\n",
              "                        <td id=\"T_24853382_832b_11eb_9f79_28cdc483a2b4row10_col6\" class=\"data row10 col6\" >-0.394789</td>\n",
              "                        <td id=\"T_24853382_832b_11eb_9f79_28cdc483a2b4row10_col7\" class=\"data row10 col7\" >0.430453</td>\n",
              "                        <td id=\"T_24853382_832b_11eb_9f79_28cdc483a2b4row10_col8\" class=\"data row10 col8\" >0.565883</td>\n",
              "                        <td id=\"T_24853382_832b_11eb_9f79_28cdc483a2b4row10_col9\" class=\"data row10 col9\" >0.382483</td>\n",
              "                        <td id=\"T_24853382_832b_11eb_9f79_28cdc483a2b4row10_col10\" class=\"data row10 col10\" >1.000000</td>\n",
              "            </tr>\n",
              "    </tbody></table>"
            ],
            "text/plain": [
              "<pandas.io.formats.style.Styler at 0x1bbf768bd30>"
            ]
          },
          "metadata": {
            "tags": []
          },
          "execution_count": 113
        }
      ]
    },
    {
      "cell_type": "code",
      "metadata": {
        "id": "JhAKfnF5v-Kd",
        "outputId": "c1df23b8-1260-47c0-d531-589df6a4b06c"
      },
      "source": [
        "\n",
        "model = Lasso(alpha=0.1)\n",
        "\n",
        "print('MSE: {}'.format(-np.average(cross_val_score(model, X, y, cv=5, scoring='neg_mean_squared_error'))))\n",
        "\n",
        "model.fit(X, y).coef_"
      ],
      "execution_count": null,
      "outputs": [
        {
          "output_type": "stream",
          "text": [
            "MSE: 2992.1728906721464\n"
          ],
          "name": "stdout"
        },
        {
          "output_type": "execute_result",
          "data": {
            "text/plain": [
              "array([ -0.27769342, -11.15948797,  24.85518378,  15.2421328 ,\n",
              "       -26.44813964,  13.72566329,  -0.        ,   7.05557447,\n",
              "        31.57506171,   3.1584765 ])"
            ]
          },
          "metadata": {
            "tags": []
          },
          "execution_count": 114
        }
      ]
    },
    {
      "cell_type": "markdown",
      "metadata": {
        "id": "JVd-qZe5v-Kd"
      },
      "source": [
        "## Пробую умножать признаки между собой"
      ]
    },
    {
      "cell_type": "code",
      "metadata": {
        "id": "Hjph0Uumv-Ke",
        "outputId": "0b7b05ed-8e8c-49d2-d24a-2be94dd86c6f"
      },
      "source": [
        "from itertools import combinations\n",
        "columns_list = data.drop([target], axis=1).columns\n",
        "interactions = list(combinations(columns_list, 2))\n",
        "interactions[0:5]"
      ],
      "execution_count": null,
      "outputs": [
        {
          "output_type": "execute_result",
          "data": {
            "text/plain": [
              "[('AGE', 'SEX'), ('AGE', 'BMI'), ('AGE', 'BP'), ('AGE', 'S1'), ('AGE', 'S2')]"
            ]
          },
          "metadata": {
            "tags": []
          },
          "execution_count": 115
        }
      ]
    },
    {
      "cell_type": "code",
      "metadata": {
        "id": "jwLNJ2NRv-Ke",
        "outputId": "e9d4ccc2-6880-444e-b524-9e18c07f77f6"
      },
      "source": [
        "MSE_features = []\n",
        "for interaction in interactions:\n",
        "    X_df = pd.DataFrame(X, columns = columns_list)\n",
        "    new_feature = X_df[interaction[0]] * X_df[interaction[1]]\n",
        "    X_df.drop([interaction[0], interaction[1]], axis=1, inplace = True)\n",
        "    X_df['new_feature'] = new_feature\n",
        "    model = Lasso(alpha=0.1)\n",
        "    \n",
        "    MSE_features.append((-np.average(cross_val_score(model, X_df, y, cv=5, scoring='neg_mean_squared_error')), interaction))\n",
        "best_features = sorted(MSE_features)[0]\n",
        "best_features"
      ],
      "execution_count": null,
      "outputs": [
        {
          "output_type": "execute_result",
          "data": {
            "text/plain": [
              "(2912.6880508671825, ('S4', 'S6'))"
            ]
          },
          "metadata": {
            "tags": []
          },
          "execution_count": 117
        }
      ]
    },
    {
      "cell_type": "markdown",
      "metadata": {
        "id": "4XofgVIFv-Ke"
      },
      "source": [
        "Произведение фичи S4 и S6 дает неплохой прирост к точности нашей модели"
      ]
    },
    {
      "cell_type": "code",
      "metadata": {
        "id": "0dtmdxawv-Ke",
        "outputId": "41ba2e7b-6cd2-4620-f138-e97f48979885"
      },
      "source": [
        "X_df = pd.DataFrame(X, columns = columns_list)\n",
        "new_feature = X_df[best_features[1][0]] * X_df[best_features[1][1]]\n",
        "X_df.drop([best_features[1][0], best_features[1][1]], axis=1, inplace = True)\n",
        "X_df['S4 * S6'] = new_feature\n",
        "X_df"
      ],
      "execution_count": null,
      "outputs": [
        {
          "output_type": "execute_result",
          "data": {
            "text/html": [
              "<div>\n",
              "<style scoped>\n",
              "    .dataframe tbody tr th:only-of-type {\n",
              "        vertical-align: middle;\n",
              "    }\n",
              "\n",
              "    .dataframe tbody tr th {\n",
              "        vertical-align: top;\n",
              "    }\n",
              "\n",
              "    .dataframe thead th {\n",
              "        text-align: right;\n",
              "    }\n",
              "</style>\n",
              "<table border=\"1\" class=\"dataframe\">\n",
              "  <thead>\n",
              "    <tr style=\"text-align: right;\">\n",
              "      <th></th>\n",
              "      <th>AGE</th>\n",
              "      <th>SEX</th>\n",
              "      <th>BMI</th>\n",
              "      <th>BP</th>\n",
              "      <th>S1</th>\n",
              "      <th>S2</th>\n",
              "      <th>S3</th>\n",
              "      <th>S5</th>\n",
              "      <th>S4 * S6</th>\n",
              "    </tr>\n",
              "  </thead>\n",
              "  <tbody>\n",
              "    <tr>\n",
              "      <th>0</th>\n",
              "      <td>0.800500</td>\n",
              "      <td>1.065488</td>\n",
              "      <td>1.297088</td>\n",
              "      <td>0.459841</td>\n",
              "      <td>-0.929746</td>\n",
              "      <td>-0.732065</td>\n",
              "      <td>-0.912451</td>\n",
              "      <td>0.418531</td>\n",
              "      <td>0.020219</td>\n",
              "    </tr>\n",
              "    <tr>\n",
              "      <th>1</th>\n",
              "      <td>-0.039567</td>\n",
              "      <td>-0.938537</td>\n",
              "      <td>-1.082180</td>\n",
              "      <td>-0.553505</td>\n",
              "      <td>-0.177624</td>\n",
              "      <td>-0.402886</td>\n",
              "      <td>1.564414</td>\n",
              "      <td>-1.436589</td>\n",
              "      <td>1.609521</td>\n",
              "    </tr>\n",
              "    <tr>\n",
              "      <th>2</th>\n",
              "      <td>1.793307</td>\n",
              "      <td>1.065488</td>\n",
              "      <td>0.934533</td>\n",
              "      <td>-0.119214</td>\n",
              "      <td>-0.958674</td>\n",
              "      <td>-0.718897</td>\n",
              "      <td>-0.680245</td>\n",
              "      <td>0.060156</td>\n",
              "      <td>0.029710</td>\n",
              "    </tr>\n",
              "    <tr>\n",
              "      <th>3</th>\n",
              "      <td>-1.872441</td>\n",
              "      <td>-0.938537</td>\n",
              "      <td>-0.243771</td>\n",
              "      <td>-0.770650</td>\n",
              "      <td>0.256292</td>\n",
              "      <td>0.525397</td>\n",
              "      <td>-0.757647</td>\n",
              "      <td>0.476983</td>\n",
              "      <td>-0.141969</td>\n",
              "    </tr>\n",
              "    <tr>\n",
              "      <th>4</th>\n",
              "      <td>0.113172</td>\n",
              "      <td>-0.938537</td>\n",
              "      <td>-0.764944</td>\n",
              "      <td>0.459841</td>\n",
              "      <td>0.082726</td>\n",
              "      <td>0.327890</td>\n",
              "      <td>0.171178</td>\n",
              "      <td>-0.672502</td>\n",
              "      <td>0.053440</td>\n",
              "    </tr>\n",
              "    <tr>\n",
              "      <th>...</th>\n",
              "      <td>...</td>\n",
              "      <td>...</td>\n",
              "      <td>...</td>\n",
              "      <td>...</td>\n",
              "      <td>...</td>\n",
              "      <td>...</td>\n",
              "      <td>...</td>\n",
              "      <td>...</td>\n",
              "      <td>...</td>\n",
              "    </tr>\n",
              "    <tr>\n",
              "      <th>437</th>\n",
              "      <td>0.876870</td>\n",
              "      <td>1.065488</td>\n",
              "      <td>0.413360</td>\n",
              "      <td>1.256040</td>\n",
              "      <td>-0.119769</td>\n",
              "      <td>-0.053957</td>\n",
              "      <td>-0.602843</td>\n",
              "      <td>0.655787</td>\n",
              "      <td>-0.008257</td>\n",
              "    </tr>\n",
              "    <tr>\n",
              "      <th>438</th>\n",
              "      <td>-0.115937</td>\n",
              "      <td>1.065488</td>\n",
              "      <td>-0.334410</td>\n",
              "      <td>-1.422086</td>\n",
              "      <td>1.037341</td>\n",
              "      <td>1.664355</td>\n",
              "      <td>-0.602843</td>\n",
              "      <td>-0.380819</td>\n",
              "      <td>0.674601</td>\n",
              "    </tr>\n",
              "    <tr>\n",
              "      <th>439</th>\n",
              "      <td>0.876870</td>\n",
              "      <td>1.065488</td>\n",
              "      <td>-0.334410</td>\n",
              "      <td>0.363573</td>\n",
              "      <td>-0.785107</td>\n",
              "      <td>-0.290965</td>\n",
              "      <td>-0.525441</td>\n",
              "      <td>-0.985649</td>\n",
              "      <td>-0.075860</td>\n",
              "    </tr>\n",
              "    <tr>\n",
              "      <th>440</th>\n",
              "      <td>-0.956004</td>\n",
              "      <td>-0.938537</td>\n",
              "      <td>0.821235</td>\n",
              "      <td>0.025550</td>\n",
              "      <td>0.343075</td>\n",
              "      <td>0.321306</td>\n",
              "      <td>-0.602843</td>\n",
              "      <td>0.936163</td>\n",
              "      <td>-0.304405</td>\n",
              "    </tr>\n",
              "    <tr>\n",
              "      <th>441</th>\n",
              "      <td>-0.956004</td>\n",
              "      <td>-0.938537</td>\n",
              "      <td>-1.535374</td>\n",
              "      <td>-1.711613</td>\n",
              "      <td>1.760535</td>\n",
              "      <td>0.584649</td>\n",
              "      <td>3.654268</td>\n",
              "      <td>-0.088752</td>\n",
              "      <td>-0.053493</td>\n",
              "    </tr>\n",
              "  </tbody>\n",
              "</table>\n",
              "<p>442 rows × 9 columns</p>\n",
              "</div>"
            ],
            "text/plain": [
              "          AGE       SEX       BMI        BP        S1        S2        S3  \\\n",
              "0    0.800500  1.065488  1.297088  0.459841 -0.929746 -0.732065 -0.912451   \n",
              "1   -0.039567 -0.938537 -1.082180 -0.553505 -0.177624 -0.402886  1.564414   \n",
              "2    1.793307  1.065488  0.934533 -0.119214 -0.958674 -0.718897 -0.680245   \n",
              "3   -1.872441 -0.938537 -0.243771 -0.770650  0.256292  0.525397 -0.757647   \n",
              "4    0.113172 -0.938537 -0.764944  0.459841  0.082726  0.327890  0.171178   \n",
              "..        ...       ...       ...       ...       ...       ...       ...   \n",
              "437  0.876870  1.065488  0.413360  1.256040 -0.119769 -0.053957 -0.602843   \n",
              "438 -0.115937  1.065488 -0.334410 -1.422086  1.037341  1.664355 -0.602843   \n",
              "439  0.876870  1.065488 -0.334410  0.363573 -0.785107 -0.290965 -0.525441   \n",
              "440 -0.956004 -0.938537  0.821235  0.025550  0.343075  0.321306 -0.602843   \n",
              "441 -0.956004 -0.938537 -1.535374 -1.711613  1.760535  0.584649  3.654268   \n",
              "\n",
              "           S5   S4 * S6  \n",
              "0    0.418531  0.020219  \n",
              "1   -1.436589  1.609521  \n",
              "2    0.060156  0.029710  \n",
              "3    0.476983 -0.141969  \n",
              "4   -0.672502  0.053440  \n",
              "..        ...       ...  \n",
              "437  0.655787 -0.008257  \n",
              "438 -0.380819  0.674601  \n",
              "439 -0.985649 -0.075860  \n",
              "440  0.936163 -0.304405  \n",
              "441 -0.088752 -0.053493  \n",
              "\n",
              "[442 rows x 9 columns]"
            ]
          },
          "metadata": {
            "tags": []
          },
          "execution_count": 118
        }
      ]
    },
    {
      "cell_type": "markdown",
      "metadata": {
        "id": "aMVKQX_Kv-Kf"
      },
      "source": [
        "## Используем полиномиальные фичи\n",
        "\n"
      ]
    },
    {
      "cell_type": "code",
      "metadata": {
        "id": "RX2ZUNHKv-Kf",
        "outputId": "d7be9e86-a557-44dd-e502-64f2fe8fe486"
      },
      "source": [
        "import warnings\n",
        "warnings.filterwarnings('ignore')\n",
        "results = []\n",
        "for feature in X_df.columns:\n",
        "    X_poly = X_df.copy()\n",
        "    for i in range(2, 6):\n",
        "        X_poly[feature] = np.power(X_poly[feature], i)\n",
        "\n",
        "        model = Lasso(alpha=0.1)\n",
        "        results.append((-np.average(cross_val_score(model, X_poly, y, cv=5, scoring='neg_mean_squared_error')), i, feature))\n",
        "sorted(results)[0]\n"
      ],
      "execution_count": null,
      "outputs": [
        {
          "output_type": "execute_result",
          "data": {
            "text/plain": [
              "(2877.4707129967655, 3, 'AGE')"
            ]
          },
          "metadata": {
            "tags": []
          },
          "execution_count": 121
        }
      ]
    },
    {
      "cell_type": "markdown",
      "metadata": {
        "id": "Rkh9E_zZv-Kf"
      },
      "source": [
        "Возведя столбец AGE в 3ю степень мы получаем еще более низкий лос"
      ]
    },
    {
      "cell_type": "markdown",
      "metadata": {
        "id": "_8ke1pMCv-Kf"
      },
      "source": [
        "### Теперь посмотрим на выбросы наших данных и почистим их\n",
        "Заранее извиняюсь за такой формат боксов, почему-то не захотели сторится рядом в одной ячейке"
      ]
    },
    {
      "cell_type": "code",
      "metadata": {
        "id": "HYNAyzgLv-Kg"
      },
      "source": [
        "import seaborn as sns"
      ],
      "execution_count": null,
      "outputs": []
    },
    {
      "cell_type": "code",
      "metadata": {
        "id": "rWym2bMMv-Kg",
        "outputId": "073b1c8b-8df4-4ea8-a464-1e8a04d2532d"
      },
      "source": [
        "sns.boxplot(data['Y'])"
      ],
      "execution_count": null,
      "outputs": [
        {
          "output_type": "execute_result",
          "data": {
            "text/plain": [
              "<AxesSubplot:xlabel='Y'>"
            ]
          },
          "metadata": {
            "tags": []
          },
          "execution_count": 124
        },
        {
          "output_type": "display_data",
          "data": {
            "image/png": "[encoded data removed]",
            "text/plain": [
              "<Figure size 432x288 with 1 Axes>"
            ]
          },
          "metadata": {
            "tags": [],
            "needs_background": "light"
          }
        }
      ]
    },
    {
      "cell_type": "code",
      "metadata": {
        "id": "kBvKyXArv-Kg",
        "outputId": "4b85cc6d-d726-4ada-9342-ac316c619b06"
      },
      "source": [
        "sns.boxplot(data['S1'])"
      ],
      "execution_count": null,
      "outputs": [
        {
          "output_type": "execute_result",
          "data": {
            "text/plain": [
              "<AxesSubplot:xlabel='S1'>"
            ]
          },
          "metadata": {
            "tags": []
          },
          "execution_count": 125
        },
        {
          "output_type": "display_data",
          "data": {
            "image/png": "[encoded data removed]",
            "text/plain": [
              "<Figure size 432x288 with 1 Axes>"
            ]
          },
          "metadata": {
            "tags": [],
            "needs_background": "light"
          }
        }
      ]
    },
    {
      "cell_type": "code",
      "metadata": {
        "id": "5N_-PEMrv-Kg",
        "outputId": "691fcc35-cd89-495e-d2af-a43562c7d88e"
      },
      "source": [
        "sns.boxplot(data['S2'])"
      ],
      "execution_count": null,
      "outputs": [
        {
          "output_type": "execute_result",
          "data": {
            "text/plain": [
              "<AxesSubplot:xlabel='S2'>"
            ]
          },
          "metadata": {
            "tags": []
          },
          "execution_count": 126
        },
        {
          "output_type": "display_data",
          "data": {
            "image/png": "[encoded data removed]",
            "text/plain": [
              "<Figure size 432x288 with 1 Axes>"
            ]
          },
          "metadata": {
            "tags": [],
            "needs_background": "light"
          }
        }
      ]
    },
    {
      "cell_type": "code",
      "metadata": {
        "id": "NSy6t-aWv-Kh",
        "outputId": "a2748afc-ee60-429e-e8d6-ee644786957a"
      },
      "source": [
        "sns.boxplot(data['S3'])"
      ],
      "execution_count": null,
      "outputs": [
        {
          "output_type": "execute_result",
          "data": {
            "text/plain": [
              "<AxesSubplot:xlabel='S3'>"
            ]
          },
          "metadata": {
            "tags": []
          },
          "execution_count": 127
        },
        {
          "output_type": "display_data",
          "data": {
            "image/png": "[encoded data removed]",
            "text/plain": [
              "<Figure size 432x288 with 1 Axes>"
            ]
          },
          "metadata": {
            "tags": [],
            "needs_background": "light"
          }
        }
      ]
    },
    {
      "cell_type": "code",
      "metadata": {
        "id": "fO9e8w7gv-Kh",
        "outputId": "dfbc2b67-cdc9-467c-e3d4-6b5b1e7bd0ee"
      },
      "source": [
        "sns.boxplot(data['S4'])"
      ],
      "execution_count": null,
      "outputs": [
        {
          "output_type": "execute_result",
          "data": {
            "text/plain": [
              "<AxesSubplot:xlabel='S4'>"
            ]
          },
          "metadata": {
            "tags": []
          },
          "execution_count": 128
        },
        {
          "output_type": "display_data",
          "data": {
            "image/png": "[encoded data removed]",
            "text/plain": [
              "<Figure size 432x288 with 1 Axes>"
            ]
          },
          "metadata": {
            "tags": [],
            "needs_background": "light"
          }
        }
      ]
    },
    {
      "cell_type": "code",
      "metadata": {
        "id": "5pn8XtRFv-Kh",
        "outputId": "3936fcb6-5778-4ea7-cf84-82ea80d74ccb"
      },
      "source": [
        "sns.boxplot(data['S5'])"
      ],
      "execution_count": null,
      "outputs": [
        {
          "output_type": "execute_result",
          "data": {
            "text/plain": [
              "<AxesSubplot:xlabel='S5'>"
            ]
          },
          "metadata": {
            "tags": []
          },
          "execution_count": 129
        },
        {
          "output_type": "display_data",
          "data": {
            "image/png": "[encoded data removed]",
            "text/plain": [
              "<Figure size 432x288 with 1 Axes>"
            ]
          },
          "metadata": {
            "tags": [],
            "needs_background": "light"
          }
        }
      ]
    },
    {
      "cell_type": "code",
      "metadata": {
        "id": "uT3VGyrZv-Kh",
        "outputId": "a5db18b8-0197-4360-a490-5d43ad7c99c1"
      },
      "source": [
        "sns.boxplot(data['S6'])"
      ],
      "execution_count": null,
      "outputs": [
        {
          "output_type": "execute_result",
          "data": {
            "text/plain": [
              "<AxesSubplot:xlabel='S6'>"
            ]
          },
          "metadata": {
            "tags": []
          },
          "execution_count": 130
        },
        {
          "output_type": "display_data",
          "data": {
            "image/png": "[encoded data removed]",
            "text/plain": [
              "<Figure size 432x288 with 1 Axes>"
            ]
          },
          "metadata": {
            "tags": [],
            "needs_background": "light"
          }
        }
      ]
    },
    {
      "cell_type": "code",
      "metadata": {
        "id": "NgQ3Bvbbv-Kh",
        "outputId": "c14ad556-f268-4988-83b1-24d2e5058f7f"
      },
      "source": [
        "sns.boxplot(data['BMI'])"
      ],
      "execution_count": null,
      "outputs": [
        {
          "output_type": "execute_result",
          "data": {
            "text/plain": [
              "<AxesSubplot:xlabel='BMI'>"
            ]
          },
          "metadata": {
            "tags": []
          },
          "execution_count": 131
        },
        {
          "output_type": "display_data",
          "data": {
            "image/png": "[encoded data removed]",
            "text/plain": [
              "<Figure size 432x288 with 1 Axes>"
            ]
          },
          "metadata": {
            "tags": [],
            "needs_background": "light"
          }
        }
      ]
    },
    {
      "cell_type": "code",
      "metadata": {
        "id": "Xey7PVupv-Ki",
        "outputId": "41610662-5526-4c5c-9415-5a019494a580"
      },
      "source": [
        "sns.boxplot(data['BP'])"
      ],
      "execution_count": null,
      "outputs": [
        {
          "output_type": "execute_result",
          "data": {
            "text/plain": [
              "<AxesSubplot:xlabel='BP'>"
            ]
          },
          "metadata": {
            "tags": []
          },
          "execution_count": 132
        },
        {
          "output_type": "display_data",
          "data": {
            "image/png": "[encoded data removed]",
            "text/plain": [
              "<Figure size 432x288 with 1 Axes>"
            ]
          },
          "metadata": {
            "tags": [],
            "needs_background": "light"
          }
        }
      ]
    },
    {
      "cell_type": "code",
      "metadata": {
        "id": "uQciwqabv-Ki",
        "outputId": "e6301a20-57b6-4e6d-83b6-0f41232cb358"
      },
      "source": [
        "data = pd.read_csv('diabetes.data.csv', sep='\\t')\n",
        "data.describe()"
      ],
      "execution_count": null,
      "outputs": [
        {
          "output_type": "execute_result",
          "data": {
            "text/html": [
              "<div>\n",
              "<style scoped>\n",
              "    .dataframe tbody tr th:only-of-type {\n",
              "        vertical-align: middle;\n",
              "    }\n",
              "\n",
              "    .dataframe tbody tr th {\n",
              "        vertical-align: top;\n",
              "    }\n",
              "\n",
              "    .dataframe thead th {\n",
              "        text-align: right;\n",
              "    }\n",
              "</style>\n",
              "<table border=\"1\" class=\"dataframe\">\n",
              "  <thead>\n",
              "    <tr style=\"text-align: right;\">\n",
              "      <th></th>\n",
              "      <th>AGE</th>\n",
              "      <th>SEX</th>\n",
              "      <th>BMI</th>\n",
              "      <th>BP</th>\n",
              "      <th>S1</th>\n",
              "      <th>S2</th>\n",
              "      <th>S3</th>\n",
              "      <th>S4</th>\n",
              "      <th>S5</th>\n",
              "      <th>S6</th>\n",
              "      <th>Y</th>\n",
              "    </tr>\n",
              "  </thead>\n",
              "  <tbody>\n",
              "    <tr>\n",
              "      <th>count</th>\n",
              "      <td>442.000000</td>\n",
              "      <td>442.000000</td>\n",
              "      <td>442.000000</td>\n",
              "      <td>442.000000</td>\n",
              "      <td>442.000000</td>\n",
              "      <td>442.000000</td>\n",
              "      <td>442.000000</td>\n",
              "      <td>442.000000</td>\n",
              "      <td>442.000000</td>\n",
              "      <td>442.000000</td>\n",
              "      <td>442.000000</td>\n",
              "    </tr>\n",
              "    <tr>\n",
              "      <th>mean</th>\n",
              "      <td>48.518100</td>\n",
              "      <td>1.468326</td>\n",
              "      <td>26.375792</td>\n",
              "      <td>94.647014</td>\n",
              "      <td>189.140271</td>\n",
              "      <td>115.439140</td>\n",
              "      <td>49.788462</td>\n",
              "      <td>4.070249</td>\n",
              "      <td>4.641411</td>\n",
              "      <td>91.260181</td>\n",
              "      <td>152.133484</td>\n",
              "    </tr>\n",
              "    <tr>\n",
              "      <th>std</th>\n",
              "      <td>13.109028</td>\n",
              "      <td>0.499561</td>\n",
              "      <td>4.418122</td>\n",
              "      <td>13.831283</td>\n",
              "      <td>34.608052</td>\n",
              "      <td>30.413081</td>\n",
              "      <td>12.934202</td>\n",
              "      <td>1.290450</td>\n",
              "      <td>0.522391</td>\n",
              "      <td>11.496335</td>\n",
              "      <td>77.093005</td>\n",
              "    </tr>\n",
              "    <tr>\n",
              "      <th>min</th>\n",
              "      <td>19.000000</td>\n",
              "      <td>1.000000</td>\n",
              "      <td>18.000000</td>\n",
              "      <td>62.000000</td>\n",
              "      <td>97.000000</td>\n",
              "      <td>41.600000</td>\n",
              "      <td>22.000000</td>\n",
              "      <td>2.000000</td>\n",
              "      <td>3.258100</td>\n",
              "      <td>58.000000</td>\n",
              "      <td>25.000000</td>\n",
              "    </tr>\n",
              "    <tr>\n",
              "      <th>25%</th>\n",
              "      <td>38.250000</td>\n",
              "      <td>1.000000</td>\n",
              "      <td>23.200000</td>\n",
              "      <td>84.000000</td>\n",
              "      <td>164.250000</td>\n",
              "      <td>96.050000</td>\n",
              "      <td>40.250000</td>\n",
              "      <td>3.000000</td>\n",
              "      <td>4.276700</td>\n",
              "      <td>83.250000</td>\n",
              "      <td>87.000000</td>\n",
              "    </tr>\n",
              "    <tr>\n",
              "      <th>50%</th>\n",
              "      <td>50.000000</td>\n",
              "      <td>1.000000</td>\n",
              "      <td>25.700000</td>\n",
              "      <td>93.000000</td>\n",
              "      <td>186.000000</td>\n",
              "      <td>113.000000</td>\n",
              "      <td>48.000000</td>\n",
              "      <td>4.000000</td>\n",
              "      <td>4.620050</td>\n",
              "      <td>91.000000</td>\n",
              "      <td>140.500000</td>\n",
              "    </tr>\n",
              "    <tr>\n",
              "      <th>75%</th>\n",
              "      <td>59.000000</td>\n",
              "      <td>2.000000</td>\n",
              "      <td>29.275000</td>\n",
              "      <td>105.000000</td>\n",
              "      <td>209.750000</td>\n",
              "      <td>134.500000</td>\n",
              "      <td>57.750000</td>\n",
              "      <td>5.000000</td>\n",
              "      <td>4.997200</td>\n",
              "      <td>98.000000</td>\n",
              "      <td>211.500000</td>\n",
              "    </tr>\n",
              "    <tr>\n",
              "      <th>max</th>\n",
              "      <td>79.000000</td>\n",
              "      <td>2.000000</td>\n",
              "      <td>42.200000</td>\n",
              "      <td>133.000000</td>\n",
              "      <td>301.000000</td>\n",
              "      <td>242.400000</td>\n",
              "      <td>99.000000</td>\n",
              "      <td>9.090000</td>\n",
              "      <td>6.107000</td>\n",
              "      <td>124.000000</td>\n",
              "      <td>346.000000</td>\n",
              "    </tr>\n",
              "  </tbody>\n",
              "</table>\n",
              "</div>"
            ],
            "text/plain": [
              "              AGE         SEX         BMI          BP          S1          S2  \\\n",
              "count  442.000000  442.000000  442.000000  442.000000  442.000000  442.000000   \n",
              "mean    48.518100    1.468326   26.375792   94.647014  189.140271  115.439140   \n",
              "std     13.109028    0.499561    4.418122   13.831283   34.608052   30.413081   \n",
              "min     19.000000    1.000000   18.000000   62.000000   97.000000   41.600000   \n",
              "25%     38.250000    1.000000   23.200000   84.000000  164.250000   96.050000   \n",
              "50%     50.000000    1.000000   25.700000   93.000000  186.000000  113.000000   \n",
              "75%     59.000000    2.000000   29.275000  105.000000  209.750000  134.500000   \n",
              "max     79.000000    2.000000   42.200000  133.000000  301.000000  242.400000   \n",
              "\n",
              "               S3          S4          S5          S6           Y  \n",
              "count  442.000000  442.000000  442.000000  442.000000  442.000000  \n",
              "mean    49.788462    4.070249    4.641411   91.260181  152.133484  \n",
              "std     12.934202    1.290450    0.522391   11.496335   77.093005  \n",
              "min     22.000000    2.000000    3.258100   58.000000   25.000000  \n",
              "25%     40.250000    3.000000    4.276700   83.250000   87.000000  \n",
              "50%     48.000000    4.000000    4.620050   91.000000  140.500000  \n",
              "75%     57.750000    5.000000    4.997200   98.000000  211.500000  \n",
              "max     99.000000    9.090000    6.107000  124.000000  346.000000  "
            ]
          },
          "metadata": {
            "tags": []
          },
          "execution_count": 133
        }
      ]
    },
    {
      "cell_type": "markdown",
      "metadata": {
        "id": "_BLITL7Uv-Ki"
      },
      "source": [
        "## Чистим данные от выбросов"
      ]
    },
    {
      "cell_type": "code",
      "metadata": {
        "id": "5IQWWFicv-Ki",
        "outputId": "fed83a55-7971-4f36-c9cf-72520bac7d04"
      },
      "source": [
        "for i in data.columns:\n",
        "    IQR = data.describe().loc['75%', i] - data.describe().loc['25%', i]\n",
        "    up = (1.5*IQR) + data.describe().loc['75%', i]\n",
        "    dn = data.describe().loc['25%', i] - (1.5*IQR)\n",
        "    data = data.loc[data[i] > dn]\n",
        "    data = data.loc[data[i] < up]\n",
        "data"
      ],
      "execution_count": null,
      "outputs": [
        {
          "output_type": "execute_result",
          "data": {
            "text/html": [
              "<div>\n",
              "<style scoped>\n",
              "    .dataframe tbody tr th:only-of-type {\n",
              "        vertical-align: middle;\n",
              "    }\n",
              "\n",
              "    .dataframe tbody tr th {\n",
              "        vertical-align: top;\n",
              "    }\n",
              "\n",
              "    .dataframe thead th {\n",
              "        text-align: right;\n",
              "    }\n",
              "</style>\n",
              "<table border=\"1\" class=\"dataframe\">\n",
              "  <thead>\n",
              "    <tr style=\"text-align: right;\">\n",
              "      <th></th>\n",
              "      <th>AGE</th>\n",
              "      <th>SEX</th>\n",
              "      <th>BMI</th>\n",
              "      <th>BP</th>\n",
              "      <th>S1</th>\n",
              "      <th>S2</th>\n",
              "      <th>S3</th>\n",
              "      <th>S4</th>\n",
              "      <th>S5</th>\n",
              "      <th>S6</th>\n",
              "      <th>Y</th>\n",
              "    </tr>\n",
              "  </thead>\n",
              "  <tbody>\n",
              "    <tr>\n",
              "      <th>0</th>\n",
              "      <td>59</td>\n",
              "      <td>2</td>\n",
              "      <td>32.1</td>\n",
              "      <td>101.00</td>\n",
              "      <td>157</td>\n",
              "      <td>93.2</td>\n",
              "      <td>38.0</td>\n",
              "      <td>4.00</td>\n",
              "      <td>4.8598</td>\n",
              "      <td>87</td>\n",
              "      <td>151</td>\n",
              "    </tr>\n",
              "    <tr>\n",
              "      <th>1</th>\n",
              "      <td>48</td>\n",
              "      <td>1</td>\n",
              "      <td>21.6</td>\n",
              "      <td>87.00</td>\n",
              "      <td>183</td>\n",
              "      <td>103.2</td>\n",
              "      <td>70.0</td>\n",
              "      <td>3.00</td>\n",
              "      <td>3.8918</td>\n",
              "      <td>69</td>\n",
              "      <td>75</td>\n",
              "    </tr>\n",
              "    <tr>\n",
              "      <th>2</th>\n",
              "      <td>72</td>\n",
              "      <td>2</td>\n",
              "      <td>30.5</td>\n",
              "      <td>93.00</td>\n",
              "      <td>156</td>\n",
              "      <td>93.6</td>\n",
              "      <td>41.0</td>\n",
              "      <td>4.00</td>\n",
              "      <td>4.6728</td>\n",
              "      <td>85</td>\n",
              "      <td>141</td>\n",
              "    </tr>\n",
              "    <tr>\n",
              "      <th>3</th>\n",
              "      <td>24</td>\n",
              "      <td>1</td>\n",
              "      <td>25.3</td>\n",
              "      <td>84.00</td>\n",
              "      <td>198</td>\n",
              "      <td>131.4</td>\n",
              "      <td>40.0</td>\n",
              "      <td>5.00</td>\n",
              "      <td>4.8903</td>\n",
              "      <td>89</td>\n",
              "      <td>206</td>\n",
              "    </tr>\n",
              "    <tr>\n",
              "      <th>4</th>\n",
              "      <td>50</td>\n",
              "      <td>1</td>\n",
              "      <td>23.0</td>\n",
              "      <td>101.00</td>\n",
              "      <td>192</td>\n",
              "      <td>125.4</td>\n",
              "      <td>52.0</td>\n",
              "      <td>4.00</td>\n",
              "      <td>4.2905</td>\n",
              "      <td>80</td>\n",
              "      <td>135</td>\n",
              "    </tr>\n",
              "    <tr>\n",
              "      <th>...</th>\n",
              "      <td>...</td>\n",
              "      <td>...</td>\n",
              "      <td>...</td>\n",
              "      <td>...</td>\n",
              "      <td>...</td>\n",
              "      <td>...</td>\n",
              "      <td>...</td>\n",
              "      <td>...</td>\n",
              "      <td>...</td>\n",
              "      <td>...</td>\n",
              "      <td>...</td>\n",
              "    </tr>\n",
              "    <tr>\n",
              "      <th>436</th>\n",
              "      <td>33</td>\n",
              "      <td>1</td>\n",
              "      <td>19.5</td>\n",
              "      <td>80.00</td>\n",
              "      <td>171</td>\n",
              "      <td>85.4</td>\n",
              "      <td>75.0</td>\n",
              "      <td>2.00</td>\n",
              "      <td>3.9703</td>\n",
              "      <td>80</td>\n",
              "      <td>48</td>\n",
              "    </tr>\n",
              "    <tr>\n",
              "      <th>437</th>\n",
              "      <td>60</td>\n",
              "      <td>2</td>\n",
              "      <td>28.2</td>\n",
              "      <td>112.00</td>\n",
              "      <td>185</td>\n",
              "      <td>113.8</td>\n",
              "      <td>42.0</td>\n",
              "      <td>4.00</td>\n",
              "      <td>4.9836</td>\n",
              "      <td>93</td>\n",
              "      <td>178</td>\n",
              "    </tr>\n",
              "    <tr>\n",
              "      <th>438</th>\n",
              "      <td>47</td>\n",
              "      <td>2</td>\n",
              "      <td>24.9</td>\n",
              "      <td>75.00</td>\n",
              "      <td>225</td>\n",
              "      <td>166.0</td>\n",
              "      <td>42.0</td>\n",
              "      <td>5.00</td>\n",
              "      <td>4.4427</td>\n",
              "      <td>102</td>\n",
              "      <td>104</td>\n",
              "    </tr>\n",
              "    <tr>\n",
              "      <th>439</th>\n",
              "      <td>60</td>\n",
              "      <td>2</td>\n",
              "      <td>24.9</td>\n",
              "      <td>99.67</td>\n",
              "      <td>162</td>\n",
              "      <td>106.6</td>\n",
              "      <td>43.0</td>\n",
              "      <td>3.77</td>\n",
              "      <td>4.1271</td>\n",
              "      <td>95</td>\n",
              "      <td>132</td>\n",
              "    </tr>\n",
              "    <tr>\n",
              "      <th>440</th>\n",
              "      <td>36</td>\n",
              "      <td>1</td>\n",
              "      <td>30.0</td>\n",
              "      <td>95.00</td>\n",
              "      <td>201</td>\n",
              "      <td>125.2</td>\n",
              "      <td>42.0</td>\n",
              "      <td>4.79</td>\n",
              "      <td>5.1299</td>\n",
              "      <td>85</td>\n",
              "      <td>220</td>\n",
              "    </tr>\n",
              "  </tbody>\n",
              "</table>\n",
              "<p>405 rows × 11 columns</p>\n",
              "</div>"
            ],
            "text/plain": [
              "     AGE  SEX   BMI      BP   S1     S2    S3    S4      S5   S6    Y\n",
              "0     59    2  32.1  101.00  157   93.2  38.0  4.00  4.8598   87  151\n",
              "1     48    1  21.6   87.00  183  103.2  70.0  3.00  3.8918   69   75\n",
              "2     72    2  30.5   93.00  156   93.6  41.0  4.00  4.6728   85  141\n",
              "3     24    1  25.3   84.00  198  131.4  40.0  5.00  4.8903   89  206\n",
              "4     50    1  23.0  101.00  192  125.4  52.0  4.00  4.2905   80  135\n",
              "..   ...  ...   ...     ...  ...    ...   ...   ...     ...  ...  ...\n",
              "436   33    1  19.5   80.00  171   85.4  75.0  2.00  3.9703   80   48\n",
              "437   60    2  28.2  112.00  185  113.8  42.0  4.00  4.9836   93  178\n",
              "438   47    2  24.9   75.00  225  166.0  42.0  5.00  4.4427  102  104\n",
              "439   60    2  24.9   99.67  162  106.6  43.0  3.77  4.1271   95  132\n",
              "440   36    1  30.0   95.00  201  125.2  42.0  4.79  5.1299   85  220\n",
              "\n",
              "[405 rows x 11 columns]"
            ]
          },
          "metadata": {
            "tags": []
          },
          "execution_count": 134
        }
      ]
    },
    {
      "cell_type": "markdown",
      "metadata": {
        "id": "1Nnyvmr4v-Kj"
      },
      "source": [
        "Ошибка из 'коробки' стала меньше"
      ]
    },
    {
      "cell_type": "code",
      "metadata": {
        "id": "1mOQ6bxnv-Kj",
        "outputId": "d434c49c-845a-466f-b6f0-846caeb63615"
      },
      "source": [
        "X_clear = preprocessing.scale(data.drop([target], axis=1), axis=0)\n",
        "y_clear = data[target]\n",
        "\n",
        "model = Lasso(alpha=0.1)\n",
        "-np.average(cross_val_score(model, X_clear, y_clear, cv=5, scoring='neg_mean_squared_error'))"
      ],
      "execution_count": null,
      "outputs": [
        {
          "output_type": "execute_result",
          "data": {
            "text/plain": [
              "2981.3173449770866"
            ]
          },
          "metadata": {
            "tags": []
          },
          "execution_count": 135
        }
      ]
    },
    {
      "cell_type": "markdown",
      "metadata": {
        "id": "RduZvFacv-Kj"
      },
      "source": [
        "## Теперь повторяю все те же действия что и раньше, но уже на чистых данных"
      ]
    },
    {
      "cell_type": "code",
      "metadata": {
        "id": "qgyAFsusv-Kj",
        "outputId": "2bcee3a3-d520-48c3-e468-4d0c3b302227"
      },
      "source": [
        "MSE_features = []\n",
        "for interaction in interactions:\n",
        "    X_df = pd.DataFrame(X_clear, columns = columns_list)\n",
        "    new_feature = X_df[interaction[0]] * X_df[interaction[1]]\n",
        "    X_df['new_feature'] = new_feature\n",
        "    model = Lasso(alpha=0.1)\n",
        "    \n",
        "    MSE_features.append((-np.average(cross_val_score(model, X_df, y_clear, cv=5, scoring='neg_mean_squared_error')), interaction))\n",
        "best_features = sorted(MSE_features)[0]\n",
        "best_features"
      ],
      "execution_count": null,
      "outputs": [
        {
          "output_type": "execute_result",
          "data": {
            "text/plain": [
              "(2875.134914802763, ('BMI', 'BP'))"
            ]
          },
          "metadata": {
            "tags": []
          },
          "execution_count": 136
        }
      ]
    },
    {
      "cell_type": "code",
      "metadata": {
        "id": "tI9YdI2Fv-Kj",
        "outputId": "b7a064a5-a0d6-4245-964c-49c1b7b7f7df"
      },
      "source": [
        "X_df = pd.DataFrame(X_clear, columns = columns_list)\n",
        "new_feature = X_df[best_features[1][0]] * X_df[best_features[1][1]]\n",
        "X_df['BMI * BP'] = new_feature\n",
        "X_df"
      ],
      "execution_count": null,
      "outputs": [
        {
          "output_type": "execute_result",
          "data": {
            "text/html": [
              "<div>\n",
              "<style scoped>\n",
              "    .dataframe tbody tr th:only-of-type {\n",
              "        vertical-align: middle;\n",
              "    }\n",
              "\n",
              "    .dataframe tbody tr th {\n",
              "        vertical-align: top;\n",
              "    }\n",
              "\n",
              "    .dataframe thead th {\n",
              "        text-align: right;\n",
              "    }\n",
              "</style>\n",
              "<table border=\"1\" class=\"dataframe\">\n",
              "  <thead>\n",
              "    <tr style=\"text-align: right;\">\n",
              "      <th></th>\n",
              "      <th>AGE</th>\n",
              "      <th>SEX</th>\n",
              "      <th>BMI</th>\n",
              "      <th>BP</th>\n",
              "      <th>S1</th>\n",
              "      <th>S2</th>\n",
              "      <th>S3</th>\n",
              "      <th>S4</th>\n",
              "      <th>S5</th>\n",
              "      <th>S6</th>\n",
              "      <th>BMI * BP</th>\n",
              "    </tr>\n",
              "  </thead>\n",
              "  <tbody>\n",
              "    <tr>\n",
              "      <th>0</th>\n",
              "      <td>0.803596</td>\n",
              "      <td>1.063757</td>\n",
              "      <td>1.391895</td>\n",
              "      <td>0.483780</td>\n",
              "      <td>-0.905116</td>\n",
              "      <td>-0.732209</td>\n",
              "      <td>-0.987836</td>\n",
              "      <td>0.028495</td>\n",
              "      <td>0.538070</td>\n",
              "      <td>-0.347790</td>\n",
              "      <td>0.673371</td>\n",
              "    </tr>\n",
              "    <tr>\n",
              "      <th>1</th>\n",
              "      <td>-0.027035</td>\n",
              "      <td>-0.940064</td>\n",
              "      <td>-1.090921</td>\n",
              "      <td>-0.550671</td>\n",
              "      <td>-0.075479</td>\n",
              "      <td>-0.369450</td>\n",
              "      <td>1.743334</td>\n",
              "      <td>-0.842478</td>\n",
              "      <td>-1.447966</td>\n",
              "      <td>-2.031314</td>\n",
              "      <td>0.600738</td>\n",
              "    </tr>\n",
              "    <tr>\n",
              "      <th>2</th>\n",
              "      <td>1.785251</td>\n",
              "      <td>1.063757</td>\n",
              "      <td>1.013561</td>\n",
              "      <td>-0.107335</td>\n",
              "      <td>-0.937025</td>\n",
              "      <td>-0.717699</td>\n",
              "      <td>-0.731789</td>\n",
              "      <td>0.028495</td>\n",
              "      <td>0.154404</td>\n",
              "      <td>-0.534848</td>\n",
              "      <td>-0.108790</td>\n",
              "    </tr>\n",
              "    <tr>\n",
              "      <th>3</th>\n",
              "      <td>-1.839321</td>\n",
              "      <td>-0.940064</td>\n",
              "      <td>-0.216024</td>\n",
              "      <td>-0.772339</td>\n",
              "      <td>0.403158</td>\n",
              "      <td>0.653531</td>\n",
              "      <td>-0.817138</td>\n",
              "      <td>0.899468</td>\n",
              "      <td>0.600646</td>\n",
              "      <td>-0.160732</td>\n",
              "      <td>0.166844</td>\n",
              "    </tr>\n",
              "    <tr>\n",
              "      <th>4</th>\n",
              "      <td>0.123989</td>\n",
              "      <td>-0.940064</td>\n",
              "      <td>-0.759879</td>\n",
              "      <td>0.483780</td>\n",
              "      <td>0.211703</td>\n",
              "      <td>0.435875</td>\n",
              "      <td>0.207051</td>\n",
              "      <td>0.028495</td>\n",
              "      <td>-0.629957</td>\n",
              "      <td>-1.002494</td>\n",
              "      <td>-0.367614</td>\n",
              "    </tr>\n",
              "    <tr>\n",
              "      <th>...</th>\n",
              "      <td>...</td>\n",
              "      <td>...</td>\n",
              "      <td>...</td>\n",
              "      <td>...</td>\n",
              "      <td>...</td>\n",
              "      <td>...</td>\n",
              "      <td>...</td>\n",
              "      <td>...</td>\n",
              "      <td>...</td>\n",
              "      <td>...</td>\n",
              "      <td>...</td>\n",
              "    </tr>\n",
              "    <tr>\n",
              "      <th>400</th>\n",
              "      <td>-1.159714</td>\n",
              "      <td>-0.940064</td>\n",
              "      <td>-1.587484</td>\n",
              "      <td>-1.067896</td>\n",
              "      <td>-0.458388</td>\n",
              "      <td>-1.015161</td>\n",
              "      <td>2.170079</td>\n",
              "      <td>-1.713451</td>\n",
              "      <td>-1.286909</td>\n",
              "      <td>-1.002494</td>\n",
              "      <td>1.695268</td>\n",
              "    </tr>\n",
              "    <tr>\n",
              "      <th>401</th>\n",
              "      <td>0.879108</td>\n",
              "      <td>1.063757</td>\n",
              "      <td>0.469706</td>\n",
              "      <td>1.296562</td>\n",
              "      <td>-0.011661</td>\n",
              "      <td>0.015075</td>\n",
              "      <td>-0.646440</td>\n",
              "      <td>0.028495</td>\n",
              "      <td>0.792069</td>\n",
              "      <td>0.213385</td>\n",
              "      <td>0.609003</td>\n",
              "    </tr>\n",
              "    <tr>\n",
              "      <th>402</th>\n",
              "      <td>-0.102547</td>\n",
              "      <td>1.063757</td>\n",
              "      <td>-0.310607</td>\n",
              "      <td>-1.437343</td>\n",
              "      <td>1.264704</td>\n",
              "      <td>1.908677</td>\n",
              "      <td>-0.646440</td>\n",
              "      <td>0.899468</td>\n",
              "      <td>-0.317690</td>\n",
              "      <td>1.055147</td>\n",
              "      <td>0.446449</td>\n",
              "    </tr>\n",
              "    <tr>\n",
              "      <th>403</th>\n",
              "      <td>0.879108</td>\n",
              "      <td>1.063757</td>\n",
              "      <td>-0.310607</td>\n",
              "      <td>0.385507</td>\n",
              "      <td>-0.745570</td>\n",
              "      <td>-0.246112</td>\n",
              "      <td>-0.561091</td>\n",
              "      <td>-0.171829</td>\n",
              "      <td>-0.965204</td>\n",
              "      <td>0.400443</td>\n",
              "      <td>-0.119741</td>\n",
              "    </tr>\n",
              "    <tr>\n",
              "      <th>404</th>\n",
              "      <td>-0.933178</td>\n",
              "      <td>-0.940064</td>\n",
              "      <td>0.895332</td>\n",
              "      <td>0.040444</td>\n",
              "      <td>0.498885</td>\n",
              "      <td>0.428620</td>\n",
              "      <td>-0.646440</td>\n",
              "      <td>0.716563</td>\n",
              "      <td>1.092231</td>\n",
              "      <td>-0.534848</td>\n",
              "      <td>0.036211</td>\n",
              "    </tr>\n",
              "  </tbody>\n",
              "</table>\n",
              "<p>405 rows × 11 columns</p>\n",
              "</div>"
            ],
            "text/plain": [
              "          AGE       SEX       BMI        BP        S1        S2        S3  \\\n",
              "0    0.803596  1.063757  1.391895  0.483780 -0.905116 -0.732209 -0.987836   \n",
              "1   -0.027035 -0.940064 -1.090921 -0.550671 -0.075479 -0.369450  1.743334   \n",
              "2    1.785251  1.063757  1.013561 -0.107335 -0.937025 -0.717699 -0.731789   \n",
              "3   -1.839321 -0.940064 -0.216024 -0.772339  0.403158  0.653531 -0.817138   \n",
              "4    0.123989 -0.940064 -0.759879  0.483780  0.211703  0.435875  0.207051   \n",
              "..        ...       ...       ...       ...       ...       ...       ...   \n",
              "400 -1.159714 -0.940064 -1.587484 -1.067896 -0.458388 -1.015161  2.170079   \n",
              "401  0.879108  1.063757  0.469706  1.296562 -0.011661  0.015075 -0.646440   \n",
              "402 -0.102547  1.063757 -0.310607 -1.437343  1.264704  1.908677 -0.646440   \n",
              "403  0.879108  1.063757 -0.310607  0.385507 -0.745570 -0.246112 -0.561091   \n",
              "404 -0.933178 -0.940064  0.895332  0.040444  0.498885  0.428620 -0.646440   \n",
              "\n",
              "           S4        S5        S6  BMI * BP  \n",
              "0    0.028495  0.538070 -0.347790  0.673371  \n",
              "1   -0.842478 -1.447966 -2.031314  0.600738  \n",
              "2    0.028495  0.154404 -0.534848 -0.108790  \n",
              "3    0.899468  0.600646 -0.160732  0.166844  \n",
              "4    0.028495 -0.629957 -1.002494 -0.367614  \n",
              "..        ...       ...       ...       ...  \n",
              "400 -1.713451 -1.286909 -1.002494  1.695268  \n",
              "401  0.028495  0.792069  0.213385  0.609003  \n",
              "402  0.899468 -0.317690  1.055147  0.446449  \n",
              "403 -0.171829 -0.965204  0.400443 -0.119741  \n",
              "404  0.716563  1.092231 -0.534848  0.036211  \n",
              "\n",
              "[405 rows x 11 columns]"
            ]
          },
          "metadata": {
            "tags": []
          },
          "execution_count": 137
        }
      ]
    },
    {
      "cell_type": "code",
      "metadata": {
        "id": "fhT4BDocv-Kk",
        "outputId": "5b8398f4-5d31-46f0-960d-e0de053340cd"
      },
      "source": [
        "results = []\n",
        "for feature in X_df.columns:\n",
        "    X_poly = X_df.copy()\n",
        "    for i in range(2, 6):\n",
        "        X_poly[feature] = np.power(X_poly[feature], i)\n",
        "\n",
        "        model = Lasso(alpha=0.5)\n",
        "        results.append((-np.average(cross_val_score(model, X_poly, y_clear, cv=5, scoring='neg_mean_squared_error')), i, feature))\n",
        "sorted(results)[0]"
      ],
      "execution_count": null,
      "outputs": [
        {
          "output_type": "execute_result",
          "data": {
            "text/plain": [
              "(2823.546454953227, 2, 'S6')"
            ]
          },
          "metadata": {
            "tags": []
          },
          "execution_count": 138
        }
      ]
    },
    {
      "cell_type": "code",
      "metadata": {
        "id": "JBDcXGZUv-Kk",
        "outputId": "6730d396-e4b6-4b9c-caaf-d283ec6ca776"
      },
      "source": [
        "X_df['S6'] = np.power(X_df['S6'], 2)\n",
        "X_df"
      ],
      "execution_count": null,
      "outputs": [
        {
          "output_type": "execute_result",
          "data": {
            "text/html": [
              "<div>\n",
              "<style scoped>\n",
              "    .dataframe tbody tr th:only-of-type {\n",
              "        vertical-align: middle;\n",
              "    }\n",
              "\n",
              "    .dataframe tbody tr th {\n",
              "        vertical-align: top;\n",
              "    }\n",
              "\n",
              "    .dataframe thead th {\n",
              "        text-align: right;\n",
              "    }\n",
              "</style>\n",
              "<table border=\"1\" class=\"dataframe\">\n",
              "  <thead>\n",
              "    <tr style=\"text-align: right;\">\n",
              "      <th></th>\n",
              "      <th>AGE</th>\n",
              "      <th>SEX</th>\n",
              "      <th>BMI</th>\n",
              "      <th>BP</th>\n",
              "      <th>S1</th>\n",
              "      <th>S2</th>\n",
              "      <th>S3</th>\n",
              "      <th>S4</th>\n",
              "      <th>S5</th>\n",
              "      <th>S6</th>\n",
              "      <th>BMI * BP</th>\n",
              "    </tr>\n",
              "  </thead>\n",
              "  <tbody>\n",
              "    <tr>\n",
              "      <th>0</th>\n",
              "      <td>0.803596</td>\n",
              "      <td>1.063757</td>\n",
              "      <td>1.391895</td>\n",
              "      <td>0.483780</td>\n",
              "      <td>-0.905116</td>\n",
              "      <td>-0.732209</td>\n",
              "      <td>-0.987836</td>\n",
              "      <td>0.028495</td>\n",
              "      <td>0.538070</td>\n",
              "      <td>0.120958</td>\n",
              "      <td>0.673371</td>\n",
              "    </tr>\n",
              "    <tr>\n",
              "      <th>1</th>\n",
              "      <td>-0.027035</td>\n",
              "      <td>-0.940064</td>\n",
              "      <td>-1.090921</td>\n",
              "      <td>-0.550671</td>\n",
              "      <td>-0.075479</td>\n",
              "      <td>-0.369450</td>\n",
              "      <td>1.743334</td>\n",
              "      <td>-0.842478</td>\n",
              "      <td>-1.447966</td>\n",
              "      <td>4.126236</td>\n",
              "      <td>0.600738</td>\n",
              "    </tr>\n",
              "    <tr>\n",
              "      <th>2</th>\n",
              "      <td>1.785251</td>\n",
              "      <td>1.063757</td>\n",
              "      <td>1.013561</td>\n",
              "      <td>-0.107335</td>\n",
              "      <td>-0.937025</td>\n",
              "      <td>-0.717699</td>\n",
              "      <td>-0.731789</td>\n",
              "      <td>0.028495</td>\n",
              "      <td>0.154404</td>\n",
              "      <td>0.286062</td>\n",
              "      <td>-0.108790</td>\n",
              "    </tr>\n",
              "    <tr>\n",
              "      <th>3</th>\n",
              "      <td>-1.839321</td>\n",
              "      <td>-0.940064</td>\n",
              "      <td>-0.216024</td>\n",
              "      <td>-0.772339</td>\n",
              "      <td>0.403158</td>\n",
              "      <td>0.653531</td>\n",
              "      <td>-0.817138</td>\n",
              "      <td>0.899468</td>\n",
              "      <td>0.600646</td>\n",
              "      <td>0.025835</td>\n",
              "      <td>0.166844</td>\n",
              "    </tr>\n",
              "    <tr>\n",
              "      <th>4</th>\n",
              "      <td>0.123989</td>\n",
              "      <td>-0.940064</td>\n",
              "      <td>-0.759879</td>\n",
              "      <td>0.483780</td>\n",
              "      <td>0.211703</td>\n",
              "      <td>0.435875</td>\n",
              "      <td>0.207051</td>\n",
              "      <td>0.028495</td>\n",
              "      <td>-0.629957</td>\n",
              "      <td>1.004993</td>\n",
              "      <td>-0.367614</td>\n",
              "    </tr>\n",
              "    <tr>\n",
              "      <th>...</th>\n",
              "      <td>...</td>\n",
              "      <td>...</td>\n",
              "      <td>...</td>\n",
              "      <td>...</td>\n",
              "      <td>...</td>\n",
              "      <td>...</td>\n",
              "      <td>...</td>\n",
              "      <td>...</td>\n",
              "      <td>...</td>\n",
              "      <td>...</td>\n",
              "      <td>...</td>\n",
              "    </tr>\n",
              "    <tr>\n",
              "      <th>400</th>\n",
              "      <td>-1.159714</td>\n",
              "      <td>-0.940064</td>\n",
              "      <td>-1.587484</td>\n",
              "      <td>-1.067896</td>\n",
              "      <td>-0.458388</td>\n",
              "      <td>-1.015161</td>\n",
              "      <td>2.170079</td>\n",
              "      <td>-1.713451</td>\n",
              "      <td>-1.286909</td>\n",
              "      <td>1.004993</td>\n",
              "      <td>1.695268</td>\n",
              "    </tr>\n",
              "    <tr>\n",
              "      <th>401</th>\n",
              "      <td>0.879108</td>\n",
              "      <td>1.063757</td>\n",
              "      <td>0.469706</td>\n",
              "      <td>1.296562</td>\n",
              "      <td>-0.011661</td>\n",
              "      <td>0.015075</td>\n",
              "      <td>-0.646440</td>\n",
              "      <td>0.028495</td>\n",
              "      <td>0.792069</td>\n",
              "      <td>0.045533</td>\n",
              "      <td>0.609003</td>\n",
              "    </tr>\n",
              "    <tr>\n",
              "      <th>402</th>\n",
              "      <td>-0.102547</td>\n",
              "      <td>1.063757</td>\n",
              "      <td>-0.310607</td>\n",
              "      <td>-1.437343</td>\n",
              "      <td>1.264704</td>\n",
              "      <td>1.908677</td>\n",
              "      <td>-0.646440</td>\n",
              "      <td>0.899468</td>\n",
              "      <td>-0.317690</td>\n",
              "      <td>1.113335</td>\n",
              "      <td>0.446449</td>\n",
              "    </tr>\n",
              "    <tr>\n",
              "      <th>403</th>\n",
              "      <td>0.879108</td>\n",
              "      <td>1.063757</td>\n",
              "      <td>-0.310607</td>\n",
              "      <td>0.385507</td>\n",
              "      <td>-0.745570</td>\n",
              "      <td>-0.246112</td>\n",
              "      <td>-0.561091</td>\n",
              "      <td>-0.171829</td>\n",
              "      <td>-0.965204</td>\n",
              "      <td>0.160355</td>\n",
              "      <td>-0.119741</td>\n",
              "    </tr>\n",
              "    <tr>\n",
              "      <th>404</th>\n",
              "      <td>-0.933178</td>\n",
              "      <td>-0.940064</td>\n",
              "      <td>0.895332</td>\n",
              "      <td>0.040444</td>\n",
              "      <td>0.498885</td>\n",
              "      <td>0.428620</td>\n",
              "      <td>-0.646440</td>\n",
              "      <td>0.716563</td>\n",
              "      <td>1.092231</td>\n",
              "      <td>0.286062</td>\n",
              "      <td>0.036211</td>\n",
              "    </tr>\n",
              "  </tbody>\n",
              "</table>\n",
              "<p>405 rows × 11 columns</p>\n",
              "</div>"
            ],
            "text/plain": [
              "          AGE       SEX       BMI        BP        S1        S2        S3  \\\n",
              "0    0.803596  1.063757  1.391895  0.483780 -0.905116 -0.732209 -0.987836   \n",
              "1   -0.027035 -0.940064 -1.090921 -0.550671 -0.075479 -0.369450  1.743334   \n",
              "2    1.785251  1.063757  1.013561 -0.107335 -0.937025 -0.717699 -0.731789   \n",
              "3   -1.839321 -0.940064 -0.216024 -0.772339  0.403158  0.653531 -0.817138   \n",
              "4    0.123989 -0.940064 -0.759879  0.483780  0.211703  0.435875  0.207051   \n",
              "..        ...       ...       ...       ...       ...       ...       ...   \n",
              "400 -1.159714 -0.940064 -1.587484 -1.067896 -0.458388 -1.015161  2.170079   \n",
              "401  0.879108  1.063757  0.469706  1.296562 -0.011661  0.015075 -0.646440   \n",
              "402 -0.102547  1.063757 -0.310607 -1.437343  1.264704  1.908677 -0.646440   \n",
              "403  0.879108  1.063757 -0.310607  0.385507 -0.745570 -0.246112 -0.561091   \n",
              "404 -0.933178 -0.940064  0.895332  0.040444  0.498885  0.428620 -0.646440   \n",
              "\n",
              "           S4        S5        S6  BMI * BP  \n",
              "0    0.028495  0.538070  0.120958  0.673371  \n",
              "1   -0.842478 -1.447966  4.126236  0.600738  \n",
              "2    0.028495  0.154404  0.286062 -0.108790  \n",
              "3    0.899468  0.600646  0.025835  0.166844  \n",
              "4    0.028495 -0.629957  1.004993 -0.367614  \n",
              "..        ...       ...       ...       ...  \n",
              "400 -1.713451 -1.286909  1.004993  1.695268  \n",
              "401  0.028495  0.792069  0.045533  0.609003  \n",
              "402  0.899468 -0.317690  1.113335  0.446449  \n",
              "403 -0.171829 -0.965204  0.160355 -0.119741  \n",
              "404  0.716563  1.092231  0.286062  0.036211  \n",
              "\n",
              "[405 rows x 11 columns]"
            ]
          },
          "metadata": {
            "tags": []
          },
          "execution_count": 139
        }
      ]
    },
    {
      "cell_type": "code",
      "metadata": {
        "id": "gmReVRH0v-Kk",
        "outputId": "6874cc6f-9526-4a0c-aa88-1a6aff283120"
      },
      "source": [
        "lambdas = np.arange(0.1, 3.0, 0.05)\n",
        "# Выведем доступные lambda\n",
        "print(\"Все лямбды:\")\n",
        "print(lambdas)\n",
        "\n",
        "# Лямбды и их ошибки на обучающей выборке\n",
        "lambda_errors = []\n",
        "\n",
        "# Проходим по всем лямбдам и записываем ошибки на обучающей выборке\n",
        "for val in lambdas:\n",
        "    model = Lasso(alpha=val)\n",
        "    # Сохраняем ошибку на обучающей выборке\n",
        "    lambda_errors.append((val, -np.average(cross_val_score(model, X_df, y_clear, cv=5, scoring='neg_mean_squared_error'))))\n",
        "\n",
        "min_val, min_train_error = min(lambda_errors, key=lambda x: x[1])\n",
        "\n",
        "print(f'best alpha: {min_val} ,best MSE: {min_train_error}')"
      ],
      "execution_count": null,
      "outputs": [
        {
          "output_type": "stream",
          "text": [
            "Все лямбды:\n",
            "[0.1  0.15 0.2  0.25 0.3  0.35 0.4  0.45 0.5  0.55 0.6  0.65 0.7  0.75\n",
            " 0.8  0.85 0.9  0.95 1.   1.05 1.1  1.15 1.2  1.25 1.3  1.35 1.4  1.45\n",
            " 1.5  1.55 1.6  1.65 1.7  1.75 1.8  1.85 1.9  1.95 2.   2.05 2.1  2.15\n",
            " 2.2  2.25 2.3  2.35 2.4  2.45 2.5  2.55 2.6  2.65 2.7  2.75 2.8  2.85\n",
            " 2.9  2.95]\n",
            "best alpha: 0.6000000000000002 ,best MSE: 2823.4066772407273\n"
          ],
          "name": "stdout"
        }
      ]
    },
    {
      "cell_type": "markdown",
      "metadata": {
        "id": "1Kpuu2a8v-Kl"
      },
      "source": [
        "## Стало немного лучше. Итоговый MSE 2823.4"
      ]
    },
    {
      "cell_type": "markdown",
      "metadata": {
        "id": "14aAe1fNv-Kl"
      },
      "source": [
        "В общем, представьте, что вы работаете датасаентистом, получаете 300к долларов, а вам сказали, что нужно как можно лучше уметь предсказывать такие данные."
      ]
    }
  ]
}