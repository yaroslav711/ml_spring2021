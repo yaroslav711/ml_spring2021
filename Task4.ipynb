{
  "nbformat": 4,
  "nbformat_minor": 0,
  "metadata": {
    "kernelspec": {
      "display_name": "Python 3",
      "language": "python",
      "name": "python3"
    },
    "colab": {
      "name": "Task 4 (solved).ipynb",
      "provenance": [],
      "include_colab_link": true
    }
  },
  "cells": [
    {
      "cell_type": "markdown",
      "metadata": {
        "id": "view-in-github",
        "colab_type": "text"
      },
      "source": [
        "<a href=\"https://colab.research.google.com/github/yaroslav711/ml_spring2021/blob/main/Task4.ipynb\" target=\"_parent\"><img src=\"https://colab.research.google.com/assets/colab-badge.svg\" alt=\"Open In Colab\"/></a>"
      ]
    },
    {
      "cell_type": "markdown",
      "metadata": {
        "id": "sTYmL-da_D-6"
      },
      "source": [
        "# Домашнее задание\n",
        "\n",
        "Всего у вас 2 домашних задания:\n",
        "\n",
        "### 1) Бинарная классификация на примере детекции фрода на кредитных картах (6 баллов)\n",
        "(в этом файле)\n",
        "\n",
        "### 2) Небинарная классификация на вашем датасете (6 баллов)\n",
        "(тоже в этом файле)\n",
        "\n",
        "# 1 - Бинарная классификация на примере детекции фрода на кредитных картах (суммарно 6 баллов)\n",
        "У вас есть информация о множесте транзакций. Вам нужно научиться предсказывать, какие из них мошеннические, а какие нет."
      ]
    },
    {
      "cell_type": "markdown",
      "metadata": {
        "id": "7CvRvN5L_D-8"
      },
      "source": [
        "### (1 балл) Считайте данные\n",
        "Сами считайте и предобработайте, если надо, данные из файла creditcard.csv"
      ]
    },
    {
      "cell_type": "code",
      "metadata": {
        "id": "F1ewo31n_D-9",
        "outputId": "c36f594e-51f7-470e-9c93-8635a9c0ca71"
      },
      "source": [
        "import numpy as np\n",
        "import pandas as pd\n",
        "import matplotlib.pyplot as plt\n",
        "\n",
        "%matplotlib inline\n",
        "\n",
        "data = pd.read_csv('creditcard.csv', index_col=0)\n",
        "data.head()"
      ],
      "execution_count": null,
      "outputs": [
        {
          "output_type": "execute_result",
          "data": {
            "text/html": [
              "<div>\n",
              "<style scoped>\n",
              "    .dataframe tbody tr th:only-of-type {\n",
              "        vertical-align: middle;\n",
              "    }\n",
              "\n",
              "    .dataframe tbody tr th {\n",
              "        vertical-align: top;\n",
              "    }\n",
              "\n",
              "    .dataframe thead th {\n",
              "        text-align: right;\n",
              "    }\n",
              "</style>\n",
              "<table border=\"1\" class=\"dataframe\">\n",
              "  <thead>\n",
              "    <tr style=\"text-align: right;\">\n",
              "      <th></th>\n",
              "      <th>V1</th>\n",
              "      <th>V2</th>\n",
              "      <th>V3</th>\n",
              "      <th>V4</th>\n",
              "      <th>V5</th>\n",
              "      <th>V6</th>\n",
              "      <th>V7</th>\n",
              "      <th>V8</th>\n",
              "      <th>V9</th>\n",
              "      <th>V10</th>\n",
              "      <th>...</th>\n",
              "      <th>V21</th>\n",
              "      <th>V22</th>\n",
              "      <th>V23</th>\n",
              "      <th>V24</th>\n",
              "      <th>V25</th>\n",
              "      <th>V26</th>\n",
              "      <th>V27</th>\n",
              "      <th>V28</th>\n",
              "      <th>Amount</th>\n",
              "      <th>Class</th>\n",
              "    </tr>\n",
              "    <tr>\n",
              "      <th>Time</th>\n",
              "      <th></th>\n",
              "      <th></th>\n",
              "      <th></th>\n",
              "      <th></th>\n",
              "      <th></th>\n",
              "      <th></th>\n",
              "      <th></th>\n",
              "      <th></th>\n",
              "      <th></th>\n",
              "      <th></th>\n",
              "      <th></th>\n",
              "      <th></th>\n",
              "      <th></th>\n",
              "      <th></th>\n",
              "      <th></th>\n",
              "      <th></th>\n",
              "      <th></th>\n",
              "      <th></th>\n",
              "      <th></th>\n",
              "      <th></th>\n",
              "      <th></th>\n",
              "    </tr>\n",
              "  </thead>\n",
              "  <tbody>\n",
              "    <tr>\n",
              "      <th>0.0</th>\n",
              "      <td>-1.359807</td>\n",
              "      <td>-0.072781</td>\n",
              "      <td>2.536347</td>\n",
              "      <td>1.378155</td>\n",
              "      <td>-0.338321</td>\n",
              "      <td>0.462388</td>\n",
              "      <td>0.239599</td>\n",
              "      <td>0.098698</td>\n",
              "      <td>0.363787</td>\n",
              "      <td>0.090794</td>\n",
              "      <td>...</td>\n",
              "      <td>-0.018307</td>\n",
              "      <td>0.277838</td>\n",
              "      <td>-0.110474</td>\n",
              "      <td>0.066928</td>\n",
              "      <td>0.128539</td>\n",
              "      <td>-0.189115</td>\n",
              "      <td>0.133558</td>\n",
              "      <td>-0.021053</td>\n",
              "      <td>149.62</td>\n",
              "      <td>0</td>\n",
              "    </tr>\n",
              "    <tr>\n",
              "      <th>0.0</th>\n",
              "      <td>1.191857</td>\n",
              "      <td>0.266151</td>\n",
              "      <td>0.166480</td>\n",
              "      <td>0.448154</td>\n",
              "      <td>0.060018</td>\n",
              "      <td>-0.082361</td>\n",
              "      <td>-0.078803</td>\n",
              "      <td>0.085102</td>\n",
              "      <td>-0.255425</td>\n",
              "      <td>-0.166974</td>\n",
              "      <td>...</td>\n",
              "      <td>-0.225775</td>\n",
              "      <td>-0.638672</td>\n",
              "      <td>0.101288</td>\n",
              "      <td>-0.339846</td>\n",
              "      <td>0.167170</td>\n",
              "      <td>0.125895</td>\n",
              "      <td>-0.008983</td>\n",
              "      <td>0.014724</td>\n",
              "      <td>2.69</td>\n",
              "      <td>0</td>\n",
              "    </tr>\n",
              "    <tr>\n",
              "      <th>1.0</th>\n",
              "      <td>-1.358354</td>\n",
              "      <td>-1.340163</td>\n",
              "      <td>1.773209</td>\n",
              "      <td>0.379780</td>\n",
              "      <td>-0.503198</td>\n",
              "      <td>1.800499</td>\n",
              "      <td>0.791461</td>\n",
              "      <td>0.247676</td>\n",
              "      <td>-1.514654</td>\n",
              "      <td>0.207643</td>\n",
              "      <td>...</td>\n",
              "      <td>0.247998</td>\n",
              "      <td>0.771679</td>\n",
              "      <td>0.909412</td>\n",
              "      <td>-0.689281</td>\n",
              "      <td>-0.327642</td>\n",
              "      <td>-0.139097</td>\n",
              "      <td>-0.055353</td>\n",
              "      <td>-0.059752</td>\n",
              "      <td>378.66</td>\n",
              "      <td>0</td>\n",
              "    </tr>\n",
              "    <tr>\n",
              "      <th>1.0</th>\n",
              "      <td>-0.966272</td>\n",
              "      <td>-0.185226</td>\n",
              "      <td>1.792993</td>\n",
              "      <td>-0.863291</td>\n",
              "      <td>-0.010309</td>\n",
              "      <td>1.247203</td>\n",
              "      <td>0.237609</td>\n",
              "      <td>0.377436</td>\n",
              "      <td>-1.387024</td>\n",
              "      <td>-0.054952</td>\n",
              "      <td>...</td>\n",
              "      <td>-0.108300</td>\n",
              "      <td>0.005274</td>\n",
              "      <td>-0.190321</td>\n",
              "      <td>-1.175575</td>\n",
              "      <td>0.647376</td>\n",
              "      <td>-0.221929</td>\n",
              "      <td>0.062723</td>\n",
              "      <td>0.061458</td>\n",
              "      <td>123.50</td>\n",
              "      <td>0</td>\n",
              "    </tr>\n",
              "    <tr>\n",
              "      <th>2.0</th>\n",
              "      <td>-1.158233</td>\n",
              "      <td>0.877737</td>\n",
              "      <td>1.548718</td>\n",
              "      <td>0.403034</td>\n",
              "      <td>-0.407193</td>\n",
              "      <td>0.095921</td>\n",
              "      <td>0.592941</td>\n",
              "      <td>-0.270533</td>\n",
              "      <td>0.817739</td>\n",
              "      <td>0.753074</td>\n",
              "      <td>...</td>\n",
              "      <td>-0.009431</td>\n",
              "      <td>0.798278</td>\n",
              "      <td>-0.137458</td>\n",
              "      <td>0.141267</td>\n",
              "      <td>-0.206010</td>\n",
              "      <td>0.502292</td>\n",
              "      <td>0.219422</td>\n",
              "      <td>0.215153</td>\n",
              "      <td>69.99</td>\n",
              "      <td>0</td>\n",
              "    </tr>\n",
              "  </tbody>\n",
              "</table>\n",
              "<p>5 rows × 30 columns</p>\n",
              "</div>"
            ],
            "text/plain": [
              "            V1        V2        V3        V4        V5        V6        V7  \\\n",
              "Time                                                                         \n",
              "0.0  -1.359807 -0.072781  2.536347  1.378155 -0.338321  0.462388  0.239599   \n",
              "0.0   1.191857  0.266151  0.166480  0.448154  0.060018 -0.082361 -0.078803   \n",
              "1.0  -1.358354 -1.340163  1.773209  0.379780 -0.503198  1.800499  0.791461   \n",
              "1.0  -0.966272 -0.185226  1.792993 -0.863291 -0.010309  1.247203  0.237609   \n",
              "2.0  -1.158233  0.877737  1.548718  0.403034 -0.407193  0.095921  0.592941   \n",
              "\n",
              "            V8        V9       V10  ...       V21       V22       V23  \\\n",
              "Time                                ...                                 \n",
              "0.0   0.098698  0.363787  0.090794  ... -0.018307  0.277838 -0.110474   \n",
              "0.0   0.085102 -0.255425 -0.166974  ... -0.225775 -0.638672  0.101288   \n",
              "1.0   0.247676 -1.514654  0.207643  ...  0.247998  0.771679  0.909412   \n",
              "1.0   0.377436 -1.387024 -0.054952  ... -0.108300  0.005274 -0.190321   \n",
              "2.0  -0.270533  0.817739  0.753074  ... -0.009431  0.798278 -0.137458   \n",
              "\n",
              "           V24       V25       V26       V27       V28  Amount  Class  \n",
              "Time                                                                   \n",
              "0.0   0.066928  0.128539 -0.189115  0.133558 -0.021053  149.62      0  \n",
              "0.0  -0.339846  0.167170  0.125895 -0.008983  0.014724    2.69      0  \n",
              "1.0  -0.689281 -0.327642 -0.139097 -0.055353 -0.059752  378.66      0  \n",
              "1.0  -1.175575  0.647376 -0.221929  0.062723  0.061458  123.50      0  \n",
              "2.0   0.141267 -0.206010  0.502292  0.219422  0.215153   69.99      0  \n",
              "\n",
              "[5 rows x 30 columns]"
            ]
          },
          "metadata": {
            "tags": []
          },
          "execution_count": 1
        }
      ]
    },
    {
      "cell_type": "code",
      "metadata": {
        "id": "Y3bOn1to_D--"
      },
      "source": [
        "from sklearn.preprocessing import StandardScaler\n",
        "\n",
        "X = StandardScaler().fit_transform(data.drop(['Class'], axis=1))\n",
        "y = data['Class']\n",
        "from sklearn.model_selection import train_test_split\n",
        "X_train, X_test, y_train, y_test = train_test_split(\n",
        "    X, y, test_size=0.1, random_state=42)\n"
      ],
      "execution_count": null,
      "outputs": []
    },
    {
      "cell_type": "markdown",
      "metadata": {
        "id": "iOL2nK_w_D--"
      },
      "source": [
        "### (2 балла) Обучите несколько моделей, посмотрите на метрики.\n",
        "Как модели точно возьмите LogisticRegression, KNN и константу, можете придумать еще какие-нибудь.\n",
        "\n",
        "Как метрики точно возьмите accuracy, precision, recall, f1, roc_auc. Постройте ROC-кривую."
      ]
    },
    {
      "cell_type": "code",
      "metadata": {
        "id": "h_gsM-f8_D-_"
      },
      "source": [
        "from sklearn.linear_model import LogisticRegression\n",
        "from sklearn.neighbors import KNeighborsClassifier\n",
        "from sklearn.metrics import accuracy_score, precision_score, recall_score, f1_score, roc_auc_score\n",
        "from sklearn.model_selection import cross_val_score"
      ],
      "execution_count": null,
      "outputs": []
    },
    {
      "cell_type": "markdown",
      "metadata": {
        "id": "KCh2D2JC_D-_"
      },
      "source": [
        "### Логистическая регрессия"
      ]
    },
    {
      "cell_type": "code",
      "metadata": {
        "id": "fEveNO9i_D-_",
        "outputId": "92fadb6a-2520-4b85-ef00-6ce299f88f4e"
      },
      "source": [
        "model = LogisticRegression()\n",
        "model.fit(X_train, y_train)\n",
        "preds = model.predict(X_test)\n",
        "\n",
        "print(f'accuracy: {accuracy_score(y_test, preds)}')\n",
        "print(f'precision: {precision_score(y_test, preds)}')\n",
        "print(f'recall: {recall_score(y_test, preds)}')\n",
        "print(f'f1: {f1_score(y_test, preds)}')\n",
        "print(f'roc_auc: {roc_auc_score(y_test, preds)}')"
      ],
      "execution_count": null,
      "outputs": [
        {
          "output_type": "stream",
          "text": [
            "accuracy: 0.9991924440855307\n",
            "precision: 0.8285714285714286\n",
            "recall: 0.6304347826086957\n",
            "f1: 0.7160493827160495\n",
            "roc_auc: 0.8151118875237958\n"
          ],
          "name": "stdout"
        }
      ]
    },
    {
      "cell_type": "markdown",
      "metadata": {
        "id": "yREbYzSt_D_A"
      },
      "source": [
        "#### ROC - кривая"
      ]
    },
    {
      "cell_type": "code",
      "metadata": {
        "id": "0QzXUil1_D_A",
        "outputId": "e0a95199-ef33-47d0-fe8e-33800ea2d485"
      },
      "source": [
        "from sklearn.metrics import roc_curve\n",
        "\n",
        "y_pred_proba = model.predict_proba(X_test)[:, 1]\n",
        "plt.figure(figsize=(7, 7))\n",
        "fpr, tpr, thresholds = roc_curve(y_test, y_pred_proba)\n",
        "plt.plot(fpr, tpr, 'b', linewidth=3)\n",
        "plt.plot([0, 1], [0, 1], 'k--')\n",
        "plt.plot([0, 0], [0, 1], 'k')\n",
        "plt.plot([1, 1], [0, 1], 'k')\n",
        "plt.plot([0, 1], [0, 0], 'k')\n",
        "plt.plot([0, 1], [1, 1], 'k')\n",
        "plt.xlabel('False positive rate')\n",
        "plt.ylabel('True positive rate')\n",
        "plt.xlim((0, 1))\n",
        "plt.ylim((0, 1))\n",
        "plt.axis('equal')\n",
        "plt.title('ROC curve')\n",
        "plt.show()"
      ],
      "execution_count": null,
      "outputs": [
        {
          "output_type": "display_data",
          "data": {
            "image/png": "[encoded data removed]",
            "text/plain": [
              "<Figure size 504x504 with 1 Axes>"
            ]
          },
          "metadata": {
            "tags": [],
            "needs_background": "light"
          }
        }
      ]
    },
    {
      "cell_type": "markdown",
      "metadata": {
        "id": "P4NUAnG9_D_B"
      },
      "source": [
        "### KNN"
      ]
    },
    {
      "cell_type": "code",
      "metadata": {
        "id": "QFYh6i-T_D_B",
        "outputId": "1c421154-f261-4c12-b958-8e129cb71cd4"
      },
      "source": [
        "model = KNeighborsClassifier()\n",
        "model.fit(X_train, y_train)\n",
        "preds = model.predict(X_test)\n",
        "\n",
        "print(f'accuracy: {accuracy_score(y_test, preds)}')\n",
        "print(f'precision: {precision_score(y_test, preds)}')\n",
        "print(f'recall: {recall_score(y_test, preds)}')\n",
        "print(f'f1: {f1_score(y_test, preds)}')\n",
        "print(f'roc_auc: {roc_auc_score(y_test, preds)}')"
      ],
      "execution_count": null,
      "outputs": [
        {
          "output_type": "stream",
          "text": [
            "accuracy: 0.9995435553526912\n",
            "precision: 0.9459459459459459\n",
            "recall: 0.7608695652173914\n",
            "f1: 0.8433734939759038\n",
            "roc_auc: 0.8803996146818449\n"
          ],
          "name": "stdout"
        }
      ]
    },
    {
      "cell_type": "markdown",
      "metadata": {
        "id": "sj0QRhJu_D_B"
      },
      "source": [
        "#### ROC - кривая"
      ]
    },
    {
      "cell_type": "code",
      "metadata": {
        "id": "lJKX_Wvu_D_C",
        "outputId": "6eab48db-4ae8-40a8-ef3a-6ab5a98d0ae5"
      },
      "source": [
        "\n",
        "y_pred_proba = model.predict_proba(X_test)[:, 1]\n",
        "plt.figure(figsize=(7, 7))\n",
        "fpr, tpr, thresholds = roc_curve(y_test, y_pred_proba)\n",
        "plt.plot(fpr, tpr, 'b', linewidth=3)\n",
        "plt.plot([0, 1], [0, 1], 'k--')\n",
        "plt.plot([0, 0], [0, 1], 'k')\n",
        "plt.plot([1, 1], [0, 1], 'k')\n",
        "plt.plot([0, 1], [0, 0], 'k')\n",
        "plt.plot([0, 1], [1, 1], 'k')\n",
        "plt.xlabel('False positive rate')\n",
        "plt.ylabel('True positive rate')\n",
        "plt.xlim((0, 1))\n",
        "plt.ylim((0, 1))\n",
        "plt.axis('equal')\n",
        "plt.title('ROC curve')\n",
        "plt.show()"
      ],
      "execution_count": null,
      "outputs": [
        {
          "output_type": "display_data",
          "data": {
            "image/png": "[encoded data removed]",
            "text/plain": [
              "<Figure size 504x504 with 1 Axes>"
            ]
          },
          "metadata": {
            "tags": [],
            "needs_background": "light"
          }
        }
      ]
    },
    {
      "cell_type": "markdown",
      "metadata": {
        "id": "OvPztmUI_D_C"
      },
      "source": [
        "### Константа"
      ]
    },
    {
      "cell_type": "code",
      "metadata": {
        "id": "MFS-Wa0Q_D_C",
        "outputId": "0657cbb7-9ef4-425d-a86c-12e0fc1021b0"
      },
      "source": [
        "preds = np.array([0]*len(y_test))\n",
        "\n",
        "print(f'accuracy: {accuracy_score(y_test, preds)}')\n",
        "print(f'precision: {precision_score(y_test, preds)}')\n",
        "print(f'recall: {recall_score(y_test, preds)}')\n",
        "print(f'f1: {f1_score(y_test, preds)}')\n",
        "print(f'roc_auc: {roc_auc_score(y_test, preds)}')"
      ],
      "execution_count": null,
      "outputs": [
        {
          "output_type": "stream",
          "text": [
            "accuracy: 0.9983848881710614\n",
            "precision: 0.0\n",
            "recall: 0.0\n",
            "f1: 0.0\n",
            "roc_auc: 0.5\n"
          ],
          "name": "stdout"
        },
        {
          "output_type": "stream",
          "text": [
            "C:\\Users\\proho\\anaconda3\\lib\\site-packages\\sklearn\\metrics\\_classification.py:1221: UndefinedMetricWarning: Precision is ill-defined and being set to 0.0 due to no predicted samples. Use `zero_division` parameter to control this behavior.\n",
            "  _warn_prf(average, modifier, msg_start, len(result))\n"
          ],
          "name": "stderr"
        }
      ]
    },
    {
      "cell_type": "markdown",
      "metadata": {
        "id": "KFzNTWx__D_D"
      },
      "source": [
        "#### ROC - кривая"
      ]
    },
    {
      "cell_type": "code",
      "metadata": {
        "id": "PD4N4z3S_D_D",
        "outputId": "f90ab499-d1fe-4f8c-fec2-1849f53d8545"
      },
      "source": [
        "y_pred_proba = preds\n",
        "plt.figure(figsize=(7, 7))\n",
        "fpr, tpr, thresholds = roc_curve(y_test, y_pred_proba)\n",
        "plt.plot(fpr, tpr, 'b', linewidth=3)\n",
        "plt.plot([0, 1], [0, 1], 'k--')\n",
        "plt.plot([0, 0], [0, 1], 'k')\n",
        "plt.plot([1, 1], [0, 1], 'k')\n",
        "plt.plot([0, 1], [0, 0], 'k')\n",
        "plt.plot([0, 1], [1, 1], 'k')\n",
        "plt.xlabel('False positive rate')\n",
        "plt.ylabel('True positive rate')\n",
        "plt.xlim((0, 1))\n",
        "plt.ylim((0, 1))\n",
        "plt.axis('equal')\n",
        "plt.title('ROC curve')\n",
        "plt.show()"
      ],
      "execution_count": null,
      "outputs": [
        {
          "output_type": "display_data",
          "data": {
            "image/png": "[encoded data removed]",
            "text/plain": [
              "<Figure size 504x504 with 1 Axes>"
            ]
          },
          "metadata": {
            "tags": [],
            "needs_background": "light"
          }
        }
      ]
    },
    {
      "cell_type": "markdown",
      "metadata": {
        "id": "3GosMu_x_D_D"
      },
      "source": [
        "### Random Forest"
      ]
    },
    {
      "cell_type": "code",
      "metadata": {
        "id": "pSLHa9Kv_D_E",
        "outputId": "9fb94a13-1c86-493c-de8f-d4602095014c"
      },
      "source": [
        "from sklearn.ensemble import RandomForestClassifier\n",
        "\n",
        "model = RandomForestClassifier()\n",
        "model.fit(X_train, y_train)\n",
        "\n",
        "preds = model.predict(X_test)\n",
        "print(f'accuracy: {accuracy_score(y_test, preds)}')\n",
        "print(f'precision: {precision_score(y_test, preds)}')\n",
        "print(f'recall: {recall_score(y_test, preds)}')\n",
        "print(f'f1: {f1_score(y_test, preds)}')\n",
        "print(f'roc_auc: {roc_auc_score(y_test, preds)}')"
      ],
      "execution_count": null,
      "outputs": [
        {
          "output_type": "stream",
          "text": [
            "accuracy: 0.9996137776061234\n",
            "precision: 0.972972972972973\n",
            "recall: 0.782608695652174\n",
            "f1: 0.8674698795180723\n",
            "roc_auc: 0.8912867638626615\n"
          ],
          "name": "stdout"
        }
      ]
    },
    {
      "cell_type": "markdown",
      "metadata": {
        "id": "OI175J1W_D_E"
      },
      "source": [
        "#### ROC - кривая"
      ]
    },
    {
      "cell_type": "code",
      "metadata": {
        "id": "bYzdPwQ-_D_E",
        "outputId": "7f9c8f34-54aa-4222-d941-de6d3e21ed1b"
      },
      "source": [
        "y_pred_proba = model.predict_proba(X_test)[:,1]\n",
        "plt.figure(figsize=(7, 7))\n",
        "fpr, tpr, thresholds = roc_curve(y_test, y_pred_proba)\n",
        "plt.plot(fpr, tpr, 'b', linewidth=3)\n",
        "plt.plot([0, 1], [0, 1], 'k--')\n",
        "plt.plot([0, 0], [0, 1], 'k')\n",
        "plt.plot([1, 1], [0, 1], 'k')\n",
        "plt.plot([0, 1], [0, 0], 'k')\n",
        "plt.plot([0, 1], [1, 1], 'k')\n",
        "plt.xlabel('False positive rate')\n",
        "plt.ylabel('True positive rate')\n",
        "plt.xlim((0, 1))\n",
        "plt.ylim((0, 1))\n",
        "plt.axis('equal')\n",
        "plt.title('ROC curve')\n",
        "plt.show()"
      ],
      "execution_count": null,
      "outputs": [
        {
          "output_type": "display_data",
          "data": {
            "image/png": "[encoded data removed]",
            "text/plain": [
              "<Figure size 504x504 with 1 Axes>"
            ]
          },
          "metadata": {
            "tags": [],
            "needs_background": "light"
          }
        }
      ]
    },
    {
      "cell_type": "markdown",
      "metadata": {
        "id": "Suklsfgq_D_F"
      },
      "source": [
        "### (1 балл) Выберите одну метрику, которую вы будете максимизировать\n",
        "\n",
        "Представьте, что вы решаете задачу автоматического поиска мошеннических транзакций, чтобы ваш робот автоматически банил пользователей, который их осуществляют.\n",
        "\n",
        "Обоснуйте свой выбор."
      ]
    },
    {
      "cell_type": "markdown",
      "metadata": {
        "id": "FhcfVtSb_D_F"
      },
      "source": [
        "Я выберу f1_score, т.к в данной задаче, как мне кажется, важна как точность, так и полнота. Ведь мы не хотим забанить человека, который просто перевел денежку другу, но и пропускать мошенников нам тоже нельзя. Поэтому важно сохранить баланас, а f1 как раз помогает этого добиться. Accuracy не подходит так как у нас сильный дисбаланс классов, даже константа выдает 0.99"
      ]
    },
    {
      "cell_type": "markdown",
      "metadata": {
        "id": "CCBmTDiP_D_F"
      },
      "source": [
        "### (2 балла) Переберите гиперпараметры разных моделей, попытайтесь добиться лучшего результата по этой метрике\n",
        "\n",
        "Постройте график для каждого перебора, сделайте красивый отчет (не надо просто говорить \"я решил выбрать 2, 0.7 и 6, так не пойдет\".\n",
        "\n",
        "Можно преобразовывать датасет, преобразовывать, добавлять, удалять фичи, всё что угодно.\n",
        "\n",
        "Отсутствие результата тоже результат (вдруг вы перебрали кучу вещей, а лучший все еще самый первый запуск, главное что перебрали)."
      ]
    },
    {
      "cell_type": "markdown",
      "metadata": {
        "id": "OC6NyqY8_D_F"
      },
      "source": [
        "### LogisticRegression \n",
        "переберем параметры и найдем лучшую комбинацию"
      ]
    },
    {
      "cell_type": "code",
      "metadata": {
        "id": "ClOXC1tO_D_G",
        "outputId": "6bb216e1-624a-4718-944b-a9fa1b834e95"
      },
      "source": [
        "import warnings\n",
        "warnings.filterwarnings('ignore')\n",
        "from sklearn.model_selection import GridSearchCV\n",
        "parameters = {'penalty':('l1', 'l2', 'elasticnet', 'none'), \n",
        "              'class_weight':({0: 1, 1: 2},{0: 1, 1: 5}, {0: 1, 1: 10} ,{0: 1, 1: 50}, {0: 1, 1: 100})}\n",
        "model = LogisticRegression()\n",
        "gs = GridSearchCV(model, parameters, scoring = 'f1')\n",
        "gs.fit(X_train, y_train)\n",
        "preds = gs.predict(X_test)\n",
        "\n",
        "print(f'f1: {f1_score(y_test, preds)}')"
      ],
      "execution_count": null,
      "outputs": [
        {
          "output_type": "stream",
          "text": [
            "f1: 0.8089887640449438\n"
          ],
          "name": "stdout"
        }
      ]
    },
    {
      "cell_type": "markdown",
      "metadata": {
        "id": "OMhIkoKC_D_G"
      },
      "source": [
        "Лучшие параметры:"
      ]
    },
    {
      "cell_type": "code",
      "metadata": {
        "id": "RQQAsM7p_D_G",
        "outputId": "6793d672-c650-493b-f6a9-ff91ef434a3a"
      },
      "source": [
        "gs.best_params_"
      ],
      "execution_count": null,
      "outputs": [
        {
          "output_type": "execute_result",
          "data": {
            "text/plain": [
              "{'class_weight': {0: 1, 1: 5}, 'penalty': 'l2'}"
            ]
          },
          "metadata": {
            "tags": []
          },
          "execution_count": 13
        }
      ]
    },
    {
      "cell_type": "markdown",
      "metadata": {
        "id": "-VbiSLqx_D_G"
      },
      "source": [
        "### KNN\n",
        "переберем параметры и найдем лучшую комбинацию"
      ]
    },
    {
      "cell_type": "code",
      "metadata": {
        "scrolled": true,
        "id": "bkAyvVG6_D_H",
        "outputId": "e36bb1ec-8236-4967-8025-d2fa45989107"
      },
      "source": [
        "import warnings\n",
        "warnings.filterwarnings('ignore')\n",
        "from sklearn.model_selection import GridSearchCV\n",
        "parameters = {'n_neighbors':(2, 5, 10), 'weights' : ('uniform', 'distance')}\n",
        "model = KNeighborsClassifier()\n",
        "gs = GridSearchCV(model, parameters, scoring = 'f1', verbose = 100, n_jobs = -1)\n",
        "gs.fit(X_train, y_train)\n",
        "preds = gs.predict(X_test)\n",
        "\n",
        "print(f'f1: {f1_score(y_test, preds)}')"
      ],
      "execution_count": null,
      "outputs": [
        {
          "output_type": "stream",
          "text": [
            "Fitting 5 folds for each of 6 candidates, totalling 30 fits\n",
            "[Parallel(n_jobs=-1)]: Using backend LokyBackend with 8 concurrent workers.\n",
            "[Parallel(n_jobs=-1)]: Done   1 tasks      | elapsed:  9.3min\n",
            "[Parallel(n_jobs=-1)]: Done   2 tasks      | elapsed: 10.2min\n",
            "[Parallel(n_jobs=-1)]: Done   3 tasks      | elapsed: 10.2min\n",
            "[Parallel(n_jobs=-1)]: Done   4 tasks      | elapsed: 10.3min\n",
            "[Parallel(n_jobs=-1)]: Done   5 tasks      | elapsed: 10.3min\n",
            "[Parallel(n_jobs=-1)]: Done   6 tasks      | elapsed: 10.3min\n",
            "[Parallel(n_jobs=-1)]: Done   7 tasks      | elapsed: 10.3min\n",
            "[Parallel(n_jobs=-1)]: Done   8 tasks      | elapsed: 10.4min\n",
            "[Parallel(n_jobs=-1)]: Done   9 tasks      | elapsed: 19.4min\n",
            "[Parallel(n_jobs=-1)]: Done  10 tasks      | elapsed: 19.4min\n",
            "[Parallel(n_jobs=-1)]: Done  11 tasks      | elapsed: 23.3min\n",
            "[Parallel(n_jobs=-1)]: Done  12 tasks      | elapsed: 24.3min\n",
            "[Parallel(n_jobs=-1)]: Done  13 tasks      | elapsed: 24.4min\n",
            "[Parallel(n_jobs=-1)]: Done  14 tasks      | elapsed: 24.5min\n",
            "[Parallel(n_jobs=-1)]: Done  15 tasks      | elapsed: 24.5min\n",
            "[Parallel(n_jobs=-1)]: Done  16 out of  30 | elapsed: 24.6min remaining: 21.5min\n",
            "[Parallel(n_jobs=-1)]: Done  17 out of  30 | elapsed: 33.5min remaining: 25.6min\n",
            "[Parallel(n_jobs=-1)]: Done  18 out of  30 | elapsed: 33.7min remaining: 22.5min\n",
            "[Parallel(n_jobs=-1)]: Done  19 out of  30 | elapsed: 37.2min remaining: 21.5min\n",
            "[Parallel(n_jobs=-1)]: Done  20 out of  30 | elapsed: 37.4min remaining: 18.7min\n",
            "[Parallel(n_jobs=-1)]: Done  21 out of  30 | elapsed: 41.8min remaining: 17.9min\n",
            "[Parallel(n_jobs=-1)]: Done  22 out of  30 | elapsed: 42.1min remaining: 15.3min\n",
            "[Parallel(n_jobs=-1)]: Done  23 out of  30 | elapsed: 42.1min remaining: 12.8min\n",
            "[Parallel(n_jobs=-1)]: Done  24 out of  30 | elapsed: 42.2min remaining: 10.6min\n",
            "[Parallel(n_jobs=-1)]: Done  25 out of  30 | elapsed: 48.6min remaining:  9.7min\n",
            "[Parallel(n_jobs=-1)]: Done  26 out of  30 | elapsed: 49.9min remaining:  7.7min\n",
            "[Parallel(n_jobs=-1)]: Done  27 out of  30 | elapsed: 52.4min remaining:  5.8min\n",
            "[Parallel(n_jobs=-1)]: Done  28 out of  30 | elapsed: 52.5min remaining:  3.7min\n",
            "[Parallel(n_jobs=-1)]: Done  30 out of  30 | elapsed: 54.8min remaining:    0.0s\n",
            "[Parallel(n_jobs=-1)]: Done  30 out of  30 | elapsed: 54.8min finished\n",
            "f1: 0.8292682926829269\n"
          ],
          "name": "stdout"
        }
      ]
    },
    {
      "cell_type": "code",
      "metadata": {
        "scrolled": true,
        "id": "nerIhmo4_D_H",
        "outputId": "8d9e8d96-59c1-488b-86f0-d3632467b53e"
      },
      "source": [
        "gs.best_params_"
      ],
      "execution_count": null,
      "outputs": [
        {
          "output_type": "execute_result",
          "data": {
            "text/plain": [
              "{'n_neighbors': 2, 'weights': 'uniform'}"
            ]
          },
          "metadata": {
            "tags": []
          },
          "execution_count": 15
        }
      ]
    },
    {
      "cell_type": "code",
      "metadata": {
        "id": "4iBbmv0c_D_H",
        "outputId": "338add2c-b785-4799-ed00-418e33d30d94"
      },
      "source": [
        "warnings.filterwarnings('ignore')\n",
        "from sklearn.model_selection import GridSearchCV\n",
        "parameters = {'n_estimators':(500, 1000), \n",
        "              'criterion' : ('gini', 'entropy'), 'max_depth' : ('None', 500, 1000)}\n",
        "model = RandomForestClassifier()\n",
        "gs = GridSearchCV(model, parameters, scoring = 'f1', verbose = 10, n_jobs = -1)\n",
        "gs.fit(X_train, y_train)\n",
        "preds = gs.predict(X_test)\n",
        "\n",
        "print(f'f1: {f1_score(y_test, preds)}')"
      ],
      "execution_count": null,
      "outputs": [
        {
          "output_type": "stream",
          "text": [
            "Fitting 5 folds for each of 12 candidates, totalling 60 fits\n"
          ],
          "name": "stdout"
        },
        {
          "output_type": "stream",
          "text": [
            "[Parallel(n_jobs=-1)]: Using backend LokyBackend with 8 concurrent workers.\n",
            "[Parallel(n_jobs=-1)]: Done   2 tasks      | elapsed:    5.0s\n",
            "[Parallel(n_jobs=-1)]: Done   9 tasks      | elapsed:    6.2s\n",
            "[Parallel(n_jobs=-1)]: Done  16 tasks      | elapsed: 59.9min\n",
            "[Parallel(n_jobs=-1)]: Done  25 tasks      | elapsed: 92.1min\n",
            "[Parallel(n_jobs=-1)]: Done  34 tasks      | elapsed: 92.5min\n",
            "[Parallel(n_jobs=-1)]: Done  45 tasks      | elapsed: 151.6min\n",
            "[Parallel(n_jobs=-1)]: Done  52 out of  60 | elapsed: 170.3min remaining: 26.2min\n",
            "[Parallel(n_jobs=-1)]: Done  60 out of  60 | elapsed: 206.2min finished\n"
          ],
          "name": "stderr"
        },
        {
          "output_type": "stream",
          "text": [
            "f1: 0.853658536585366\n"
          ],
          "name": "stdout"
        }
      ]
    },
    {
      "cell_type": "code",
      "metadata": {
        "id": "S-LdUy8C_D_I",
        "outputId": "faa553f8-6c85-4120-9bdc-5b4f1927ec0d"
      },
      "source": [
        "gs.best_params_"
      ],
      "execution_count": null,
      "outputs": [
        {
          "output_type": "execute_result",
          "data": {
            "text/plain": [
              "{'criterion': 'entropy', 'max_depth': 500, 'n_estimators': 1000}"
            ]
          },
          "metadata": {
            "tags": []
          },
          "execution_count": 17
        }
      ]
    },
    {
      "cell_type": "markdown",
      "metadata": {
        "id": "XQhWbEgw_D_I"
      },
      "source": [
        "### Работа с фичами"
      ]
    },
    {
      "cell_type": "markdown",
      "metadata": {
        "id": "oJui_MmO_D_I"
      },
      "source": [
        "1. Я хочу добавить новый признак - количество центов в сумме транзакций, так как зачастую обычные клиенты банка переводят целые суммы без центов"
      ]
    },
    {
      "cell_type": "code",
      "metadata": {
        "id": "aNlMqrk2_D_I",
        "outputId": "4231c65c-8f75-47ff-8c14-82b494e73660"
      },
      "source": [
        "data['cents'] = data['Amount']%1\n",
        "data"
      ],
      "execution_count": null,
      "outputs": [
        {
          "output_type": "execute_result",
          "data": {
            "text/html": [
              "<div>\n",
              "<style scoped>\n",
              "    .dataframe tbody tr th:only-of-type {\n",
              "        vertical-align: middle;\n",
              "    }\n",
              "\n",
              "    .dataframe tbody tr th {\n",
              "        vertical-align: top;\n",
              "    }\n",
              "\n",
              "    .dataframe thead th {\n",
              "        text-align: right;\n",
              "    }\n",
              "</style>\n",
              "<table border=\"1\" class=\"dataframe\">\n",
              "  <thead>\n",
              "    <tr style=\"text-align: right;\">\n",
              "      <th></th>\n",
              "      <th>V1</th>\n",
              "      <th>V2</th>\n",
              "      <th>V3</th>\n",
              "      <th>V4</th>\n",
              "      <th>V5</th>\n",
              "      <th>V6</th>\n",
              "      <th>V7</th>\n",
              "      <th>V8</th>\n",
              "      <th>V9</th>\n",
              "      <th>V10</th>\n",
              "      <th>...</th>\n",
              "      <th>V22</th>\n",
              "      <th>V23</th>\n",
              "      <th>V24</th>\n",
              "      <th>V25</th>\n",
              "      <th>V26</th>\n",
              "      <th>V27</th>\n",
              "      <th>V28</th>\n",
              "      <th>Amount</th>\n",
              "      <th>Class</th>\n",
              "      <th>cents</th>\n",
              "    </tr>\n",
              "    <tr>\n",
              "      <th>Time</th>\n",
              "      <th></th>\n",
              "      <th></th>\n",
              "      <th></th>\n",
              "      <th></th>\n",
              "      <th></th>\n",
              "      <th></th>\n",
              "      <th></th>\n",
              "      <th></th>\n",
              "      <th></th>\n",
              "      <th></th>\n",
              "      <th></th>\n",
              "      <th></th>\n",
              "      <th></th>\n",
              "      <th></th>\n",
              "      <th></th>\n",
              "      <th></th>\n",
              "      <th></th>\n",
              "      <th></th>\n",
              "      <th></th>\n",
              "      <th></th>\n",
              "      <th></th>\n",
              "    </tr>\n",
              "  </thead>\n",
              "  <tbody>\n",
              "    <tr>\n",
              "      <th>0.0</th>\n",
              "      <td>-1.359807</td>\n",
              "      <td>-0.072781</td>\n",
              "      <td>2.536347</td>\n",
              "      <td>1.378155</td>\n",
              "      <td>-0.338321</td>\n",
              "      <td>0.462388</td>\n",
              "      <td>0.239599</td>\n",
              "      <td>0.098698</td>\n",
              "      <td>0.363787</td>\n",
              "      <td>0.090794</td>\n",
              "      <td>...</td>\n",
              "      <td>0.277838</td>\n",
              "      <td>-0.110474</td>\n",
              "      <td>0.066928</td>\n",
              "      <td>0.128539</td>\n",
              "      <td>-0.189115</td>\n",
              "      <td>0.133558</td>\n",
              "      <td>-0.021053</td>\n",
              "      <td>149.62</td>\n",
              "      <td>0</td>\n",
              "      <td>0.62</td>\n",
              "    </tr>\n",
              "    <tr>\n",
              "      <th>0.0</th>\n",
              "      <td>1.191857</td>\n",
              "      <td>0.266151</td>\n",
              "      <td>0.166480</td>\n",
              "      <td>0.448154</td>\n",
              "      <td>0.060018</td>\n",
              "      <td>-0.082361</td>\n",
              "      <td>-0.078803</td>\n",
              "      <td>0.085102</td>\n",
              "      <td>-0.255425</td>\n",
              "      <td>-0.166974</td>\n",
              "      <td>...</td>\n",
              "      <td>-0.638672</td>\n",
              "      <td>0.101288</td>\n",
              "      <td>-0.339846</td>\n",
              "      <td>0.167170</td>\n",
              "      <td>0.125895</td>\n",
              "      <td>-0.008983</td>\n",
              "      <td>0.014724</td>\n",
              "      <td>2.69</td>\n",
              "      <td>0</td>\n",
              "      <td>0.69</td>\n",
              "    </tr>\n",
              "    <tr>\n",
              "      <th>1.0</th>\n",
              "      <td>-1.358354</td>\n",
              "      <td>-1.340163</td>\n",
              "      <td>1.773209</td>\n",
              "      <td>0.379780</td>\n",
              "      <td>-0.503198</td>\n",
              "      <td>1.800499</td>\n",
              "      <td>0.791461</td>\n",
              "      <td>0.247676</td>\n",
              "      <td>-1.514654</td>\n",
              "      <td>0.207643</td>\n",
              "      <td>...</td>\n",
              "      <td>0.771679</td>\n",
              "      <td>0.909412</td>\n",
              "      <td>-0.689281</td>\n",
              "      <td>-0.327642</td>\n",
              "      <td>-0.139097</td>\n",
              "      <td>-0.055353</td>\n",
              "      <td>-0.059752</td>\n",
              "      <td>378.66</td>\n",
              "      <td>0</td>\n",
              "      <td>0.66</td>\n",
              "    </tr>\n",
              "    <tr>\n",
              "      <th>1.0</th>\n",
              "      <td>-0.966272</td>\n",
              "      <td>-0.185226</td>\n",
              "      <td>1.792993</td>\n",
              "      <td>-0.863291</td>\n",
              "      <td>-0.010309</td>\n",
              "      <td>1.247203</td>\n",
              "      <td>0.237609</td>\n",
              "      <td>0.377436</td>\n",
              "      <td>-1.387024</td>\n",
              "      <td>-0.054952</td>\n",
              "      <td>...</td>\n",
              "      <td>0.005274</td>\n",
              "      <td>-0.190321</td>\n",
              "      <td>-1.175575</td>\n",
              "      <td>0.647376</td>\n",
              "      <td>-0.221929</td>\n",
              "      <td>0.062723</td>\n",
              "      <td>0.061458</td>\n",
              "      <td>123.50</td>\n",
              "      <td>0</td>\n",
              "      <td>0.50</td>\n",
              "    </tr>\n",
              "    <tr>\n",
              "      <th>2.0</th>\n",
              "      <td>-1.158233</td>\n",
              "      <td>0.877737</td>\n",
              "      <td>1.548718</td>\n",
              "      <td>0.403034</td>\n",
              "      <td>-0.407193</td>\n",
              "      <td>0.095921</td>\n",
              "      <td>0.592941</td>\n",
              "      <td>-0.270533</td>\n",
              "      <td>0.817739</td>\n",
              "      <td>0.753074</td>\n",
              "      <td>...</td>\n",
              "      <td>0.798278</td>\n",
              "      <td>-0.137458</td>\n",
              "      <td>0.141267</td>\n",
              "      <td>-0.206010</td>\n",
              "      <td>0.502292</td>\n",
              "      <td>0.219422</td>\n",
              "      <td>0.215153</td>\n",
              "      <td>69.99</td>\n",
              "      <td>0</td>\n",
              "      <td>0.99</td>\n",
              "    </tr>\n",
              "    <tr>\n",
              "      <th>...</th>\n",
              "      <td>...</td>\n",
              "      <td>...</td>\n",
              "      <td>...</td>\n",
              "      <td>...</td>\n",
              "      <td>...</td>\n",
              "      <td>...</td>\n",
              "      <td>...</td>\n",
              "      <td>...</td>\n",
              "      <td>...</td>\n",
              "      <td>...</td>\n",
              "      <td>...</td>\n",
              "      <td>...</td>\n",
              "      <td>...</td>\n",
              "      <td>...</td>\n",
              "      <td>...</td>\n",
              "      <td>...</td>\n",
              "      <td>...</td>\n",
              "      <td>...</td>\n",
              "      <td>...</td>\n",
              "      <td>...</td>\n",
              "      <td>...</td>\n",
              "    </tr>\n",
              "    <tr>\n",
              "      <th>172786.0</th>\n",
              "      <td>-11.881118</td>\n",
              "      <td>10.071785</td>\n",
              "      <td>-9.834783</td>\n",
              "      <td>-2.066656</td>\n",
              "      <td>-5.364473</td>\n",
              "      <td>-2.606837</td>\n",
              "      <td>-4.918215</td>\n",
              "      <td>7.305334</td>\n",
              "      <td>1.914428</td>\n",
              "      <td>4.356170</td>\n",
              "      <td>...</td>\n",
              "      <td>0.111864</td>\n",
              "      <td>1.014480</td>\n",
              "      <td>-0.509348</td>\n",
              "      <td>1.436807</td>\n",
              "      <td>0.250034</td>\n",
              "      <td>0.943651</td>\n",
              "      <td>0.823731</td>\n",
              "      <td>0.77</td>\n",
              "      <td>0</td>\n",
              "      <td>0.77</td>\n",
              "    </tr>\n",
              "    <tr>\n",
              "      <th>172787.0</th>\n",
              "      <td>-0.732789</td>\n",
              "      <td>-0.055080</td>\n",
              "      <td>2.035030</td>\n",
              "      <td>-0.738589</td>\n",
              "      <td>0.868229</td>\n",
              "      <td>1.058415</td>\n",
              "      <td>0.024330</td>\n",
              "      <td>0.294869</td>\n",
              "      <td>0.584800</td>\n",
              "      <td>-0.975926</td>\n",
              "      <td>...</td>\n",
              "      <td>0.924384</td>\n",
              "      <td>0.012463</td>\n",
              "      <td>-1.016226</td>\n",
              "      <td>-0.606624</td>\n",
              "      <td>-0.395255</td>\n",
              "      <td>0.068472</td>\n",
              "      <td>-0.053527</td>\n",
              "      <td>24.79</td>\n",
              "      <td>0</td>\n",
              "      <td>0.79</td>\n",
              "    </tr>\n",
              "    <tr>\n",
              "      <th>172788.0</th>\n",
              "      <td>1.919565</td>\n",
              "      <td>-0.301254</td>\n",
              "      <td>-3.249640</td>\n",
              "      <td>-0.557828</td>\n",
              "      <td>2.630515</td>\n",
              "      <td>3.031260</td>\n",
              "      <td>-0.296827</td>\n",
              "      <td>0.708417</td>\n",
              "      <td>0.432454</td>\n",
              "      <td>-0.484782</td>\n",
              "      <td>...</td>\n",
              "      <td>0.578229</td>\n",
              "      <td>-0.037501</td>\n",
              "      <td>0.640134</td>\n",
              "      <td>0.265745</td>\n",
              "      <td>-0.087371</td>\n",
              "      <td>0.004455</td>\n",
              "      <td>-0.026561</td>\n",
              "      <td>67.88</td>\n",
              "      <td>0</td>\n",
              "      <td>0.88</td>\n",
              "    </tr>\n",
              "    <tr>\n",
              "      <th>172788.0</th>\n",
              "      <td>-0.240440</td>\n",
              "      <td>0.530483</td>\n",
              "      <td>0.702510</td>\n",
              "      <td>0.689799</td>\n",
              "      <td>-0.377961</td>\n",
              "      <td>0.623708</td>\n",
              "      <td>-0.686180</td>\n",
              "      <td>0.679145</td>\n",
              "      <td>0.392087</td>\n",
              "      <td>-0.399126</td>\n",
              "      <td>...</td>\n",
              "      <td>0.800049</td>\n",
              "      <td>-0.163298</td>\n",
              "      <td>0.123205</td>\n",
              "      <td>-0.569159</td>\n",
              "      <td>0.546668</td>\n",
              "      <td>0.108821</td>\n",
              "      <td>0.104533</td>\n",
              "      <td>10.00</td>\n",
              "      <td>0</td>\n",
              "      <td>0.00</td>\n",
              "    </tr>\n",
              "    <tr>\n",
              "      <th>172792.0</th>\n",
              "      <td>-0.533413</td>\n",
              "      <td>-0.189733</td>\n",
              "      <td>0.703337</td>\n",
              "      <td>-0.506271</td>\n",
              "      <td>-0.012546</td>\n",
              "      <td>-0.649617</td>\n",
              "      <td>1.577006</td>\n",
              "      <td>-0.414650</td>\n",
              "      <td>0.486180</td>\n",
              "      <td>-0.915427</td>\n",
              "      <td>...</td>\n",
              "      <td>0.643078</td>\n",
              "      <td>0.376777</td>\n",
              "      <td>0.008797</td>\n",
              "      <td>-0.473649</td>\n",
              "      <td>-0.818267</td>\n",
              "      <td>-0.002415</td>\n",
              "      <td>0.013649</td>\n",
              "      <td>217.00</td>\n",
              "      <td>0</td>\n",
              "      <td>0.00</td>\n",
              "    </tr>\n",
              "  </tbody>\n",
              "</table>\n",
              "<p>284807 rows × 31 columns</p>\n",
              "</div>"
            ],
            "text/plain": [
              "                 V1         V2        V3        V4        V5        V6  \\\n",
              "Time                                                                     \n",
              "0.0       -1.359807  -0.072781  2.536347  1.378155 -0.338321  0.462388   \n",
              "0.0        1.191857   0.266151  0.166480  0.448154  0.060018 -0.082361   \n",
              "1.0       -1.358354  -1.340163  1.773209  0.379780 -0.503198  1.800499   \n",
              "1.0       -0.966272  -0.185226  1.792993 -0.863291 -0.010309  1.247203   \n",
              "2.0       -1.158233   0.877737  1.548718  0.403034 -0.407193  0.095921   \n",
              "...             ...        ...       ...       ...       ...       ...   \n",
              "172786.0 -11.881118  10.071785 -9.834783 -2.066656 -5.364473 -2.606837   \n",
              "172787.0  -0.732789  -0.055080  2.035030 -0.738589  0.868229  1.058415   \n",
              "172788.0   1.919565  -0.301254 -3.249640 -0.557828  2.630515  3.031260   \n",
              "172788.0  -0.240440   0.530483  0.702510  0.689799 -0.377961  0.623708   \n",
              "172792.0  -0.533413  -0.189733  0.703337 -0.506271 -0.012546 -0.649617   \n",
              "\n",
              "                V7        V8        V9       V10  ...       V22       V23  \\\n",
              "Time                                              ...                       \n",
              "0.0       0.239599  0.098698  0.363787  0.090794  ...  0.277838 -0.110474   \n",
              "0.0      -0.078803  0.085102 -0.255425 -0.166974  ... -0.638672  0.101288   \n",
              "1.0       0.791461  0.247676 -1.514654  0.207643  ...  0.771679  0.909412   \n",
              "1.0       0.237609  0.377436 -1.387024 -0.054952  ...  0.005274 -0.190321   \n",
              "2.0       0.592941 -0.270533  0.817739  0.753074  ...  0.798278 -0.137458   \n",
              "...            ...       ...       ...       ...  ...       ...       ...   \n",
              "172786.0 -4.918215  7.305334  1.914428  4.356170  ...  0.111864  1.014480   \n",
              "172787.0  0.024330  0.294869  0.584800 -0.975926  ...  0.924384  0.012463   \n",
              "172788.0 -0.296827  0.708417  0.432454 -0.484782  ...  0.578229 -0.037501   \n",
              "172788.0 -0.686180  0.679145  0.392087 -0.399126  ...  0.800049 -0.163298   \n",
              "172792.0  1.577006 -0.414650  0.486180 -0.915427  ...  0.643078  0.376777   \n",
              "\n",
              "               V24       V25       V26       V27       V28  Amount  Class  \\\n",
              "Time                                                                        \n",
              "0.0       0.066928  0.128539 -0.189115  0.133558 -0.021053  149.62      0   \n",
              "0.0      -0.339846  0.167170  0.125895 -0.008983  0.014724    2.69      0   \n",
              "1.0      -0.689281 -0.327642 -0.139097 -0.055353 -0.059752  378.66      0   \n",
              "1.0      -1.175575  0.647376 -0.221929  0.062723  0.061458  123.50      0   \n",
              "2.0       0.141267 -0.206010  0.502292  0.219422  0.215153   69.99      0   \n",
              "...            ...       ...       ...       ...       ...     ...    ...   \n",
              "172786.0 -0.509348  1.436807  0.250034  0.943651  0.823731    0.77      0   \n",
              "172787.0 -1.016226 -0.606624 -0.395255  0.068472 -0.053527   24.79      0   \n",
              "172788.0  0.640134  0.265745 -0.087371  0.004455 -0.026561   67.88      0   \n",
              "172788.0  0.123205 -0.569159  0.546668  0.108821  0.104533   10.00      0   \n",
              "172792.0  0.008797 -0.473649 -0.818267 -0.002415  0.013649  217.00      0   \n",
              "\n",
              "          cents  \n",
              "Time             \n",
              "0.0        0.62  \n",
              "0.0        0.69  \n",
              "1.0        0.66  \n",
              "1.0        0.50  \n",
              "2.0        0.99  \n",
              "...         ...  \n",
              "172786.0   0.77  \n",
              "172787.0   0.79  \n",
              "172788.0   0.88  \n",
              "172788.0   0.00  \n",
              "172792.0   0.00  \n",
              "\n",
              "[284807 rows x 31 columns]"
            ]
          },
          "metadata": {
            "tags": []
          },
          "execution_count": 18
        }
      ]
    },
    {
      "cell_type": "code",
      "metadata": {
        "id": "LmB9m-g1_D_J",
        "outputId": "959a1d99-d638-41ae-8af9-3ef7fb04c74f"
      },
      "source": [
        "X = StandardScaler().fit_transform(data.drop(['Class'], axis=1))\n",
        "X.shape"
      ],
      "execution_count": null,
      "outputs": [
        {
          "output_type": "execute_result",
          "data": {
            "text/plain": [
              "(284807, 30)"
            ]
          },
          "metadata": {
            "tags": []
          },
          "execution_count": 19
        }
      ]
    },
    {
      "cell_type": "markdown",
      "metadata": {
        "id": "OyXNlaCJ_D_J"
      },
      "source": [
        "Проверяю модели на кросс валидации, чтобы понять как они себя показывают не на конкретной тестовой выборке, а в общем случае."
      ]
    },
    {
      "cell_type": "code",
      "metadata": {
        "id": "Yz9VSQnw_D_J",
        "outputId": "c1b87f82-6a9a-41a4-ad9a-52d1a17c8cff"
      },
      "source": [
        "# logReg\n",
        "model = LogisticRegression(class_weight = {0: 1, 1: 5}, penalty = 'l2')\n",
        "print(f'LogReg {np.average(cross_val_score(model, X, y, cv=5, scoring=\"f1\", n_jobs = -1))}')\n",
        "\n",
        "#KNN\n",
        "model = KNeighborsClassifier(n_neighbors = 2, weights = 'uniform')\n",
        "print(f'KNN {np.average(cross_val_score(model, X, y, cv=5, scoring=\"f1\", n_jobs = -1))}')\n",
        "\n",
        "#RandomForest\n",
        "model = RandomForestClassifier(criterion = 'entropy', max_depth = 500, n_estimators = 1000)\n",
        "print(f'RandomForest {np.average(cross_val_score(model, X, y, cv=5, scoring=\"f1\", n_jobs = -1))}')\n"
      ],
      "execution_count": null,
      "outputs": [
        {
          "output_type": "stream",
          "text": [
            "LogReg 0.7838334682028062\n",
            "KNN 0.7431702052845034\n",
            "RandomForest 0.811457903781403\n"
          ],
          "name": "stdout"
        }
      ]
    },
    {
      "cell_type": "code",
      "metadata": {
        "id": "rA_6XJ5B_D_J",
        "outputId": "c93e94f8-b4f7-48e9-dd3d-213cdc158e12"
      },
      "source": [
        "X_train, X_test, y_train, y_test = train_test_split(\n",
        "    X, y, test_size=0.1, random_state=42)\n",
        "model = LogisticRegression(class_weight = {0: 1, 1: 5}, penalty = 'l2', n_jobs = -1)\n",
        "model.fit(X_train, y_train)\n",
        "\n",
        "preds = model.predict(X_test)\n",
        "print(f'Logreg f1: {f1_score(y_test, preds)}')\n",
        "\n",
        "#KNN\n",
        "model = KNeighborsClassifier(n_neighbors = 2, weights = 'uniform', n_jobs = -1)\n",
        "model.fit(X_train, y_train)\n",
        "\n",
        "preds = model.predict(X_test)\n",
        "print(f'KNN f1: {f1_score(y_test, preds)}')\n",
        "\n",
        "\n",
        "#RandomForest\n",
        "model = RandomForestClassifier(criterion = 'entropy', max_depth = 500, n_estimators = 1000, n_jobs = -1)\n",
        "model.fit(X_train, y_train)\n",
        "\n",
        "preds = model.predict(X_test)\n",
        "print(f'RandomForest f1: {f1_score(y_test, preds)}')\n"
      ],
      "execution_count": null,
      "outputs": [
        {
          "output_type": "stream",
          "text": [
            "Logreg f1: 0.8089887640449438\n",
            "KNN f1: 0.8571428571428571\n",
            "RandomForest f1: 0.8641975308641976\n"
          ],
          "name": "stdout"
        }
      ]
    },
    {
      "cell_type": "markdown",
      "metadata": {
        "id": "pcGlmcXd_D_K"
      },
      "source": [
        "#### Метод ANOVA"
      ]
    },
    {
      "cell_type": "code",
      "metadata": {
        "id": "ITntaFgA_D_L",
        "outputId": "02790bc4-152a-4b1d-d091-32adecc81d55"
      },
      "source": [
        "from sklearn.feature_selection import SelectKBest, f_classif\n",
        "from tqdm import tqdm\n",
        "\n",
        "\n",
        "lr_f1_results = []\n",
        "knn_f1_results = []\n",
        "rf_f1_results = []\n",
        "X_ = data.drop(['Class'], axis=1)\n",
        "for i in tqdm(np.arange(20,31)):\n",
        "    x_data_kbest = SelectKBest(f_classif, k=i).fit_transform(X, y)\n",
        "    X_train_gen, X_test_gen, y_train_gen, y_test_gen = train_test_split(\n",
        "    x_data_kbest, y, test_size=0.1, random_state=42)\n",
        "    \n",
        "    lr = LogisticRegression(class_weight = {0: 1, 1: 5}, penalty = 'l2', n_jobs = -1)\n",
        "    lr.fit(X_train_gen, y_train_gen)\n",
        "    preds = lr.predict(X_test_gen)\n",
        "    lr_f1_results.append(f1_score(y_test_gen, preds))\n",
        "    \n",
        "    knn = KNeighborsClassifier(n_neighbors = 2, weights = 'uniform', n_jobs = -1)\n",
        "    knn.fit(X_train_gen, y_train_gen)\n",
        "    preds = knn.predict(X_test_gen)\n",
        "    knn_f1_results.append(f1_score(y_test_gen, preds))\n",
        "    \n",
        "    rf = RandomForestClassifier(criterion = 'entropy', max_depth = 500, n_estimators = 1000, n_jobs = -1)\n",
        "    rf.fit(X_train_gen, y_train_gen)\n",
        "    preds = rf.predict(X_test_gen)\n",
        "    rf_f1_results.append(f1_score(y_test_gen, preds))"
      ],
      "execution_count": null,
      "outputs": [
        {
          "output_type": "stream",
          "text": [
            "100%|███████████████████████████████████████████████████████████████████████████████| 11/11 [1:19:27<00:00, 433.41s/it]\n"
          ],
          "name": "stderr"
        }
      ]
    },
    {
      "cell_type": "code",
      "metadata": {
        "id": "wAZ19dsA_D_M",
        "outputId": "1e166b50-2f86-456b-b022-ab33a8b1f672"
      },
      "source": [
        "plt.figure(figsize=(10, 6))\n",
        "plt.plot(np.arange(20,31), lr_f1_results)\n",
        "plt.title('ANOVA LR')\n",
        "plt.ylabel('f1')\n",
        "plt.xlabel('k')\n",
        "plt.show()\n",
        "print(f'the best k = {np.argmax(lr_f1_results) + 20}')\n",
        "print(f'the best f1 = {sorted(lr_f1_results)[-1]}')\n",
        "\n",
        "plt.figure(figsize=(10, 6))\n",
        "plt.plot(np.arange(20,31), knn_f1_results)\n",
        "plt.title('ANOVA KNN')\n",
        "plt.ylabel('f1')\n",
        "plt.xlabel('k')\n",
        "plt.show()\n",
        "print(f'the best k = {np.argmax(knn_f1_results) + 20}')\n",
        "print(f'the best f1 = {sorted(knn_f1_results)[-1]}')\n",
        "\n",
        "plt.figure(figsize=(10, 6))\n",
        "plt.plot(np.arange(20,31), rf_f1_results)\n",
        "plt.title('ANOVA RF')\n",
        "plt.ylabel('f1')\n",
        "plt.xlabel('k')\n",
        "plt.show()\n",
        "print(f'the best k = {np.argmax(rf_f1_results) + 20}')\n",
        "print(f'the best f1 = {sorted(rf_f1_results)[-1]}')"
      ],
      "execution_count": null,
      "outputs": [
        {
          "output_type": "display_data",
          "data": {
            "image/png": "[encoded data removed]",
            "text/plain": [
              "<Figure size 720x432 with 1 Axes>"
            ]
          },
          "metadata": {
            "tags": [],
            "needs_background": "light"
          }
        },
        {
          "output_type": "stream",
          "text": [
            "the best k = 20\n",
            "the best f1 = 0.8089887640449438\n"
          ],
          "name": "stdout"
        },
        {
          "output_type": "display_data",
          "data": {
            "image/png": "[encoded data removed]",
            "text/plain": [
              "<Figure size 720x432 with 1 Axes>"
            ]
          },
          "metadata": {
            "tags": [],
            "needs_background": "light"
          }
        },
        {
          "output_type": "stream",
          "text": [
            "the best k = 21\n",
            "the best f1 = 0.8674698795180723\n"
          ],
          "name": "stdout"
        },
        {
          "output_type": "display_data",
          "data": {
            "image/png": "[encoded data removed]",
            "text/plain": [
              "<Figure size 720x432 with 1 Axes>"
            ]
          },
          "metadata": {
            "tags": [],
            "needs_background": "light"
          }
        },
        {
          "output_type": "stream",
          "text": [
            "the best k = 30\n",
            "the best f1 = 0.8641975308641976\n"
          ],
          "name": "stdout"
        }
      ]
    },
    {
      "cell_type": "markdown",
      "metadata": {
        "id": "wos3vHYy_D_M"
      },
      "source": [
        "### Итог\n",
        "\n",
        "Максимальный скор удалось выбить на KNN равный 0.867 (при k = 21 в ANOVA), RandomForest получил очень близкий результат равный 0.864 (при k = 30 в ANOVA), Логистическая регрессия оказалась слабее всех со скором 0.8089 (метод ANOVA не принес никакий результатов).\n",
        "\n",
        "Прирост моделей:\n",
        "###### LR: 0.716 -> 0.8089\n",
        "###### KNN: 0.843 -> 0.867\n",
        "###### RF: 0.867 -> 0.864 (Тут результат даже упал по сравнению с первым запуском, видимо все эти преодбразования хороши для Лог регрессии и более менее подошли для КНН, но RandomForest не очень оценил такие изменения)"
      ]
    },
    {
      "cell_type": "markdown",
      "metadata": {
        "id": "kjc_LPjT_D_M"
      },
      "source": [
        "# 2 - Небинарная классификация на вашем датасете (суммарно 6 баллов)"
      ]
    },
    {
      "cell_type": "markdown",
      "metadata": {
        "id": "_eVn5REQ_D_M"
      },
      "source": [
        "### (2 балла) Выберите какой-нибудь интересный вам датасет, скачайте его и считайте данные\n",
        "\n",
        "Творческое задание - найти в интернете (или собрать свой даже) датасет, сохранить его в файл, и загрузить сюда.\n",
        "\n",
        "Требования:\n",
        "\n",
        "- он должен быть немаленький (хотя бы 500 объектов, лучше больше)\n",
        "- он должен быть интересный\n",
        "- таргет должен быть небинарным классом\n",
        "\n",
        "Минус балл, если ваш датасет с кем-нибудь повторится."
      ]
    },
    {
      "cell_type": "markdown",
      "metadata": {
        "id": "Glel2Cql_D_N"
      },
      "source": [
        "https://www.kaggle.com/caparrini/beatsdataset\n",
        "Этот датасет на классификацию 23 жанров музыки.\n",
        "\n",
        "Каждая строка-это песня. Набор данных содержит по 100 песен для каждого из 23 жанров электронной музыки (итого 2300 песен), данные композиции были (100) лучшими песнями среди своего жанра в ноябре 2016 года. 71 признак-это разнообразные \"звуковые функции\", извлеченные из двух случайных минутных выборок аудио файла. Функции были получены с помощью pyAudioAnalysis (https://github.com/tyiannak/pyAudioAnalysis)."
      ]
    },
    {
      "cell_type": "code",
      "metadata": {
        "id": "grc8lX86_D_N",
        "outputId": "3ac2c0bf-6361-419c-d598-2f5f185a4851"
      },
      "source": [
        "my_data = pd.read_csv('beatsdataset.csv', index_col=0)\n",
        "my_data.head()"
      ],
      "execution_count": null,
      "outputs": [
        {
          "output_type": "execute_result",
          "data": {
            "text/html": [
              "<div>\n",
              "<style scoped>\n",
              "    .dataframe tbody tr th:only-of-type {\n",
              "        vertical-align: middle;\n",
              "    }\n",
              "\n",
              "    .dataframe tbody tr th {\n",
              "        vertical-align: top;\n",
              "    }\n",
              "\n",
              "    .dataframe thead th {\n",
              "        text-align: right;\n",
              "    }\n",
              "</style>\n",
              "<table border=\"1\" class=\"dataframe\">\n",
              "  <thead>\n",
              "    <tr style=\"text-align: right;\">\n",
              "      <th></th>\n",
              "      <th>1-ZCRm</th>\n",
              "      <th>2-Energym</th>\n",
              "      <th>3-EnergyEntropym</th>\n",
              "      <th>4-SpectralCentroidm</th>\n",
              "      <th>5-SpectralSpreadm</th>\n",
              "      <th>6-SpectralEntropym</th>\n",
              "      <th>7-SpectralFluxm</th>\n",
              "      <th>8-SpectralRolloffm</th>\n",
              "      <th>9-MFCCs1m</th>\n",
              "      <th>10-MFCCs2m</th>\n",
              "      <th>...</th>\n",
              "      <th>63-ChromaVector8std</th>\n",
              "      <th>64-ChromaVector9std</th>\n",
              "      <th>65-ChromaVector10std</th>\n",
              "      <th>66-ChromaVector11std</th>\n",
              "      <th>67-ChromaVector12std</th>\n",
              "      <th>68-ChromaDeviationstd</th>\n",
              "      <th>69-BPM</th>\n",
              "      <th>70-BPMconf</th>\n",
              "      <th>71-BPMessentia</th>\n",
              "      <th>class</th>\n",
              "    </tr>\n",
              "  </thead>\n",
              "  <tbody>\n",
              "    <tr>\n",
              "      <th>0</th>\n",
              "      <td>0.136440</td>\n",
              "      <td>0.088861</td>\n",
              "      <td>3.201201</td>\n",
              "      <td>0.262825</td>\n",
              "      <td>0.249212</td>\n",
              "      <td>1.114423</td>\n",
              "      <td>0.007003</td>\n",
              "      <td>0.256682</td>\n",
              "      <td>-22.723259</td>\n",
              "      <td>1.594074</td>\n",
              "      <td>...</td>\n",
              "      <td>0.003431</td>\n",
              "      <td>0.004981</td>\n",
              "      <td>0.010818</td>\n",
              "      <td>0.024001</td>\n",
              "      <td>0.005201</td>\n",
              "      <td>0.015056</td>\n",
              "      <td>133.333333</td>\n",
              "      <td>0.132792</td>\n",
              "      <td>128.0</td>\n",
              "      <td>BigRoom</td>\n",
              "    </tr>\n",
              "    <tr>\n",
              "      <th>1</th>\n",
              "      <td>0.117039</td>\n",
              "      <td>0.108389</td>\n",
              "      <td>3.194001</td>\n",
              "      <td>0.247657</td>\n",
              "      <td>0.250288</td>\n",
              "      <td>1.065668</td>\n",
              "      <td>0.005387</td>\n",
              "      <td>0.199821</td>\n",
              "      <td>-21.775871</td>\n",
              "      <td>1.261364</td>\n",
              "      <td>...</td>\n",
              "      <td>0.004461</td>\n",
              "      <td>0.006441</td>\n",
              "      <td>0.007469</td>\n",
              "      <td>0.015499</td>\n",
              "      <td>0.005589</td>\n",
              "      <td>0.019339</td>\n",
              "      <td>120.000000</td>\n",
              "      <td>0.112767</td>\n",
              "      <td>126.0</td>\n",
              "      <td>BigRoom</td>\n",
              "    </tr>\n",
              "    <tr>\n",
              "      <th>2</th>\n",
              "      <td>0.085308</td>\n",
              "      <td>0.128525</td>\n",
              "      <td>3.123837</td>\n",
              "      <td>0.217205</td>\n",
              "      <td>0.228652</td>\n",
              "      <td>0.789647</td>\n",
              "      <td>0.008247</td>\n",
              "      <td>0.156822</td>\n",
              "      <td>-22.472722</td>\n",
              "      <td>1.425185</td>\n",
              "      <td>...</td>\n",
              "      <td>0.001529</td>\n",
              "      <td>0.004556</td>\n",
              "      <td>0.007723</td>\n",
              "      <td>0.017482</td>\n",
              "      <td>0.002901</td>\n",
              "      <td>0.022201</td>\n",
              "      <td>133.333333</td>\n",
              "      <td>0.123373</td>\n",
              "      <td>129.0</td>\n",
              "      <td>BigRoom</td>\n",
              "    </tr>\n",
              "    <tr>\n",
              "      <th>3</th>\n",
              "      <td>0.103050</td>\n",
              "      <td>0.167042</td>\n",
              "      <td>3.150830</td>\n",
              "      <td>0.233593</td>\n",
              "      <td>0.245032</td>\n",
              "      <td>0.967082</td>\n",
              "      <td>0.006571</td>\n",
              "      <td>0.168083</td>\n",
              "      <td>-21.470751</td>\n",
              "      <td>1.463686</td>\n",
              "      <td>...</td>\n",
              "      <td>0.001591</td>\n",
              "      <td>0.003514</td>\n",
              "      <td>0.009477</td>\n",
              "      <td>0.023162</td>\n",
              "      <td>0.004165</td>\n",
              "      <td>0.015379</td>\n",
              "      <td>133.333333</td>\n",
              "      <td>0.158876</td>\n",
              "      <td>129.0</td>\n",
              "      <td>BigRoom</td>\n",
              "    </tr>\n",
              "    <tr>\n",
              "      <th>4</th>\n",
              "      <td>0.151730</td>\n",
              "      <td>0.148405</td>\n",
              "      <td>3.194498</td>\n",
              "      <td>0.293730</td>\n",
              "      <td>0.267231</td>\n",
              "      <td>1.353005</td>\n",
              "      <td>0.003872</td>\n",
              "      <td>0.292055</td>\n",
              "      <td>-21.371157</td>\n",
              "      <td>1.187854</td>\n",
              "      <td>...</td>\n",
              "      <td>0.003945</td>\n",
              "      <td>0.004131</td>\n",
              "      <td>0.011330</td>\n",
              "      <td>0.028188</td>\n",
              "      <td>0.002639</td>\n",
              "      <td>0.019079</td>\n",
              "      <td>133.333333</td>\n",
              "      <td>0.190708</td>\n",
              "      <td>129.0</td>\n",
              "      <td>BigRoom</td>\n",
              "    </tr>\n",
              "  </tbody>\n",
              "</table>\n",
              "<p>5 rows × 72 columns</p>\n",
              "</div>"
            ],
            "text/plain": [
              "     1-ZCRm  2-Energym  3-EnergyEntropym  4-SpectralCentroidm  \\\n",
              "0  0.136440   0.088861          3.201201             0.262825   \n",
              "1  0.117039   0.108389          3.194001             0.247657   \n",
              "2  0.085308   0.128525          3.123837             0.217205   \n",
              "3  0.103050   0.167042          3.150830             0.233593   \n",
              "4  0.151730   0.148405          3.194498             0.293730   \n",
              "\n",
              "   5-SpectralSpreadm  6-SpectralEntropym  7-SpectralFluxm  8-SpectralRolloffm  \\\n",
              "0           0.249212            1.114423         0.007003            0.256682   \n",
              "1           0.250288            1.065668         0.005387            0.199821   \n",
              "2           0.228652            0.789647         0.008247            0.156822   \n",
              "3           0.245032            0.967082         0.006571            0.168083   \n",
              "4           0.267231            1.353005         0.003872            0.292055   \n",
              "\n",
              "   9-MFCCs1m  10-MFCCs2m  ...  63-ChromaVector8std  64-ChromaVector9std  \\\n",
              "0 -22.723259    1.594074  ...             0.003431             0.004981   \n",
              "1 -21.775871    1.261364  ...             0.004461             0.006441   \n",
              "2 -22.472722    1.425185  ...             0.001529             0.004556   \n",
              "3 -21.470751    1.463686  ...             0.001591             0.003514   \n",
              "4 -21.371157    1.187854  ...             0.003945             0.004131   \n",
              "\n",
              "   65-ChromaVector10std  66-ChromaVector11std  67-ChromaVector12std  \\\n",
              "0              0.010818              0.024001              0.005201   \n",
              "1              0.007469              0.015499              0.005589   \n",
              "2              0.007723              0.017482              0.002901   \n",
              "3              0.009477              0.023162              0.004165   \n",
              "4              0.011330              0.028188              0.002639   \n",
              "\n",
              "   68-ChromaDeviationstd      69-BPM  70-BPMconf  71-BPMessentia    class  \n",
              "0               0.015056  133.333333    0.132792           128.0  BigRoom  \n",
              "1               0.019339  120.000000    0.112767           126.0  BigRoom  \n",
              "2               0.022201  133.333333    0.123373           129.0  BigRoom  \n",
              "3               0.015379  133.333333    0.158876           129.0  BigRoom  \n",
              "4               0.019079  133.333333    0.190708           129.0  BigRoom  \n",
              "\n",
              "[5 rows x 72 columns]"
            ]
          },
          "metadata": {
            "tags": []
          },
          "execution_count": 28
        }
      ]
    },
    {
      "cell_type": "markdown",
      "metadata": {
        "id": "gDzYjqew_D_N"
      },
      "source": [
        "Посмотрим какие классы у нас есть и как они сбалансированы"
      ]
    },
    {
      "cell_type": "code",
      "metadata": {
        "id": "qU8hY9bN_D_O",
        "outputId": "7d61c532-f2b3-4c5a-f7c6-9410b4272649"
      },
      "source": [
        "my_data['class'].value_counts()"
      ],
      "execution_count": null,
      "outputs": [
        {
          "output_type": "execute_result",
          "data": {
            "text/plain": [
              "DeepHouse               100\n",
              "FutureHouse             100\n",
              "HardcoreHardTechno      100\n",
              "Dance                   100\n",
              "HipHop                  100\n",
              "GlitchHop               100\n",
              "ReggaeDub               100\n",
              "HardDance               100\n",
              "Breaks                  100\n",
              "ElectroHouse            100\n",
              "DrumAndBass             100\n",
              "Trance                  100\n",
              "TechHouse               100\n",
              "Minimal                 100\n",
              "ElectronicaDowntempo    100\n",
              "House                   100\n",
              "PsyTrance               100\n",
              "BigRoom                 100\n",
              "Dubstep                 100\n",
              "IndieDanceNuDisco       100\n",
              "Techno                  100\n",
              "FunkRAndB               100\n",
              "ProgressiveHouse        100\n",
              "Name: class, dtype: int64"
            ]
          },
          "metadata": {
            "tags": []
          },
          "execution_count": 29
        }
      ]
    },
    {
      "cell_type": "markdown",
      "metadata": {
        "id": "mX5HTvp__D_O"
      },
      "source": [
        "Все классы представлены в равных пропорциях, это радует"
      ]
    },
    {
      "cell_type": "code",
      "metadata": {
        "id": "GAVnV7yq_D_O"
      },
      "source": [
        "\n",
        "X = my_data.drop(['class'], axis=1) \n",
        "y = my_data['class']\n",
        "from sklearn.model_selection import train_test_split\n",
        "X_train, X_test, y_train, y_test = train_test_split(\n",
        "    X, y, test_size=0.1, random_state=42)"
      ],
      "execution_count": null,
      "outputs": []
    },
    {
      "cell_type": "markdown",
      "metadata": {
        "id": "UvlbGLjw_D_O"
      },
      "source": [
        "### (2 балла) Обучите несколько моделей, посмотрите на метрики.\n",
        "Как модели точно возьмите LogisticRegression, KNN и константу, можете придумать еще какие-нибудь.\n",
        "\n",
        "Как метрики точно возьмите accuracy, разные усреднения precision, recall и f1."
      ]
    },
    {
      "cell_type": "markdown",
      "metadata": {
        "id": "1sTietHi_D_P"
      },
      "source": [
        "###  LogisticRegression при дефолтных параметрах"
      ]
    },
    {
      "cell_type": "code",
      "metadata": {
        "id": "7t2XjZC2_D_P",
        "outputId": "c84bc87d-fa6e-49f6-d908-27121fe2301e"
      },
      "source": [
        "import warnings\n",
        "warnings.filterwarnings('ignore')\n",
        "model = LogisticRegression(multi_class = 'auto', n_jobs = -1)\n",
        "model.fit(X_train, y_train)\n",
        "preds = model.predict(X_test)\n",
        "\n",
        "print(f'accuracy: {accuracy_score(y_test, preds)}')\n",
        "print('___________________________________________________________________________________________________________________________')\n",
        "print(f'precision \"macro\": {precision_score(y_test, preds, average = \"macro\")}| precision \"micro\": {precision_score(y_test, preds, average = \"micro\")}', end ='| ')\n",
        "print(f'precision \"weighted\": {precision_score(y_test, preds, average = \"weighted\")}')\n",
        "print('___________________________________________________________________________________________________________________________')\n",
        "print(f'recall \"macro\": {recall_score(y_test, preds, average = \"macro\")}| recall \"micro\": {recall_score(y_test, preds, average = \"micro\")}', end ='| ')\n",
        "print(f'recall \"weighted\": {recall_score(y_test, preds, average = \"weighted\")}')\n",
        "print('___________________________________________________________________________________________________________________________')\n",
        "print(f'f1 \"macro\": {f1_score(y_test, preds, average = \"macro\")}| f1 \"micro\": {f1_score(y_test, preds, average = \"micro\")}', end ='| ')\n",
        "print(f'f1 \"weighted\": {f1_score(y_test, preds, average = \"weighted\")}')"
      ],
      "execution_count": null,
      "outputs": [
        {
          "output_type": "stream",
          "text": [
            "accuracy: 0.1956521739130435\n",
            "___________________________________________________________________________________________________________________________\n",
            "precision \"macro\": 0.2250555051907666| precision \"micro\": 0.1956521739130435| precision \"weighted\": 0.2386252241948867\n",
            "___________________________________________________________________________________________________________________________\n",
            "recall \"macro\": 0.2080243428069515| recall \"micro\": 0.1956521739130435| recall \"weighted\": 0.1956521739130435\n",
            "___________________________________________________________________________________________________________________________\n",
            "f1 \"macro\": 0.14538424475077033| f1 \"micro\": 0.1956521739130435| f1 \"weighted\": 0.15065617611707394\n"
          ],
          "name": "stdout"
        }
      ]
    },
    {
      "cell_type": "markdown",
      "metadata": {
        "id": "rFB6e1cX_D_P"
      },
      "source": [
        "### Random Forest "
      ]
    },
    {
      "cell_type": "code",
      "metadata": {
        "id": "EDLehnXe_D_P",
        "outputId": "1afe22fe-48d1-483e-f4b3-081354b4dfc3"
      },
      "source": [
        "from sklearn.ensemble import RandomForestClassifier\n",
        "model = RandomForestClassifier(n_jobs = -1)\n",
        "model.fit(X_train, y_train)\n",
        "\n",
        "preds = model.predict(X_test)\n",
        "print(f'accuracy: {accuracy_score(y_test, preds)}')\n",
        "print('___________________________________________________________________________________________________________________________')\n",
        "print(f'precision \"macro\": {precision_score(y_test, preds, average = \"macro\")}| precision \"micro\": {precision_score(y_test, preds, average = \"micro\")}', end ='| ')\n",
        "print(f'precision \"weighted\": {precision_score(y_test, preds, average = \"weighted\")}')\n",
        "print('___________________________________________________________________________________________________________________________')\n",
        "print(f'recall \"macro\": {recall_score(y_test, preds, average = \"macro\")}| recall \"micro\": {recall_score(y_test, preds, average = \"micro\")}', end ='| ')\n",
        "print(f'recall \"weighted\": {recall_score(y_test, preds, average = \"weighted\")}')\n",
        "print('___________________________________________________________________________________________________________________________')\n",
        "print(f'f1 \"macro\": {f1_score(y_test, preds, average = \"macro\")}| f1 \"micro\": {f1_score(y_test, preds, average = \"micro\")}', end ='| ')\n",
        "print(f'f1 \"weighted\": {f1_score(y_test, preds, average = \"weighted\")}')"
      ],
      "execution_count": null,
      "outputs": [
        {
          "output_type": "stream",
          "text": [
            "accuracy: 0.5260869565217391\n",
            "___________________________________________________________________________________________________________________________\n",
            "precision \"macro\": 0.48915228816292217| precision \"micro\": 0.5260869565217391| precision \"weighted\": 0.5392307290008865\n",
            "___________________________________________________________________________________________________________________________\n",
            "recall \"macro\": 0.5129995608256478| recall \"micro\": 0.5260869565217391| recall \"weighted\": 0.5260869565217391\n",
            "___________________________________________________________________________________________________________________________\n",
            "f1 \"macro\": 0.4812263818748394| f1 \"micro\": 0.5260869565217391| f1 \"weighted\": 0.5165584135302103\n"
          ],
          "name": "stdout"
        }
      ]
    },
    {
      "cell_type": "markdown",
      "metadata": {
        "id": "SlkdKd61_D_P"
      },
      "source": [
        "### KNN"
      ]
    },
    {
      "cell_type": "code",
      "metadata": {
        "id": "1R_D_075_D_Q",
        "outputId": "2937601a-9c89-481f-e41f-6c24cca9fb1e"
      },
      "source": [
        "model = KNeighborsClassifier()\n",
        "model.fit(X_train, y_train)\n",
        "preds = model.predict(X_test)\n",
        "print(f'accuracy: {accuracy_score(y_test, preds)}')\n",
        "print('___________________________________________________________________________________________________________________________')\n",
        "print(f'precision \"macro\": {precision_score(y_test, preds, average = \"macro\")}| precision \"micro\": {precision_score(y_test, preds, average = \"micro\")}', end ='| ')\n",
        "print(f'precision \"weighted\": {precision_score(y_test, preds, average = \"weighted\")}')\n",
        "print('___________________________________________________________________________________________________________________________')\n",
        "print(f'recall \"macro\": {recall_score(y_test, preds, average = \"macro\")}| recall \"micro\": {recall_score(y_test, preds, average = \"micro\")}', end ='| ')\n",
        "print(f'recall \"weighted\": {recall_score(y_test, preds, average = \"weighted\")}')\n",
        "print('___________________________________________________________________________________________________________________________')\n",
        "print(f'f1 \"macro\": {f1_score(y_test, preds, average = \"macro\")}| f1 \"micro\": {f1_score(y_test, preds, average = \"micro\")}', end ='| ')\n",
        "print(f'f1 \"weighted\": {f1_score(y_test, preds, average = \"weighted\")}')"
      ],
      "execution_count": null,
      "outputs": [
        {
          "output_type": "stream",
          "text": [
            "accuracy: 0.4782608695652174\n",
            "___________________________________________________________________________________________________________________________\n",
            "precision \"macro\": 0.45190027363940394| precision \"micro\": 0.4782608695652174| precision \"weighted\": 0.49303039955213873\n",
            "___________________________________________________________________________________________________________________________\n",
            "recall \"macro\": 0.4691542756760148| recall \"micro\": 0.4782608695652174| recall \"weighted\": 0.4782608695652174\n",
            "___________________________________________________________________________________________________________________________\n",
            "f1 \"macro\": 0.43925473515050606| f1 \"micro\": 0.4782608695652174| f1 \"weighted\": 0.4647919843136269\n"
          ],
          "name": "stdout"
        }
      ]
    },
    {
      "cell_type": "markdown",
      "metadata": {
        "id": "OA1ewOXg_D_Q"
      },
      "source": [
        "Константное предсказание(везде предскажем хипхоп)"
      ]
    },
    {
      "cell_type": "code",
      "metadata": {
        "id": "SO90RVmw_D_Q",
        "outputId": "b4e44a76-3cdf-4a01-e73e-022d4b2c6743"
      },
      "source": [
        "preds = np.array(['HipHop']*len(X_test))\n",
        "print(f'accuracy: {accuracy_score(y_test, preds)}')\n",
        "print('___________________________________________________________________________________________________________________________')\n",
        "print(f'precision \"macro\": {precision_score(y_test, preds, average = \"macro\")}| precision \"micro\": {precision_score(y_test, preds, average = \"micro\")}', end ='| ')\n",
        "print(f'precision \"weighted\": {precision_score(y_test, preds, average = \"weighted\")}')\n",
        "print('___________________________________________________________________________________________________________________________')\n",
        "print(f'recall \"macro\": {recall_score(y_test, preds, average = \"macro\")}| recall \"micro\": {recall_score(y_test, preds, average = \"micro\")}', end ='| ')\n",
        "print(f'recall \"weighted\": {recall_score(y_test, preds, average = \"weighted\")}')\n",
        "print('___________________________________________________________________________________________________________________________')\n",
        "print(f'f1 \"macro\": {f1_score(y_test, preds, average = \"macro\")}| f1 \"micro\": {f1_score(y_test, preds, average = \"micro\")}', end ='| ')\n",
        "print(f'f1 \"weighted\": {f1_score(y_test, preds, average = \"weighted\")}')"
      ],
      "execution_count": null,
      "outputs": [
        {
          "output_type": "stream",
          "text": [
            "accuracy: 0.04782608695652174\n",
            "___________________________________________________________________________________________________________________________\n",
            "precision \"macro\": 0.002079395085066163| precision \"micro\": 0.04782608695652174| precision \"weighted\": 0.0022873345935727793\n",
            "___________________________________________________________________________________________________________________________\n",
            "recall \"macro\": 0.043478260869565216| recall \"micro\": 0.04782608695652174| recall \"weighted\": 0.04782608695652174\n",
            "___________________________________________________________________________________________________________________________\n",
            "f1 \"macro\": 0.003968969871910518| f1 \"micro\": 0.04782608695652174| f1 \"weighted\": 0.00436586685910157\n"
          ],
          "name": "stdout"
        }
      ]
    },
    {
      "cell_type": "markdown",
      "metadata": {
        "id": "pE6s7dak_D_Q"
      },
      "source": [
        "### (2 балла) Выберите метрику, которую вы хотите максимизировать. Переберите гиперпараметры, постарайтесь найти модель, которая максимизирует эту метрику.\n",
        "\n",
        "Обоснуйте свой выбор. Напишите красивый отчет с графиками. Добились ли вы результатов, которых хотели добиться для этого датасета?"
      ]
    },
    {
      "cell_type": "markdown",
      "metadata": {
        "id": "yiBi7rmw_D_R"
      },
      "source": [
        "Для данного датасета я выберу метрику accuracy, т.к в данной задаче, как мне кажется, у нас нет необходимости отдавать приоритет какому-то классу по важности или бояться что мы изредка перепутаем жанр, т.к. ничего страшного не произойдет. Если мы представим что это алгоритм для какой-то рекомендательной системы в стриминговом сервисе, то нас будет интересовать, чтобы как можно больше подобранных треков подходили под любимый жанр пользователя, а accuracy как раз покажет насколько точно у нас получается их классифицировать."
      ]
    },
    {
      "cell_type": "markdown",
      "metadata": {
        "id": "DD_KXaSn_D_R"
      },
      "source": [
        "Для начала обработаем данные"
      ]
    },
    {
      "cell_type": "markdown",
      "metadata": {
        "id": "vVg4pj9q_D_R"
      },
      "source": [
        "#### используем StandardScaler"
      ]
    },
    {
      "cell_type": "code",
      "metadata": {
        "id": "F2bfjVv2_D_R",
        "outputId": "e989d04f-c18d-433a-ac0c-438b6d7bcc73"
      },
      "source": [
        "from sklearn.preprocessing import StandardScaler\n",
        "X = StandardScaler().fit_transform(my_data.drop(['class'], axis=1))\n",
        "X_train, X_test, y_train, y_test = train_test_split(\n",
        "    X, y, test_size=0.1, random_state=42)\n",
        "\n",
        "model = LogisticRegression(multi_class = 'auto', n_jobs = -1)\n",
        "model.fit(X_train, y_train)\n",
        "preds = model.predict(X_test)\n",
        "\n",
        "print(f'test accuracy: {accuracy_score(y_test, preds)}')\n",
        "print(f'cv_accuracy {np.average(cross_val_score(model, X_train, y_train, cv=5, scoring=\"accuracy\", n_jobs = -1))}')"
      ],
      "execution_count": null,
      "outputs": [
        {
          "output_type": "stream",
          "text": [
            "test accuracy: 0.508695652173913\n",
            "cv_accuracy 0.45507246376811594\n"
          ],
          "name": "stdout"
        }
      ]
    },
    {
      "cell_type": "code",
      "metadata": {
        "id": "Xm847Ktv_D_R",
        "outputId": "6c10b50d-911e-4de4-dc70-3ce6441954d3"
      },
      "source": [
        "model = RandomForestClassifier(n_jobs = -1)\n",
        "model.fit(X_train, y_train)\n",
        "preds = model.predict(X_test)\n",
        "print(f'test accuracy: {accuracy_score(y_test, preds)}')\n",
        "print(f'cv_accuracy {np.average(cross_val_score(model, X_train, y_train, cv=5, scoring=\"accuracy\", n_jobs = -1))}')"
      ],
      "execution_count": null,
      "outputs": [
        {
          "output_type": "stream",
          "text": [
            "test accuracy: 0.5217391304347826\n",
            "cv_accuracy 0.5067632850241546\n"
          ],
          "name": "stdout"
        }
      ]
    },
    {
      "cell_type": "code",
      "metadata": {
        "id": "9UuWCzR9_D_S",
        "outputId": "783e18e2-57c7-494a-fd3e-96a61ce313e9"
      },
      "source": [
        "model = KNeighborsClassifier()\n",
        "model.fit(X_train, y_train)\n",
        "preds = model.predict(X_test)\n",
        "print(f'test accuracy: {accuracy_score(y_test, preds)}')\n",
        "print(f'cv_accuracy {np.average(cross_val_score(model, X_train, y_train, cv=5, scoring=\"accuracy\", n_jobs = -1))}')"
      ],
      "execution_count": null,
      "outputs": [
        {
          "output_type": "stream",
          "text": [
            "test accuracy: 0.3391304347826087\n",
            "cv_accuracy 0.29275362318840575\n"
          ],
          "name": "stdout"
        }
      ]
    },
    {
      "cell_type": "markdown",
      "metadata": {
        "id": "yl-qhg3g_D_S"
      },
      "source": [
        "KNN уже не очень хорошо себя показал, поэтому дальше работаем с логрегрессией и рандомфорестом "
      ]
    },
    {
      "cell_type": "markdown",
      "metadata": {
        "id": "HVi36W7F_D_S"
      },
      "source": [
        "#### используем MinMaxScaler"
      ]
    },
    {
      "cell_type": "code",
      "metadata": {
        "id": "lfitAkVw_D_S"
      },
      "source": [
        "from sklearn.preprocessing import MinMaxScaler\n",
        "X = MinMaxScaler().fit_transform(my_data.drop(['class'], axis=1))\n",
        "X_train, X_test, y_train, y_test = train_test_split(\n",
        "    X, y, test_size=0.1, random_state=42)"
      ],
      "execution_count": null,
      "outputs": []
    },
    {
      "cell_type": "code",
      "metadata": {
        "id": "GhKx_GZc_D_S",
        "outputId": "115a934b-0b78-40db-fbc3-1028592c8031"
      },
      "source": [
        "model = LogisticRegression(multi_class = 'auto', n_jobs = -1)\n",
        "model.fit(X_train, y_train)\n",
        "preds = model.predict(X_test)\n",
        "\n",
        "print(f'test accuracy: {accuracy_score(y_test, preds)}')\n",
        "print(f'cv_accuracy {np.average(cross_val_score(model, X_train, y_train, cv=5, scoring=\"accuracy\", n_jobs = -1))}')"
      ],
      "execution_count": null,
      "outputs": [
        {
          "output_type": "stream",
          "text": [
            "test accuracy: 0.5173913043478261\n",
            "cv_accuracy 0.44106280193236713\n"
          ],
          "name": "stdout"
        }
      ]
    },
    {
      "cell_type": "code",
      "metadata": {
        "id": "hbknlj1f_D_T",
        "outputId": "bebf6eb3-9da1-4a23-d498-ce7d4e3f9da5"
      },
      "source": [
        "np.random.seed(42)\n",
        "model = RandomForestClassifier(n_jobs = -1)\n",
        "model.fit(X_train, y_train)\n",
        "preds = model.predict(X_test)\n",
        "print(f'test accuracy: {accuracy_score(y_test, preds)}')\n",
        "print(f'cv_accuracy {np.average(cross_val_score(model, X_train, y_train, cv=5, scoring=\"accuracy\", n_jobs = -1))}')"
      ],
      "execution_count": null,
      "outputs": [
        {
          "output_type": "stream",
          "text": [
            "test accuracy: 0.5652173913043478\n",
            "cv_accuracy 0.5115942028985507\n"
          ],
          "name": "stdout"
        }
      ]
    },
    {
      "cell_type": "markdown",
      "metadata": {
        "id": "8DXgDoYd_D_T"
      },
      "source": [
        "С MinMaxScaler результат лучше"
      ]
    },
    {
      "cell_type": "markdown",
      "metadata": {
        "id": "xKoSAkW9_D_T"
      },
      "source": [
        "#### Переберем параметры"
      ]
    },
    {
      "cell_type": "code",
      "metadata": {
        "id": "JonqkHdc_D_T",
        "outputId": "22151e55-8492-40da-cb17-151bb9a29663"
      },
      "source": [
        "import warnings\n",
        "warnings.filterwarnings('ignore')\n",
        "from sklearn.model_selection import GridSearchCV\n",
        "parameters = {'penalty':('l1', 'l2', 'elasticnet', 'none'), \n",
        "              'solver' : ('newton-cg', 'lbfgs', 'liblinear', 'sag', 'saga')}\n",
        "model = LogisticRegression()\n",
        "gs = GridSearchCV(model, parameters, scoring = 'accuracy', verbose = 10, n_jobs = -1)\n",
        "gs.fit(X_train, y_train)\n",
        "preds = gs.predict(X_test)\n",
        "\n",
        "print(f'accuracy: {accuracy_score(y_test, preds)}')"
      ],
      "execution_count": null,
      "outputs": [
        {
          "output_type": "stream",
          "text": [
            "Fitting 5 folds for each of 20 candidates, totalling 100 fits\n"
          ],
          "name": "stdout"
        },
        {
          "output_type": "stream",
          "text": [
            "[Parallel(n_jobs=-1)]: Using backend LokyBackend with 8 concurrent workers.\n",
            "[Parallel(n_jobs=-1)]: Batch computation too fast (0.0662s.) Setting batch_size=2.\n",
            "[Parallel(n_jobs=-1)]: Done   2 tasks      | elapsed:    0.0s\n",
            "[Parallel(n_jobs=-1)]: Done   9 tasks      | elapsed:    0.0s\n",
            "[Parallel(n_jobs=-1)]: Batch computation too fast (0.0520s.) Setting batch_size=4.\n",
            "[Parallel(n_jobs=-1)]: Done  18 tasks      | elapsed:    2.7s\n",
            "[Parallel(n_jobs=-1)]: Done  34 tasks      | elapsed:    6.8s\n",
            "[Parallel(n_jobs=-1)]: Batch computation too slow (5.9142s.) Setting batch_size=1.\n",
            "[Parallel(n_jobs=-1)]: Done  61 tasks      | elapsed:   10.9s\n",
            "[Parallel(n_jobs=-1)]: Done  77 tasks      | elapsed:   13.4s\n",
            "[Parallel(n_jobs=-1)]: Done  85 out of 100 | elapsed:   15.3s remaining:    2.6s\n",
            "[Parallel(n_jobs=-1)]: Done  96 out of 100 | elapsed:   45.2s remaining:    1.8s\n",
            "[Parallel(n_jobs=-1)]: Done 100 out of 100 | elapsed:  2.1min finished\n"
          ],
          "name": "stderr"
        },
        {
          "output_type": "stream",
          "text": [
            "accuracy: 0.5\n"
          ],
          "name": "stdout"
        }
      ]
    },
    {
      "cell_type": "code",
      "metadata": {
        "id": "5s8ElNPM_D_T",
        "outputId": "cfc07722-d288-44b6-ef4e-2756afbf68a9"
      },
      "source": [
        "gs.best_params_"
      ],
      "execution_count": null,
      "outputs": [
        {
          "output_type": "execute_result",
          "data": {
            "text/plain": [
              "{'penalty': 'l1', 'solver': 'liblinear'}"
            ]
          },
          "metadata": {
            "tags": []
          },
          "execution_count": 42
        }
      ]
    },
    {
      "cell_type": "markdown",
      "metadata": {
        "id": "hF3jkmWA_D_U"
      },
      "source": [
        "Данные параметры дают лучший скор на кросвале обучающей выборки, но именно на нашем тестовом датасете результат оказывается меньше, чем при дефолтных параметрах. Хотя в общем случае такие параметры скорее всего покажут себя лучше\n",
        "\n",
        "Для чистоты эксперимента я буду продолжать на параметрах, которые выдал GridSearchCV, хотя они и выдают меньший скор, т.к. сейчас у меня стоит seed=42 на разбиение выборок и поэтому разбиение нельзя назвать случайным, возможно данные в тестовой выборке распределились специфично, поэтому дефолтные параметры модели на ней показывают себя лучше"
      ]
    },
    {
      "cell_type": "markdown",
      "metadata": {
        "id": "xjzu86GW_D_U"
      },
      "source": [
        "#### Повторим все то же самое для случайного леса"
      ]
    },
    {
      "cell_type": "code",
      "metadata": {
        "id": "ll1a-7_9_D_U",
        "outputId": "8fda045e-58a5-4ad2-cb37-65708962e920"
      },
      "source": [
        "import warnings\n",
        "warnings.filterwarnings('ignore')\n",
        "from sklearn.model_selection import GridSearchCV\n",
        "parameters = {'n_estimators':(1, 5, 10, 50, 100, 500, 1000), \n",
        "              'criterion' : ('gini', 'entropy'), 'max_depth' : ('None', 5, 50, 100, 1000),\n",
        "             'min_samples_split' : (1, 2, 5, 10, 50, 100), 'min_samples_leaf' : (1, 2, 5, 10),\n",
        "             'max_features' : ('auto', 'sqrt', 'log2')}\n",
        "model = RandomForestClassifier()\n",
        "gs = GridSearchCV(model, parameters, scoring = 'accuracy', verbose = 10, n_jobs = -1)\n",
        "gs.fit(X_train, y_train)\n",
        "preds = gs.predict(X_test)\n",
        "\n",
        "print(f'accuracy: {accuracy_score(y_test, preds)}')"
      ],
      "execution_count": null,
      "outputs": [
        {
          "output_type": "error",
          "ename": "SyntaxError",
          "evalue": "'break' outside loop (<ipython-input-44-80a4452b9c8e>, line 1)",
          "traceback": [
            "\u001b[1;36m  File \u001b[1;32m\"<ipython-input-44-80a4452b9c8e>\"\u001b[1;36m, line \u001b[1;32m1\u001b[0m\n\u001b[1;33m    break\u001b[0m\n\u001b[1;37m    ^\u001b[0m\n\u001b[1;31mSyntaxError\u001b[0m\u001b[1;31m:\u001b[0m 'break' outside loop\n"
          ]
        }
      ]
    },
    {
      "cell_type": "markdown",
      "metadata": {
        "id": "tGgSRO_w_D_U"
      },
      "source": [
        "Я уже один раз подобрал параметры, но перезапускал все ячейки, поэтому пришлось в этот раз 'убить' GridSearchCV, чтобы не ждать еще несколько часов."
      ]
    },
    {
      "cell_type": "code",
      "metadata": {
        "id": "BZrAXZwo_D_V"
      },
      "source": [
        "gs.best_params_"
      ],
      "execution_count": null,
      "outputs": []
    },
    {
      "cell_type": "markdown",
      "metadata": {
        "id": "Udx0FWWu_D_V"
      },
      "source": [
        "Запуск при подобранных параметрах"
      ]
    },
    {
      "cell_type": "code",
      "metadata": {
        "id": "jOubzggT_D_V",
        "outputId": "fe15ecb5-3bce-47b9-ccb2-036ddaf7c06b"
      },
      "source": [
        "np.random.seed(42)\n",
        "model = RandomForestClassifier(n_jobs = -1, criterion = 'gini', max_depth = 50, max_features = 'auto', min_samples_leaf = 2,\n",
        "                              min_samples_split = 2, n_estimators = 1000)\n",
        "model.fit(X_train, y_train)\n",
        "preds = model.predict(X_test)\n",
        "print(f'test accuracy: {accuracy_score(y_test, preds)}')\n",
        "print(f'cv_accuracy {np.average(cross_val_score(model, X_train, y_train, cv=5, scoring=\"accuracy\", n_jobs = -1))}')"
      ],
      "execution_count": null,
      "outputs": [
        {
          "output_type": "stream",
          "text": [
            "test accuracy: 0.5347826086956522\n",
            "cv_accuracy 0.5318840579710146\n"
          ],
          "name": "stdout"
        }
      ]
    },
    {
      "cell_type": "markdown",
      "metadata": {
        "id": "fCe7ZHiV_D_V"
      },
      "source": [
        "Так как случайнй лес показывает результат заметно лучше, чем лог регрессия, то далее буду пытаться улучшать его точность."
      ]
    },
    {
      "cell_type": "markdown",
      "metadata": {
        "id": "0Y2ml_Hq_D_V"
      },
      "source": [
        "Опять-таки лучшая модель по результатам GridSearchCV на тестовой выборке показала результат хуже, чем модель из коробки. Но я думаю, что это связано с неудачным разбиением train_test_split и поэтому лучшая модель не показывает на тестовой выборке лучший результат."
      ]
    },
    {
      "cell_type": "markdown",
      "metadata": {
        "id": "H8HzDjYB_D_V"
      },
      "source": [
        "Далее я буду использовать кроссвалидацию, чтобы не сталкиваться с этой проблемой"
      ]
    },
    {
      "cell_type": "markdown",
      "metadata": {
        "id": "hJ6YYOxs_D_W"
      },
      "source": [
        "### Теперь попробуем работать с фичами"
      ]
    },
    {
      "cell_type": "markdown",
      "metadata": {
        "id": "AaboJzBn_D_W"
      },
      "source": [
        "Отбор признаков методом ANOVA"
      ]
    },
    {
      "cell_type": "code",
      "metadata": {
        "id": "4cMNU0Mf_D_W",
        "outputId": "e3b6469b-45d0-4641-d22f-aadc389ecf19"
      },
      "source": [
        "from sklearn.feature_selection import SelectKBest, f_classif\n",
        "\n",
        "accuracy_results = []\n",
        "for i in tqdm(np.arange(1,72)):\n",
        "    \n",
        "    x_train_kbest = SelectKBest(f_classif, k=i).fit_transform(X_train, y_train)\n",
        "    \n",
        "\n",
        "    np.random.seed(42)\n",
        "    model = RandomForestClassifier(n_jobs = -1, criterion = 'gini', max_depth = 50, max_features = 'auto', min_samples_leaf = 2,\n",
        "                              min_samples_split = 2, n_estimators = 1000)\n",
        "    \n",
        "    \n",
        "    accuracy_results.append(np.average(cross_val_score(model, x_train_kbest, y_train, cv=5, scoring='accuracy', n_jobs = -1)))"
      ],
      "execution_count": null,
      "outputs": [
        {
          "output_type": "stream",
          "text": [
            "100%|██████████████████████████████████████████████████████████████████████████████████| 71/71 [10:27<00:00,  8.84s/it]\n"
          ],
          "name": "stderr"
        }
      ]
    },
    {
      "cell_type": "code",
      "metadata": {
        "id": "I7QfyR71_D_W",
        "outputId": "52b4fc1e-c556-46c5-f245-136baa8f9535"
      },
      "source": [
        "plt.figure(figsize=(10, 6))\n",
        "plt.plot(np.arange(1,72), accuracy_results)\n",
        "plt.title('ANOVA')\n",
        "plt.ylabel('accuracy')\n",
        "plt.xlabel('k')\n",
        "plt.show()\n",
        "print(f'the best k = {np.argmax(accuracy_results) + 1}')\n",
        "print(f'the best cv_accuracy_score = {sorted(accuracy_results)[-1]}')"
      ],
      "execution_count": null,
      "outputs": [
        {
          "output_type": "display_data",
          "data": {
            "image/png": "[encoded data removed]",
            "text/plain": [
              "<Figure size 720x432 with 1 Axes>"
            ]
          },
          "metadata": {
            "tags": [],
            "needs_background": "light"
          }
        },
        {
          "output_type": "stream",
          "text": [
            "the best k = 39\n",
            "the best cv_accuracy_score = 0.5410628019323671\n"
          ],
          "name": "stdout"
        }
      ]
    },
    {
      "cell_type": "markdown",
      "metadata": {
        "id": "K4YtD5LR_D_W"
      },
      "source": [
        "Создадим новый датасет с лучшими параметрами для метода ANOVA"
      ]
    },
    {
      "cell_type": "code",
      "metadata": {
        "id": "Zb0LzrGE_D_X",
        "outputId": "47658a23-ed1f-4cb8-ad74-ef2d7068f4f7"
      },
      "source": [
        "x_data_kbest = SelectKBest(f_classif, k=39).fit_transform(X, y)\n",
        "    \n",
        "X_train, X_test, y_train, y_test = train_test_split(\n",
        "    x_data_kbest, y, test_size=0.1, random_state=42)\n",
        "    \n",
        "np.random.seed(42)\n",
        "model = RandomForestClassifier(n_jobs = -1, criterion = 'gini', max_depth = 50, max_features = 'auto', min_samples_leaf = 2,\n",
        "                              min_samples_split = 2, n_estimators = 1000)\n",
        "model.fit(X_train, y_train)\n",
        "preds = model.predict(X_test)\n",
        "print(f'accuracy: {accuracy_score(y_test, preds)}')    "
      ],
      "execution_count": null,
      "outputs": [
        {
          "output_type": "stream",
          "text": [
            "accuracy: 0.5565217391304348\n"
          ],
          "name": "stdout"
        }
      ]
    },
    {
      "cell_type": "markdown",
      "metadata": {
        "id": "tIWRepaY_D_X"
      },
      "source": [
        "Опять интересная картина. Результат на кросвале вырос, но на тестовой выборке все еще ниже чем при запуске модели из коробки. Думаю что это связано с неудачным разбиением при заданном сиде. \n",
        "\n",
        "Возможно я переобучаюсь, но мне кажется что кросс валидация дает более значимый результат (благодаря многократному разбиению), чем тестовая выборка."
      ]
    },
    {
      "cell_type": "markdown",
      "metadata": {
        "id": "r8YROt-w_D_X"
      },
      "source": [
        "1) Полиномиальные фичи"
      ]
    },
    {
      "cell_type": "code",
      "metadata": {
        "id": "WBlq69jL_D_X",
        "outputId": "060f0435-fef1-4297-fbcb-bd6b19c1ff9f"
      },
      "source": [
        "from sklearn.preprocessing import PolynomialFeatures\n",
        "\n",
        "\n",
        "accuracy_results = []\n",
        "for i in tqdm(np.arange(1,4)):\n",
        "    \n",
        "    poly = PolynomialFeatures(degree = i)\n",
        "    X_poly = poly.fit_transform(X_train)\n",
        "\n",
        "    np.random.seed(42)\n",
        "    model = RandomForestClassifier(n_jobs = -1, criterion = 'gini', max_depth = 50, max_features = 'auto', min_samples_leaf = 2,\n",
        "                              min_samples_split = 2, n_estimators = 1000)\n",
        "\n",
        "    accuracy_results.append(np.average(cross_val_score(model, X_poly, y_train, cv=5, scoring='accuracy', n_jobs = -1)))"
      ],
      "execution_count": null,
      "outputs": [
        {
          "output_type": "stream",
          "text": [
            "100%|████████████████████████████████████████████████████████████████████████████████████| 3/3 [02:59<00:00, 59.69s/it]\n"
          ],
          "name": "stderr"
        }
      ]
    },
    {
      "cell_type": "code",
      "metadata": {
        "id": "2ePJ9Nx1_D_Y",
        "outputId": "99e45662-fb7c-4020-fb60-f466fc445370"
      },
      "source": [
        "plt.figure(figsize=(10, 6))\n",
        "plt.plot(np.arange(1,4), accuracy_results)\n",
        "plt.title('PolynomialFeatures')\n",
        "plt.ylabel('cv_accuracy')\n",
        "plt.xlabel('poly_degree')\n",
        "plt.show()\n",
        "print(f'the best degree = {np.argmax(accuracy_results) + 1}')\n",
        "print(f'the best cv_accuracy = {sorted(accuracy_results)[-1]}')"
      ],
      "execution_count": null,
      "outputs": [
        {
          "output_type": "display_data",
          "data": {
            "image/png": "[encoded data removed]",
            "text/plain": [
              "<Figure size 720x432 with 1 Axes>"
            ]
          },
          "metadata": {
            "tags": [],
            "needs_background": "light"
          }
        },
        {
          "output_type": "stream",
          "text": [
            "the best degree = 1\n",
            "the best cv_accuracy = 0.5333333333333334\n"
          ],
          "name": "stdout"
        }
      ]
    },
    {
      "cell_type": "markdown",
      "metadata": {
        "id": "jo4IhX2c_D_Y"
      },
      "source": [
        "Полиномиальные фичи не помогли"
      ]
    },
    {
      "cell_type": "markdown",
      "metadata": {
        "id": "Hft56CKI_D_Y"
      },
      "source": [
        "### Подведу итог"
      ]
    },
    {
      "cell_type": "markdown",
      "metadata": {
        "id": "6tNN9Fld_D_Y"
      },
      "source": [
        "Лучшей моделью по итогу оказался RandomForest. На кросс валидации(по обучающей выборке) результат вырос c 0.512 до 0.543, на тестовой выборке первый запуск показал 0.53,\n",
        "по итогу получилось выбить 0.556, хотя это и не лучший результат, так как до подбора пармаетров и работы с фичами я выбивал 0.565. Но все-таки я склояняюсь к тому, что 0.556 - это более честный результат, ведь на кросс валидации модель после преобразований показала себя лучше, а значит в общем случае она находит зависимости в данных лучше\n"
      ]
    }
  ]
}